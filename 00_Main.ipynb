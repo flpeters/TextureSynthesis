{
 "cells": [
  {
   "cell_type": "markdown",
   "id": "ca2dab09",
   "metadata": {},
   "source": [
    "# Präsentation"
   ]
  },
  {
   "cell_type": "markdown",
   "id": "d2a04cfb",
   "metadata": {},
   "source": [
    "https://oskarstalberg.com/game/wave/wave.html"
   ]
  },
  {
   "cell_type": "markdown",
   "id": "955db413",
   "metadata": {},
   "source": [
    "Überblick:\n",
    "1. Einleitung - Was ist Wave Function Collapse\n",
    "2. Zwei Varianten - Das Original, und die Verallgemeinerung\n",
    "3. High Level Überblick über die zwei Stages des Algorithmus\n",
    "    1. a\n",
    "4. Erklärung des original Algorithmus\n",
    "    \n",
    "5. Erklärung des Verallgemeinerten Algorithmus"
   ]
  },
  {
   "cell_type": "markdown",
   "id": "bbbcf79c",
   "metadata": {},
   "source": [
    "Der Algorithmus besteht aus zwei phasen:\n",
    "1. Beschaffung der Metadaten (Content Segmente, und Nachbarschafts regeln)\n",
    "2. Füllen aller Slots mit den Content Segmenten, unter beachtung der Nachbarschafts regeln."
   ]
  },
  {
   "cell_type": "markdown",
   "id": "e904ef9b",
   "metadata": {},
   "source": [
    "Wave Function Collapse is an algorithm in the family of Procedural Generation Algorithms.  \n",
    "The purpose of the original version is to generate images on a 2D pixel grid by relying solely on local adjecency rules infered from an example image.  \n",
    "\n",
    "This original version has seen a number of modifications and extensions over time, including but not limited to:  \n",
    "- Generalizing to 3D (or any other dimension, although that is not as practical)\n",
    "- Become content agnostic, meaning it doesn't work on pixel values, but abstract \"tiles\"\n",
    "- changing how adjecency rules are gathered\n",
    "- including global or regional constraints like generating a certain feature exactly once in the entire output"
   ]
  },
  {
   "cell_type": "markdown",
   "id": "64599856",
   "metadata": {},
   "source": [
    "## Zwei Varianten des WFC Algorithmus"
   ]
  },
  {
   "cell_type": "markdown",
   "id": "0785eeed",
   "metadata": {},
   "source": [
    "### Kernel Based"
   ]
  },
  {
   "cell_type": "markdown",
   "id": "f94e1ada",
   "metadata": {},
   "source": [
    "Example: Caves of Qud"
   ]
  },
  {
   "cell_type": "markdown",
   "id": "6f687133",
   "metadata": {},
   "source": [
    "```python\n",
    "def KernelWFC(InputImage:Image,\n",
    "              KernelSize:(int, int),\n",
    "              OutputSize:(int, int),\n",
    "              WrapInput :bool,\n",
    "              WrapOutput:bool,\n",
    "              Symmetries:int,\n",
    "              FrequencyHints:bool) -> Image:\n",
    "    ...\n",
    "```"
   ]
  },
  {
   "cell_type": "markdown",
   "id": "4faeb02f",
   "metadata": {},
   "source": [
    "Loading:  \n",
    "- Takes an existing image as input\n",
    "- Extracts all patches of configurable size (usually 3x3) from the input image"
   ]
  },
  {
   "cell_type": "markdown",
   "id": "0040b5c2",
   "metadata": {},
   "source": [
    "Generating:\n",
    "- Picks "
   ]
  },
  {
   "cell_type": "markdown",
   "id": "e3050a16",
   "metadata": {},
   "source": [
    "The Tiles and the neighboorhood rules can be generated from an existing example.  \n",
    "1. For that purpose the image (2D) or mesh (3D) is analyzed for equally sized cells which appear multiple times (in essence what a compression algorithm would do).\n",
    "2. The szene is then split into these discrete chunks, and the neighboors of each chunk are analysed for infer neighboorhood rules.  \n",
    "3. The downside here is that variations that did not appear in the input, but would be consistent with its rules will not appear in the output. The output will however look quite similar structurally to the input."
   ]
  },
  {
   "cell_type": "markdown",
   "id": "24149bcd",
   "metadata": {},
   "source": [
    "```python\n",
    "def Run():\n",
    "    PatternsFromSample()\n",
    "    BuildPropagator() # auch genannt index\n",
    "    while not finished:\n",
    "        Observe()\n",
    "        Propagate()\n",
    "    OutputObservations()\n",
    "```"
   ]
  },
  {
   "cell_type": "markdown",
   "id": "6fe9d7c6",
   "metadata": {},
   "source": [
    "```python\n",
    "def Observe(coefficient_matrix):\n",
    "    FindLowestEntropy()\n",
    "    if there is a contradiction: throw an error and quit\n",
    "    if all cells are at entropy 0:\n",
    "        processing is complete\n",
    "        return CollapsedObservations()\n",
    "    else:\n",
    "        Choose a pattern by a random sample, weighted by the\n",
    "            pattern frequency in the source data\n",
    "        Set the boolean array in this cell to false, except\n",
    "            for the chosen pattern\n",
    "```"
   ]
  },
  {
   "cell_type": "markdown",
   "id": "740b7900",
   "metadata": {},
   "source": [
    "```python\n",
    "def FindLowestEntropy(coefficient_matrix):\n",
    "    Return the cell that has the lowest greater-than-zero\n",
    "        entropy, defined as:\n",
    "        A cell with one valid pattern has 0 entropy\n",
    "        A cell with no valid patterns is a contradiction\n",
    "        else: the entropy is based on the sum of the frequency\n",
    "            that the patterns appear in the source data, plus\n",
    "            Use some random noise to break ties and\n",
    "                near-ties.\n",
    "```"
   ]
  },
  {
   "cell_type": "markdown",
   "id": "351e469f",
   "metadata": {},
   "source": [
    "```python\n",
    "def Propagate(coefficient_matrix): # flood-fill\n",
    "    while more cells are left to be update:\n",
    "        for each neighboring cell:\n",
    "            for each pattern that is still potentially valid:\n",
    "                Compare this location in the pattern with the cell's values\n",
    "                    if this point in the pattern no longer matches:\n",
    "                        Set the array in the wave to false for this pattern\n",
    "                        Flag this cell as needing to be updated in the next iteration\n",
    "```"
   ]
  },
  {
   "cell_type": "markdown",
   "id": "39ec1e04",
   "metadata": {},
   "source": [
    "```python\n",
    "def OutputObservations(coefficient_matrix):\n",
    "    for each cell:\n",
    "        Set observed value to the average of the color value\n",
    "            of this cell in the pattern for the remaining valid patterns\n",
    "    return the observed values as an output image\n",
    "```"
   ]
  },
  {
   "cell_type": "markdown",
   "id": "b411119f",
   "metadata": {},
   "source": [
    "### Tile Based"
   ]
  },
  {
   "cell_type": "markdown",
   "id": "0e7ec06e",
   "metadata": {},
   "source": [
    "Example: bad north, townscaper"
   ]
  },
  {
   "cell_type": "markdown",
   "id": "2d006dce",
   "metadata": {},
   "source": [
    "```python\n",
    "def TileWFC(AdjacencyRules:dict,\n",
    "            OutputSize:(int, int),\n",
    "            WrapOutput:bool,\n",
    "            Symmetries:int,\n",
    "            FrequencyHints:bool) -> Image:\n",
    "    ...\n",
    "```"
   ]
  },
  {
   "cell_type": "markdown",
   "id": "1ff156ee",
   "metadata": {},
   "source": [
    "1. Have a set of tiles that will make up the world, together with rules which tiles fit next to each other.\n",
    "2. Pick a random empty tile in the world and randomly choose one of the tiles to fill it with\n",
    "3. Now propagate the neighboorhood rules to all cells, eliminating possibilities for which tiles can be placed where\n",
    "4. Chose the empty tile with the lowest number of possibilities, and randomly pick one of the possible tiles to place there\n",
    "5. Repeate the above steps until there are no more empty tiles.\n",
    "6. Ein Backtracking ist evtl. notwendig wenn der algorithmus an einen punkt gelangt wo eine zelle keine möglichen tiles hat die dort plaziert werden könnten.\n",
    "7. Wenn die regeln nicht gut gewählt sind, kann es (glaube ich) dazu kommen, dass bestimmte features nie generiert werden, oder dass man an einem Punkt ankommt wo eine zelle keine möglichen ausprägungen mehr hat."
   ]
  },
  {
   "cell_type": "markdown",
   "id": "6907855e",
   "metadata": {},
   "source": [
    "## Algorithm"
   ]
  },
  {
   "cell_type": "markdown",
   "id": "55b7aaf8",
   "metadata": {},
   "source": [
    "## Global and local constraints"
   ]
  },
  {
   "cell_type": "markdown",
   "id": "415be99e",
   "metadata": {},
   "source": [
    "#### Global restarts vs backtracking"
   ]
  },
  {
   "cell_type": "markdown",
   "id": "95882510",
   "metadata": {},
   "source": [
    "## Sources"
   ]
  },
  {
   "cell_type": "markdown",
   "id": "21257703",
   "metadata": {},
   "source": [
    "- [1] Superpositions, Sudoku, the Wave Function Collapse algorithm.\n",
    "    - https://youtu.be/2SuvO4Gi7uY\n",
    "    - [Martin Donald](https://www.youtube.com/c/MartinDonald)\n",
    "- [2] Why I'm Using Wave Function Collapse for Procedural Terrain | Unity Devlog\n",
    "    - https://youtu.be/20KHNA9jTsE\n",
    "    - [DV Gen](https://www.youtube.com/channel/UCt9Rb0CWT8-bbsJtUOg6BsA)\n",
    "- [3] Playing With The Wave Function Collapse Algorithm\n",
    "    - https://youtu.be/GeBI9Bvo9oM\n",
    "    - [Giant Bee](https://www.youtube.com/channel/UCMmnI7Fm3CglKF2AIpvGrLg)\n",
    "- [4] How Townscaper Works: A Story Four Games in the Making | AI and Games\n",
    "    - https://youtu.be/_1fvJ5sHh6A\n",
    "    - [AI and Games](https://www.youtube.com/c/AIGamesSeries)\n",
    "- [5] Wave Function Collapse Tutorial Unity (Playlist)\n",
    "    - https://youtube.com/playlist?list=PLcRSafycjWFeKAS40OdIvhL7j-vsgE3eg\n",
    "    - [Sunny Valley Studio](https://www.youtube.com/c/SunnyValleyStudio)\n",
    "- [6] EPC2018 - Oskar Stalberg - Wave Function Collapse in Bad North\n",
    "    - https://youtu.be/0bcZb-SsnrA\n",
    "    - [BUas Games](https://www.youtube.com/channel/UC60WsaNESJpLHZ5Hjpuy7UQ)\n",
    "- [7] Markov Chain based Wave Function Collapse\n",
    "    - https://youtu.be/0W7yCuwlrbU\n",
    "    - [Pronay Peddiraju](https://www.youtube.com/channel/UCZ6Pq8Ko3EUoVapphx8Pl0g)\n",
    "- [8] Tile-Based Map Generation using Wave Function Collapse in 'Caves of Qud'\n",
    "    - https://youtu.be/AdCgi9E90jw\n",
    "    - [GDC](https://www.youtube.com/channel/UC0JB7TSe49lg56u6qH8y_MQ)\n",
    "- [9] WaveFunctionCollapse is Constraint Solving in the Wild\n",
    "    - https://adamsmith.as/papers/wfc_is_constraint_solving_in_the_wild.pdf\n",
    "    - Isaac Karth, Adam M. Smith (2017)\n",
    "- [10] Townscaper Announcement Trailer\n",
    "    - https://youtu.be/QtVkteAS15M\n",
    "    - [Raw Fury](https://www.youtube.com/channel/UCbyFV2lioP9a1YlUC4gm6xA)\n",
    "- [11] Interactive Wave Function Collapse Demo\n",
    "    - https://oskarstalberg.com/game/wave/wave.html\n",
    "    - [Oskar Stålberg](oskarstalberg.com)\n",
    "- [12] Original Wave Function Collapse GitHub Repo\n",
    "    - https://github.com/mxgmn/WaveFunctionCollapse\n",
    "    - [Maxim Gumin](https://github.com/mxgmn)\n",
    "- [13] Procedural Generation with Wave Function Collapse\n",
    "    - https://www.gridbugs.org/wave-function-collapse/\n",
    "    - [Grid Bugs](https://www.gridbugs.org/)"
   ]
  },
  {
   "cell_type": "markdown",
   "id": "9ac842e8",
   "metadata": {},
   "source": [
    "# Code"
   ]
  },
  {
   "cell_type": "code",
   "execution_count": null,
   "id": "c37caef3",
   "metadata": {},
   "outputs": [],
   "source": [
    "import matplotlib.pyplot as plt\n",
    "import matplotlib.animation as animation\n",
    "import numpy as np\n",
    "from copy import deepcopy\n",
    "from pprint import pprint"
   ]
  },
  {
   "cell_type": "code",
   "execution_count": null,
   "id": "1df29b71",
   "metadata": {},
   "outputs": [],
   "source": [
    "choice = np.random.choice"
   ]
  },
  {
   "cell_type": "markdown",
   "id": "7c8b7839",
   "metadata": {},
   "source": [
    "## Visualization"
   ]
  },
  {
   "cell_type": "code",
   "execution_count": null,
   "id": "7a7b380d",
   "metadata": {},
   "outputs": [],
   "source": [
    "import cv2\n",
    "import os\n",
    "import re\n",
    "import shutil\n",
    "from pathlib import Path\n",
    "from IPython.display import clear_output\n",
    "import numpy as np\n",
    "import ctypes\n",
    "from ctypes import *\n",
    "from collections import deque\n",
    "import time"
   ]
  },
  {
   "cell_type": "markdown",
   "id": "aeb97212",
   "metadata": {},
   "source": [
    "### Events"
   ]
  },
  {
   "cell_type": "code",
   "execution_count": null,
   "id": "27ed8e5c",
   "metadata": {},
   "outputs": [
    {
     "name": "stdout",
     "output_type": "stream",
     "text": [
      "['EVENT_FLAG_ALTKEY', 'EVENT_FLAG_CTRLKEY', 'EVENT_FLAG_LBUTTON', 'EVENT_FLAG_MBUTTON', 'EVENT_FLAG_RBUTTON', 'EVENT_FLAG_SHIFTKEY', 'EVENT_LBUTTONDBLCLK', 'EVENT_LBUTTONDOWN', 'EVENT_LBUTTONUP', 'EVENT_MBUTTONDBLCLK', 'EVENT_MBUTTONDOWN', 'EVENT_MBUTTONUP', 'EVENT_MOUSEHWHEEL', 'EVENT_MOUSEMOVE', 'EVENT_MOUSEWHEEL', 'EVENT_RBUTTONDBLCLK', 'EVENT_RBUTTONDOWN', 'EVENT_RBUTTONUP']\n"
     ]
    }
   ],
   "source": [
    "print([i for i in dir(cv2) if 'EVENT' in i])"
   ]
  },
  {
   "cell_type": "markdown",
   "id": "acf434b2",
   "metadata": {},
   "source": [
    "OpenCV Mouse Event Docs  \n",
    "https://docs.opencv.org/3.4/d0/d90/group__highgui__window__flags.html  "
   ]
  },
  {
   "cell_type": "markdown",
   "id": "1f88325b",
   "metadata": {},
   "source": [
    "### Window"
   ]
  },
  {
   "cell_type": "code",
   "execution_count": null,
   "id": "1f5ba4fa",
   "metadata": {},
   "outputs": [],
   "source": [
    "def open_window(WindowName, Width, Height):\n",
    "    cv2.namedWindow(WindowName,cv2.WINDOW_NORMAL | cv2.WINDOW_KEEPRATIO | cv2.WINDOW_GUI_EXPANDED)\n",
    "    cv2.resizeWindow(WindowName, Width, Height)\n",
    "    cv2.moveWindow(WindowName, 1000,200)\n",
    "    cv2.setWindowProperty(WindowName, cv2.WND_PROP_TOPMOST, 1)"
   ]
  },
  {
   "cell_type": "code",
   "execution_count": null,
   "id": "495b6fea",
   "metadata": {},
   "outputs": [],
   "source": [
    "def get_mouse_event_queue(WindowName):\n",
    "    \"Convert Mouse Callback -> FIFO Queue\"\n",
    "    MouseEventQueue = deque()\n",
    "    def mouse_callback(Event, X, Y, Flags, Param):\n",
    "        MouseEventQueue.append((Event, X, Y, Flags, Param))\n",
    "    cv2.setMouseCallback(WindowName, mouse_callback)\n",
    "    return MouseEventQueue"
   ]
  },
  {
   "cell_type": "code",
   "execution_count": null,
   "id": "06ef1ec0",
   "metadata": {},
   "outputs": [],
   "source": [
    "class EXITCODES:\n",
    "    CONTINUE = 0\n",
    "    QUIT     = 1"
   ]
  },
  {
   "cell_type": "code",
   "execution_count": null,
   "id": "9afe0f1c",
   "metadata": {},
   "outputs": [],
   "source": [
    "# class ACTIONS:\n",
    "#     CONTINUE\n",
    "#     QUIT\n",
    "    "
   ]
  },
  {
   "cell_type": "code",
   "execution_count": null,
   "id": "9270b153",
   "metadata": {},
   "outputs": [],
   "source": [
    "class STATE:\n",
    "    WindowName:str   = 0\n",
    "    WindowWidth:int  = 0\n",
    "    WindowHeight:int = 0\n",
    "    \n",
    "    ImageGenerator:iter = 0\n",
    "    Images:list = 0\n",
    "    \n",
    "    AppStartTime:float = 0\n",
    "    \n",
    "    RenderState:dict = 0"
   ]
  },
  {
   "cell_type": "code",
   "execution_count": null,
   "id": "33cdf8fe",
   "metadata": {},
   "outputs": [],
   "source": [
    "def handle_keypresses():\n",
    "    ExitCode = EXITCODES.CONTINUE\n",
    "    Key = cv2.pollKey()\n",
    "    while Key != -1:\n",
    "        # NOTE: Process keys here\n",
    "        Key = Key & 0xFF\n",
    "        ExitCode = KeyBinds.get(Key, ExitCode) # no match -> no change\n",
    "        Key = cv2.pollKey()\n",
    "    return ExitCode"
   ]
  },
  {
   "cell_type": "code",
   "execution_count": null,
   "id": "a0862abd",
   "metadata": {},
   "outputs": [],
   "source": [
    "def handle_mouseinput(MouseEvents):\n",
    "    while(1):\n",
    "        try: Event, X, Y, Flags, Param = MouseEvents.popleft()\n",
    "        except IndexError: break # MouseEvents is Empty\n",
    "        if Event == cv2.EVENT_MOUSEMOVE:\n",
    "            pass\n",
    "        elif Event == cv2.EVENT_LBUTTONDOWN:\n",
    "            pass\n",
    "        elif Event == cv2.EVENT_LBUTTONUP:\n",
    "            pass\n",
    "        elif Event == cv2.EVENT_RBUTTONDOWN:\n",
    "            pass\n",
    "        elif Event == cv2.EVENT_RBUTTONUP:\n",
    "            pass"
   ]
  },
  {
   "cell_type": "code",
   "execution_count": null,
   "id": "fed9fd24",
   "metadata": {},
   "outputs": [],
   "source": [
    "def render(State, Buffer, DeltaTime):\n",
    "    if State.RenderState == 0: State.RenderState = dict()\n",
    "    if State.Images      == 0: State.Images      = list()\n",
    "    try: State.Images.append(next(State.ImageGenerator))\n",
    "    except StopIteration: pass\n",
    "    # Get the next image\n",
    "    if 'FrameID' in State.RenderState:\n",
    "        FrameID = State.RenderState['FrameID']\n",
    "    else:\n",
    "        State.RenderState['FrameID'] = 0\n",
    "        FrameID = 0\n",
    "    if FrameID >= len(State.Images): FrameID = 0\n",
    "    Frame = State.Images[FrameID]\n",
    "    FrameID += 1\n",
    "    State.RenderState['FrameID'] = FrameID\n",
    "    \n",
    "    # Copy image to Buffer\n",
    "    FrameHeight, FrameWidth, *_ = Frame.shape\n",
    "    Buffer[0:FrameHeight, 0:FrameWidth] = Frame"
   ]
  },
  {
   "cell_type": "code",
   "execution_count": null,
   "id": "4cca8d10",
   "metadata": {},
   "outputs": [],
   "source": [
    "def main(ImageGenerator):\n",
    "    \"Displays Images from ImageGenerator\"\n",
    "    ExitCode = EXITCODES.CONTINUE\n",
    "    \n",
    "    State = STATE()\n",
    "    State.WindowName   = 'WaveFunctionCollapse'\n",
    "    State.WindowWidth  = 1000\n",
    "    State.WindowHeight = 1000\n",
    "    State.ImageGenerator = ImageGenerator\n",
    "    \n",
    "    Buffer = np.zeros((State.WindowHeight, State.WindowWidth, 3), np.uint8)\n",
    "    open_window(State.WindowName, State.WindowWidth, State.WindowHeight)\n",
    "    MouseEventQueue = get_mouse_event_queue(State.WindowName)\n",
    "\n",
    "    # Render loop\n",
    "    TargetFrameDuration = 1 / 30\n",
    "    AppStartTime = FrameStartTime = time.time()\n",
    "    State.AppStartTime = AppStartTime\n",
    "    while(1):\n",
    "        # I/O\n",
    "        ExitCode = handle_keypresses()\n",
    "        handle_mouseinput(MouseEventQueue)\n",
    "        # Render\n",
    "        render(State, Buffer, TargetFrameDuration)\n",
    "        # Exit Condition\n",
    "        if   ExitCode == EXITCODES.QUIT    : break\n",
    "        elif ExitCode == EXITCODES.CONTINUE: pass\n",
    "        else: print(f'Unsupported Exit Code: {ExitCode}')\n",
    "        # Frame Timing\n",
    "        # TODO: This timing code is probably bogus.\n",
    "        #       We need to calculate how much time we expect to pass before the next frame gets flipped,\n",
    "        #       and calculate when to skip a frame / catch up the simulation if we skip a frame\n",
    "        FrameEndTime = time.time()\n",
    "        FrameDuration = FrameEndTime - FrameStartTime\n",
    "        TargetDurationOffset = TargetFrameDuration - FrameDuration\n",
    "        if TargetDurationOffset > 0: time.sleep(TargetDurationOffset)\n",
    "        FrameStartTime = time.time()\n",
    "        # Blip\n",
    "        cv2.imshow(State.WindowName, Buffer)\n",
    "    cv2.destroyWindow(State.WindowName)"
   ]
  },
  {
   "cell_type": "code",
   "execution_count": null,
   "id": "6f12d8fd",
   "metadata": {},
   "outputs": [],
   "source": [
    "cv2.resize()"
   ]
  },
  {
   "cell_type": "code",
   "execution_count": null,
   "id": "8fd24904",
   "metadata": {},
   "outputs": [
    {
     "data": {
      "text/plain": [
       "{113: 1}"
      ]
     },
     "execution_count": null,
     "metadata": {},
     "output_type": "execute_result"
    }
   ],
   "source": [
    "KeyBinds = {ord('q'): EXITCODES.QUIT,\n",
    "           }\n",
    "KeyBinds"
   ]
  },
  {
   "cell_type": "code",
   "execution_count": null,
   "id": "4abe2712",
   "metadata": {},
   "outputs": [],
   "source": [
    "# TODO: This still requires some major construction. Maybe look at nbgame for some inspiration."
   ]
  },
  {
   "cell_type": "code",
   "execution_count": null,
   "id": "099fbae1",
   "metadata": {},
   "outputs": [],
   "source": [
    "# TODO: What is it that this code should do?\n",
    "#       Display an image, animate multiple steps of WFC, allow interaction to change parameters?\n",
    "#       What else? should it do all those things? is there an easier way to do them?\n",
    "#       What is the least effort required to get this up and running.\n",
    "#       Maybe push the difficult decisions to later, and just do the obvious thing first.\n",
    "#       No need to overcomplicate things right away."
   ]
  },
  {
   "cell_type": "code",
   "execution_count": null,
   "id": "45a292cc",
   "metadata": {},
   "outputs": [],
   "source": [
    "# TODO: I want to use this to render\n",
    "#       main() should open a window,\n",
    "#       and then call something that does WFC step by step, allowing main() to render the intermediate images.\n",
    "#       WFC should probably be a generator"
   ]
  },
  {
   "cell_type": "code",
   "execution_count": null,
   "id": "f07bc4ba",
   "metadata": {},
   "outputs": [],
   "source": [
    "def testGenerator():\n",
    "    width, height = 500, 500\n",
    "    offset = 2\n",
    "    for i in range(30):\n",
    "        yield np.arange(width*height*3).reshape(width, height, 3) + (offset * i)"
   ]
  },
  {
   "cell_type": "code",
   "execution_count": null,
   "id": "3c1fc919",
   "metadata": {},
   "outputs": [],
   "source": [
    "main(testGenerator())"
   ]
  },
  {
   "cell_type": "markdown",
   "id": "c075f1bf",
   "metadata": {},
   "source": [
    "## 1D"
   ]
  },
  {
   "cell_type": "code",
   "execution_count": null,
   "id": "76435cc9",
   "metadata": {},
   "outputs": [],
   "source": [
    "def show_line(Line):\n",
    "    %matplotlib inline\n",
    "    plt.axis('off')\n",
    "    plt.imshow([Line])"
   ]
  },
  {
   "cell_type": "code",
   "execution_count": null,
   "id": "c5470401",
   "metadata": {},
   "outputs": [
    {
     "data": {
      "image/png": "[encoded data removed]",
      "text/plain": [
       "<Figure size 432x288 with 1 Axes>"
      ]
     },
     "metadata": {
      "needs_background": "light"
     },
     "output_type": "display_data"
    }
   ],
   "source": [
    "show_line([1, 2, 3])"
   ]
  },
  {
   "cell_type": "code",
   "execution_count": null,
   "id": "345bd6de",
   "metadata": {},
   "outputs": [],
   "source": [
    "def animate_lines(Lines):\n",
    "    %matplotlib notebook\n",
    "    fig, ax = plt.subplots()\n",
    "    ax.axis('off')\n",
    "    img = ax.imshow([Lines[-1]], animated=True)\n",
    "    \n",
    "    def animate(frame, *fargs):\n",
    "        img.set_data([frame])\n",
    "        \n",
    "    return animation.FuncAnimation(fig, animate, frames=Lines, interval=500, repeat=True)"
   ]
  },
  {
   "cell_type": "code",
   "execution_count": null,
   "id": "5f17afdf",
   "metadata": {},
   "outputs": [
    {
     "data": {
      "application/javascript": [
       "/* Put everything inside the global mpl namespace */\n",
       "/* global mpl */\n",
       "window.mpl = {};\n",
       "\n",
       "mpl.get_websocket_type = function () {\n",
       "    if (typeof WebSocket !== 'undefined') {\n",
       "        return WebSocket;\n",
       "    } else if (typeof MozWebSocket !== 'undefined') {\n",
       "        return MozWebSocket;\n",
       "    } else {\n",
       "        alert(\n",
       "            'Your browser does not have WebSocket support. ' +\n",
       "                'Please try Chrome, Safari or Firefox ≥ 6. ' +\n",
       "                'Firefox 4 and 5 are also supported but you ' +\n",
       "                'have to enable WebSockets in about:config.'\n",
       "        );\n",
       "    }\n",
       "};\n",
       "\n",
       "mpl.figure = function (figure_id, websocket, ondownload, parent_element) {\n",
       "    this.id = figure_id;\n",
       "\n",
       "    this.ws = websocket;\n",
       "\n",
       "    this.supports_binary = this.ws.binaryType !== undefined;\n",
       "\n",
       "    if (!this.supports_binary) {\n",
       "        var warnings = document.getElementById('mpl-warnings');\n",
       "        if (warnings) {\n",
       "            warnings.style.display = 'block';\n",
       "            warnings.textContent =\n",
       "                'This browser does not support binary websocket messages. ' +\n",
       "                'Performance may be slow.';\n",
       "        }\n",
       "    }\n",
       "\n",
       "    this.imageObj = new Image();\n",
       "\n",
       "    this.context = undefined;\n",
       "    this.message = undefined;\n",
       "    this.canvas = undefined;\n",
       "    this.rubberband_canvas = undefined;\n",
       "    this.rubberband_context = undefined;\n",
       "    this.format_dropdown = undefined;\n",
       "\n",
       "    this.image_mode = 'full';\n",
       "\n",
       "    this.root = document.createElement('div');\n",
       "    this.root.setAttribute('style', 'display: inline-block');\n",
       "    this._root_extra_style(this.root);\n",
       "\n",
       "    parent_element.appendChild(this.root);\n",
       "\n",
       "    this._init_header(this);\n",
       "    this._init_canvas(this);\n",
       "    this._init_toolbar(this);\n",
       "\n",
       "    var fig = this;\n",
       "\n",
       "    this.waiting = false;\n",
       "\n",
       "    this.ws.onopen = function () {\n",
       "        fig.send_message('supports_binary', { value: fig.supports_binary });\n",
       "        fig.send_message('send_image_mode', {});\n",
       "        if (fig.ratio !== 1) {\n",
       "            fig.send_message('set_dpi_ratio', { dpi_ratio: fig.ratio });\n",
       "        }\n",
       "        fig.send_message('refresh', {});\n",
       "    };\n",
       "\n",
       "    this.imageObj.onload = function () {\n",
       "        if (fig.image_mode === 'full') {\n",
       "            // Full images could contain transparency (where diff images\n",
       "            // almost always do), so we need to clear the canvas so that\n",
       "            // there is no ghosting.\n",
       "            fig.context.clearRect(0, 0, fig.canvas.width, fig.canvas.height);\n",
       "        }\n",
       "        fig.context.drawImage(fig.imageObj, 0, 0);\n",
       "    };\n",
       "\n",
       "    this.imageObj.onunload = function () {\n",
       "        fig.ws.close();\n",
       "    };\n",
       "\n",
       "    this.ws.onmessage = this._make_on_message_function(this);\n",
       "\n",
       "    this.ondownload = ondownload;\n",
       "};\n",
       "\n",
       "mpl.figure.prototype._init_header = function () {\n",
       "    var titlebar = document.createElement('div');\n",
       "    titlebar.classList =\n",
       "        'ui-dialog-titlebar ui-widget-header ui-corner-all ui-helper-clearfix';\n",
       "    var titletext = document.createElement('div');\n",
       "    titletext.classList = 'ui-dialog-title';\n",
       "    titletext.setAttribute(\n",
       "        'style',\n",
       "        'width: 100%; text-align: center; padding: 3px;'\n",
       "    );\n",
       "    titlebar.appendChild(titletext);\n",
       "    this.root.appendChild(titlebar);\n",
       "    this.header = titletext;\n",
       "};\n",
       "\n",
       "mpl.figure.prototype._canvas_extra_style = function (_canvas_div) {};\n",
       "\n",
       "mpl.figure.prototype._root_extra_style = function (_canvas_div) {};\n",
       "\n",
       "mpl.figure.prototype._init_canvas = function () {\n",
       "    var fig = this;\n",
       "\n",
       "    var canvas_div = (this.canvas_div = document.createElement('div'));\n",
       "    canvas_div.setAttribute(\n",
       "        'style',\n",
       "        'border: 1px solid #ddd;' +\n",
       "            'box-sizing: content-box;' +\n",
       "            'clear: both;' +\n",
       "            'min-height: 1px;' +\n",
       "            'min-width: 1px;' +\n",
       "            'outline: 0;' +\n",
       "            'overflow: hidden;' +\n",
       "            'position: relative;' +\n",
       "            'resize: both;'\n",
       "    );\n",
       "\n",
       "    function on_keyboard_event_closure(name) {\n",
       "        return function (event) {\n",
       "            return fig.key_event(event, name);\n",
       "        };\n",
       "    }\n",
       "\n",
       "    canvas_div.addEventListener(\n",
       "        'keydown',\n",
       "        on_keyboard_event_closure('key_press')\n",
       "    );\n",
       "    canvas_div.addEventListener(\n",
       "        'keyup',\n",
       "        on_keyboard_event_closure('key_release')\n",
       "    );\n",
       "\n",
       "    this._canvas_extra_style(canvas_div);\n",
       "    this.root.appendChild(canvas_div);\n",
       "\n",
       "    var canvas = (this.canvas = document.createElement('canvas'));\n",
       "    canvas.classList.add('mpl-canvas');\n",
       "    canvas.setAttribute('style', 'box-sizing: content-box;');\n",
       "\n",
       "    this.context = canvas.getContext('2d');\n",
       "\n",
       "    var backingStore =\n",
       "        this.context.backingStorePixelRatio ||\n",
       "        this.context.webkitBackingStorePixelRatio ||\n",
       "        this.context.mozBackingStorePixelRatio ||\n",
       "        this.context.msBackingStorePixelRatio ||\n",
       "        this.context.oBackingStorePixelRatio ||\n",
       "        this.context.backingStorePixelRatio ||\n",
       "        1;\n",
       "\n",
       "    this.ratio = (window.devicePixelRatio || 1) / backingStore;\n",
       "\n",
       "    var rubberband_canvas = (this.rubberband_canvas = document.createElement(\n",
       "        'canvas'\n",
       "    ));\n",
       "    rubberband_canvas.setAttribute(\n",
       "        'style',\n",
       "        'box-sizing: content-box; position: absolute; left: 0; top: 0; z-index: 1;'\n",
       "    );\n",
       "\n",
       "    // Apply a ponyfill if ResizeObserver is not implemented by browser.\n",
       "    if (this.ResizeObserver === undefined) {\n",
       "        if (window.ResizeObserver !== undefined) {\n",
       "            this.ResizeObserver = window.ResizeObserver;\n",
       "        } else {\n",
       "            var obs = _JSXTOOLS_RESIZE_OBSERVER({});\n",
       "            this.ResizeObserver = obs.ResizeObserver;\n",
       "        }\n",
       "    }\n",
       "\n",
       "    this.resizeObserverInstance = new this.ResizeObserver(function (entries) {\n",
       "        var nentries = entries.length;\n",
       "        for (var i = 0; i < nentries; i++) {\n",
       "            var entry = entries[i];\n",
       "            var width, height;\n",
       "            if (entry.contentBoxSize) {\n",
       "                if (entry.contentBoxSize instanceof Array) {\n",
       "                    // Chrome 84 implements new version of spec.\n",
       "                    width = entry.contentBoxSize[0].inlineSize;\n",
       "                    height = entry.contentBoxSize[0].blockSize;\n",
       "                } else {\n",
       "                    // Firefox implements old version of spec.\n",
       "                    width = entry.contentBoxSize.inlineSize;\n",
       "                    height = entry.contentBoxSize.blockSize;\n",
       "                }\n",
       "            } else {\n",
       "                // Chrome <84 implements even older version of spec.\n",
       "                width = entry.contentRect.width;\n",
       "                height = entry.contentRect.height;\n",
       "            }\n",
       "\n",
       "            // Keep the size of the canvas and rubber band canvas in sync with\n",
       "            // the canvas container.\n",
       "            if (entry.devicePixelContentBoxSize) {\n",
       "                // Chrome 84 implements new version of spec.\n",
       "                canvas.setAttribute(\n",
       "                    'width',\n",
       "                    entry.devicePixelContentBoxSize[0].inlineSize\n",
       "                );\n",
       "                canvas.setAttribute(\n",
       "                    'height',\n",
       "                    entry.devicePixelContentBoxSize[0].blockSize\n",
       "                );\n",
       "            } else {\n",
       "                canvas.setAttribute('width', width * fig.ratio);\n",
       "                canvas.setAttribute('height', height * fig.ratio);\n",
       "            }\n",
       "            canvas.setAttribute(\n",
       "                'style',\n",
       "                'width: ' + width + 'px; height: ' + height + 'px;'\n",
       "            );\n",
       "\n",
       "            rubberband_canvas.setAttribute('width', width);\n",
       "            rubberband_canvas.setAttribute('height', height);\n",
       "\n",
       "            // And update the size in Python. We ignore the initial 0/0 size\n",
       "            // that occurs as the element is placed into the DOM, which should\n",
       "            // otherwise not happen due to the minimum size styling.\n",
       "            if (fig.ws.readyState == 1 && width != 0 && height != 0) {\n",
       "                fig.request_resize(width, height);\n",
       "            }\n",
       "        }\n",
       "    });\n",
       "    this.resizeObserverInstance.observe(canvas_div);\n",
       "\n",
       "    function on_mouse_event_closure(name) {\n",
       "        return function (event) {\n",
       "            return fig.mouse_event(event, name);\n",
       "        };\n",
       "    }\n",
       "\n",
       "    rubberband_canvas.addEventListener(\n",
       "        'mousedown',\n",
       "        on_mouse_event_closure('button_press')\n",
       "    );\n",
       "    rubberband_canvas.addEventListener(\n",
       "        'mouseup',\n",
       "        on_mouse_event_closure('button_release')\n",
       "    );\n",
       "    rubberband_canvas.addEventListener(\n",
       "        'dblclick',\n",
       "        on_mouse_event_closure('dblclick')\n",
       "    );\n",
       "    // Throttle sequential mouse events to 1 every 20ms.\n",
       "    rubberband_canvas.addEventListener(\n",
       "        'mousemove',\n",
       "        on_mouse_event_closure('motion_notify')\n",
       "    );\n",
       "\n",
       "    rubberband_canvas.addEventListener(\n",
       "        'mouseenter',\n",
       "        on_mouse_event_closure('figure_enter')\n",
       "    );\n",
       "    rubberband_canvas.addEventListener(\n",
       "        'mouseleave',\n",
       "        on_mouse_event_closure('figure_leave')\n",
       "    );\n",
       "\n",
       "    canvas_div.addEventListener('wheel', function (event) {\n",
       "        if (event.deltaY < 0) {\n",
       "            event.step = 1;\n",
       "        } else {\n",
       "            event.step = -1;\n",
       "        }\n",
       "        on_mouse_event_closure('scroll')(event);\n",
       "    });\n",
       "\n",
       "    canvas_div.appendChild(canvas);\n",
       "    canvas_div.appendChild(rubberband_canvas);\n",
       "\n",
       "    this.rubberband_context = rubberband_canvas.getContext('2d');\n",
       "    this.rubberband_context.strokeStyle = '#000000';\n",
       "\n",
       "    this._resize_canvas = function (width, height, forward) {\n",
       "        if (forward) {\n",
       "            canvas_div.style.width = width + 'px';\n",
       "            canvas_div.style.height = height + 'px';\n",
       "        }\n",
       "    };\n",
       "\n",
       "    // Disable right mouse context menu.\n",
       "    this.rubberband_canvas.addEventListener('contextmenu', function (_e) {\n",
       "        event.preventDefault();\n",
       "        return false;\n",
       "    });\n",
       "\n",
       "    function set_focus() {\n",
       "        canvas.focus();\n",
       "        canvas_div.focus();\n",
       "    }\n",
       "\n",
       "    window.setTimeout(set_focus, 100);\n",
       "};\n",
       "\n",
       "mpl.figure.prototype._init_toolbar = function () {\n",
       "    var fig = this;\n",
       "\n",
       "    var toolbar = document.createElement('div');\n",
       "    toolbar.classList = 'mpl-toolbar';\n",
       "    this.root.appendChild(toolbar);\n",
       "\n",
       "    function on_click_closure(name) {\n",
       "        return function (_event) {\n",
       "            return fig.toolbar_button_onclick(name);\n",
       "        };\n",
       "    }\n",
       "\n",
       "    function on_mouseover_closure(tooltip) {\n",
       "        return function (event) {\n",
       "            if (!event.currentTarget.disabled) {\n",
       "                return fig.toolbar_button_onmouseover(tooltip);\n",
       "            }\n",
       "        };\n",
       "    }\n",
       "\n",
       "    fig.buttons = {};\n",
       "    var buttonGroup = document.createElement('div');\n",
       "    buttonGroup.classList = 'mpl-button-group';\n",
       "    for (var toolbar_ind in mpl.toolbar_items) {\n",
       "        var name = mpl.toolbar_items[toolbar_ind][0];\n",
       "        var tooltip = mpl.toolbar_items[toolbar_ind][1];\n",
       "        var image = mpl.toolbar_items[toolbar_ind][2];\n",
       "        var method_name = mpl.toolbar_items[toolbar_ind][3];\n",
       "\n",
       "        if (!name) {\n",
       "            /* Instead of a spacer, we start a new button group. */\n",
       "            if (buttonGroup.hasChildNodes()) {\n",
       "                toolbar.appendChild(buttonGroup);\n",
       "            }\n",
       "            buttonGroup = document.createElement('div');\n",
       "            buttonGroup.classList = 'mpl-button-group';\n",
       "            continue;\n",
       "        }\n",
       "\n",
       "        var button = (fig.buttons[name] = document.createElement('button'));\n",
       "        button.classList = 'mpl-widget';\n",
       "        button.setAttribute('role', 'button');\n",
       "        button.setAttribute('aria-disabled', 'false');\n",
       "        button.addEventListener('click', on_click_closure(method_name));\n",
       "        button.addEventListener('mouseover', on_mouseover_closure(tooltip));\n",
       "\n",
       "        var icon_img = document.createElement('img');\n",
       "        icon_img.src = '_images/' + image + '.png';\n",
       "        icon_img.srcset = '_images/' + image + '_large.png 2x';\n",
       "        icon_img.alt = tooltip;\n",
       "        button.appendChild(icon_img);\n",
       "\n",
       "        buttonGroup.appendChild(button);\n",
       "    }\n",
       "\n",
       "    if (buttonGroup.hasChildNodes()) {\n",
       "        toolbar.appendChild(buttonGroup);\n",
       "    }\n",
       "\n",
       "    var fmt_picker = document.createElement('select');\n",
       "    fmt_picker.classList = 'mpl-widget';\n",
       "    toolbar.appendChild(fmt_picker);\n",
       "    this.format_dropdown = fmt_picker;\n",
       "\n",
       "    for (var ind in mpl.extensions) {\n",
       "        var fmt = mpl.extensions[ind];\n",
       "        var option = document.createElement('option');\n",
       "        option.selected = fmt === mpl.default_extension;\n",
       "        option.innerHTML = fmt;\n",
       "        fmt_picker.appendChild(option);\n",
       "    }\n",
       "\n",
       "    var status_bar = document.createElement('span');\n",
       "    status_bar.classList = 'mpl-message';\n",
       "    toolbar.appendChild(status_bar);\n",
       "    this.message = status_bar;\n",
       "};\n",
       "\n",
       "mpl.figure.prototype.request_resize = function (x_pixels, y_pixels) {\n",
       "    // Request matplotlib to resize the figure. Matplotlib will then trigger a resize in the client,\n",
       "    // which will in turn request a refresh of the image.\n",
       "    this.send_message('resize', { width: x_pixels, height: y_pixels });\n",
       "};\n",
       "\n",
       "mpl.figure.prototype.send_message = function (type, properties) {\n",
       "    properties['type'] = type;\n",
       "    properties['figure_id'] = this.id;\n",
       "    this.ws.send(JSON.stringify(properties));\n",
       "};\n",
       "\n",
       "mpl.figure.prototype.send_draw_message = function () {\n",
       "    if (!this.waiting) {\n",
       "        this.waiting = true;\n",
       "        this.ws.send(JSON.stringify({ type: 'draw', figure_id: this.id }));\n",
       "    }\n",
       "};\n",
       "\n",
       "mpl.figure.prototype.handle_save = function (fig, _msg) {\n",
       "    var format_dropdown = fig.format_dropdown;\n",
       "    var format = format_dropdown.options[format_dropdown.selectedIndex].value;\n",
       "    fig.ondownload(fig, format);\n",
       "};\n",
       "\n",
       "mpl.figure.prototype.handle_resize = function (fig, msg) {\n",
       "    var size = msg['size'];\n",
       "    if (size[0] !== fig.canvas.width || size[1] !== fig.canvas.height) {\n",
       "        fig._resize_canvas(size[0], size[1], msg['forward']);\n",
       "        fig.send_message('refresh', {});\n",
       "    }\n",
       "};\n",
       "\n",
       "mpl.figure.prototype.handle_rubberband = function (fig, msg) {\n",
       "    var x0 = msg['x0'] / fig.ratio;\n",
       "    var y0 = (fig.canvas.height - msg['y0']) / fig.ratio;\n",
       "    var x1 = msg['x1'] / fig.ratio;\n",
       "    var y1 = (fig.canvas.height - msg['y1']) / fig.ratio;\n",
       "    x0 = Math.floor(x0) + 0.5;\n",
       "    y0 = Math.floor(y0) + 0.5;\n",
       "    x1 = Math.floor(x1) + 0.5;\n",
       "    y1 = Math.floor(y1) + 0.5;\n",
       "    var min_x = Math.min(x0, x1);\n",
       "    var min_y = Math.min(y0, y1);\n",
       "    var width = Math.abs(x1 - x0);\n",
       "    var height = Math.abs(y1 - y0);\n",
       "\n",
       "    fig.rubberband_context.clearRect(\n",
       "        0,\n",
       "        0,\n",
       "        fig.canvas.width / fig.ratio,\n",
       "        fig.canvas.height / fig.ratio\n",
       "    );\n",
       "\n",
       "    fig.rubberband_context.strokeRect(min_x, min_y, width, height);\n",
       "};\n",
       "\n",
       "mpl.figure.prototype.handle_figure_label = function (fig, msg) {\n",
       "    // Updates the figure title.\n",
       "    fig.header.textContent = msg['label'];\n",
       "};\n",
       "\n",
       "mpl.figure.prototype.handle_cursor = function (fig, msg) {\n",
       "    var cursor = msg['cursor'];\n",
       "    switch (cursor) {\n",
       "        case 0:\n",
       "            cursor = 'pointer';\n",
       "            break;\n",
       "        case 1:\n",
       "            cursor = 'default';\n",
       "            break;\n",
       "        case 2:\n",
       "            cursor = 'crosshair';\n",
       "            break;\n",
       "        case 3:\n",
       "            cursor = 'move';\n",
       "            break;\n",
       "    }\n",
       "    fig.rubberband_canvas.style.cursor = cursor;\n",
       "};\n",
       "\n",
       "mpl.figure.prototype.handle_message = function (fig, msg) {\n",
       "    fig.message.textContent = msg['message'];\n",
       "};\n",
       "\n",
       "mpl.figure.prototype.handle_draw = function (fig, _msg) {\n",
       "    // Request the server to send over a new figure.\n",
       "    fig.send_draw_message();\n",
       "};\n",
       "\n",
       "mpl.figure.prototype.handle_image_mode = function (fig, msg) {\n",
       "    fig.image_mode = msg['mode'];\n",
       "};\n",
       "\n",
       "mpl.figure.prototype.handle_history_buttons = function (fig, msg) {\n",
       "    for (var key in msg) {\n",
       "        if (!(key in fig.buttons)) {\n",
       "            continue;\n",
       "        }\n",
       "        fig.buttons[key].disabled = !msg[key];\n",
       "        fig.buttons[key].setAttribute('aria-disabled', !msg[key]);\n",
       "    }\n",
       "};\n",
       "\n",
       "mpl.figure.prototype.handle_navigate_mode = function (fig, msg) {\n",
       "    if (msg['mode'] === 'PAN') {\n",
       "        fig.buttons['Pan'].classList.add('active');\n",
       "        fig.buttons['Zoom'].classList.remove('active');\n",
       "    } else if (msg['mode'] === 'ZOOM') {\n",
       "        fig.buttons['Pan'].classList.remove('active');\n",
       "        fig.buttons['Zoom'].classList.add('active');\n",
       "    } else {\n",
       "        fig.buttons['Pan'].classList.remove('active');\n",
       "        fig.buttons['Zoom'].classList.remove('active');\n",
       "    }\n",
       "};\n",
       "\n",
       "mpl.figure.prototype.updated_canvas_event = function () {\n",
       "    // Called whenever the canvas gets updated.\n",
       "    this.send_message('ack', {});\n",
       "};\n",
       "\n",
       "// A function to construct a web socket function for onmessage handling.\n",
       "// Called in the figure constructor.\n",
       "mpl.figure.prototype._make_on_message_function = function (fig) {\n",
       "    return function socket_on_message(evt) {\n",
       "        if (evt.data instanceof Blob) {\n",
       "            var img = evt.data;\n",
       "            if (img.type !== 'image/png') {\n",
       "                /* FIXME: We get \"Resource interpreted as Image but\n",
       "                 * transferred with MIME type text/plain:\" errors on\n",
       "                 * Chrome.  But how to set the MIME type?  It doesn't seem\n",
       "                 * to be part of the websocket stream */\n",
       "                img.type = 'image/png';\n",
       "            }\n",
       "\n",
       "            /* Free the memory for the previous frames */\n",
       "            if (fig.imageObj.src) {\n",
       "                (window.URL || window.webkitURL).revokeObjectURL(\n",
       "                    fig.imageObj.src\n",
       "                );\n",
       "            }\n",
       "\n",
       "            fig.imageObj.src = (window.URL || window.webkitURL).createObjectURL(\n",
       "                img\n",
       "            );\n",
       "            fig.updated_canvas_event();\n",
       "            fig.waiting = false;\n",
       "            return;\n",
       "        } else if (\n",
       "            typeof evt.data === 'string' &&\n",
       "            evt.data.slice(0, 21) === 'data:image/png;base64'\n",
       "        ) {\n",
       "            fig.imageObj.src = evt.data;\n",
       "            fig.updated_canvas_event();\n",
       "            fig.waiting = false;\n",
       "            return;\n",
       "        }\n",
       "\n",
       "        var msg = JSON.parse(evt.data);\n",
       "        var msg_type = msg['type'];\n",
       "\n",
       "        // Call the  \"handle_{type}\" callback, which takes\n",
       "        // the figure and JSON message as its only arguments.\n",
       "        try {\n",
       "            var callback = fig['handle_' + msg_type];\n",
       "        } catch (e) {\n",
       "            console.log(\n",
       "                \"No handler for the '\" + msg_type + \"' message type: \",\n",
       "                msg\n",
       "            );\n",
       "            return;\n",
       "        }\n",
       "\n",
       "        if (callback) {\n",
       "            try {\n",
       "                // console.log(\"Handling '\" + msg_type + \"' message: \", msg);\n",
       "                callback(fig, msg);\n",
       "            } catch (e) {\n",
       "                console.log(\n",
       "                    \"Exception inside the 'handler_\" + msg_type + \"' callback:\",\n",
       "                    e,\n",
       "                    e.stack,\n",
       "                    msg\n",
       "                );\n",
       "            }\n",
       "        }\n",
       "    };\n",
       "};\n",
       "\n",
       "// from http://stackoverflow.com/questions/1114465/getting-mouse-location-in-canvas\n",
       "mpl.findpos = function (e) {\n",
       "    //this section is from http://www.quirksmode.org/js/events_properties.html\n",
       "    var targ;\n",
       "    if (!e) {\n",
       "        e = window.event;\n",
       "    }\n",
       "    if (e.target) {\n",
       "        targ = e.target;\n",
       "    } else if (e.srcElement) {\n",
       "        targ = e.srcElement;\n",
       "    }\n",
       "    if (targ.nodeType === 3) {\n",
       "        // defeat Safari bug\n",
       "        targ = targ.parentNode;\n",
       "    }\n",
       "\n",
       "    // pageX,Y are the mouse positions relative to the document\n",
       "    var boundingRect = targ.getBoundingClientRect();\n",
       "    var x = e.pageX - (boundingRect.left + document.body.scrollLeft);\n",
       "    var y = e.pageY - (boundingRect.top + document.body.scrollTop);\n",
       "\n",
       "    return { x: x, y: y };\n",
       "};\n",
       "\n",
       "/*\n",
       " * return a copy of an object with only non-object keys\n",
       " * we need this to avoid circular references\n",
       " * http://stackoverflow.com/a/24161582/3208463\n",
       " */\n",
       "function simpleKeys(original) {\n",
       "    return Object.keys(original).reduce(function (obj, key) {\n",
       "        if (typeof original[key] !== 'object') {\n",
       "            obj[key] = original[key];\n",
       "        }\n",
       "        return obj;\n",
       "    }, {});\n",
       "}\n",
       "\n",
       "mpl.figure.prototype.mouse_event = function (event, name) {\n",
       "    var canvas_pos = mpl.findpos(event);\n",
       "\n",
       "    if (name === 'button_press') {\n",
       "        this.canvas.focus();\n",
       "        this.canvas_div.focus();\n",
       "    }\n",
       "\n",
       "    var x = canvas_pos.x * this.ratio;\n",
       "    var y = canvas_pos.y * this.ratio;\n",
       "\n",
       "    this.send_message(name, {\n",
       "        x: x,\n",
       "        y: y,\n",
       "        button: event.button,\n",
       "        step: event.step,\n",
       "        guiEvent: simpleKeys(event),\n",
       "    });\n",
       "\n",
       "    /* This prevents the web browser from automatically changing to\n",
       "     * the text insertion cursor when the button is pressed.  We want\n",
       "     * to control all of the cursor setting manually through the\n",
       "     * 'cursor' event from matplotlib */\n",
       "    event.preventDefault();\n",
       "    return false;\n",
       "};\n",
       "\n",
       "mpl.figure.prototype._key_event_extra = function (_event, _name) {\n",
       "    // Handle any extra behaviour associated with a key event\n",
       "};\n",
       "\n",
       "mpl.figure.prototype.key_event = function (event, name) {\n",
       "    // Prevent repeat events\n",
       "    if (name === 'key_press') {\n",
       "        if (event.key === this._key) {\n",
       "            return;\n",
       "        } else {\n",
       "            this._key = event.key;\n",
       "        }\n",
       "    }\n",
       "    if (name === 'key_release') {\n",
       "        this._key = null;\n",
       "    }\n",
       "\n",
       "    var value = '';\n",
       "    if (event.ctrlKey && event.key !== 'Control') {\n",
       "        value += 'ctrl+';\n",
       "    }\n",
       "    else if (event.altKey && event.key !== 'Alt') {\n",
       "        value += 'alt+';\n",
       "    }\n",
       "    else if (event.shiftKey && event.key !== 'Shift') {\n",
       "        value += 'shift+';\n",
       "    }\n",
       "\n",
       "    value += 'k' + event.key;\n",
       "\n",
       "    this._key_event_extra(event, name);\n",
       "\n",
       "    this.send_message(name, { key: value, guiEvent: simpleKeys(event) });\n",
       "    return false;\n",
       "};\n",
       "\n",
       "mpl.figure.prototype.toolbar_button_onclick = function (name) {\n",
       "    if (name === 'download') {\n",
       "        this.handle_save(this, null);\n",
       "    } else {\n",
       "        this.send_message('toolbar_button', { name: name });\n",
       "    }\n",
       "};\n",
       "\n",
       "mpl.figure.prototype.toolbar_button_onmouseover = function (tooltip) {\n",
       "    this.message.textContent = tooltip;\n",
       "};\n",
       "\n",
       "///////////////// REMAINING CONTENT GENERATED BY embed_js.py /////////////////\n",
       "// prettier-ignore\n",
       "var _JSXTOOLS_RESIZE_OBSERVER=function(A){var t,i=new WeakMap,n=new WeakMap,a=new WeakMap,r=new WeakMap,o=new Set;function s(e){if(!(this instanceof s))throw new TypeError(\"Constructor requires 'new' operator\");i.set(this,e)}function h(){throw new TypeError(\"Function is not a constructor\")}function c(e,t,i,n){e=0 in arguments?Number(arguments[0]):0,t=1 in arguments?Number(arguments[1]):0,i=2 in arguments?Number(arguments[2]):0,n=3 in arguments?Number(arguments[3]):0,this.right=(this.x=this.left=e)+(this.width=i),this.bottom=(this.y=this.top=t)+(this.height=n),Object.freeze(this)}function d(){t=requestAnimationFrame(d);var s=new WeakMap,p=new Set;o.forEach((function(t){r.get(t).forEach((function(i){var r=t instanceof window.SVGElement,o=a.get(t),d=r?0:parseFloat(o.paddingTop),f=r?0:parseFloat(o.paddingRight),l=r?0:parseFloat(o.paddingBottom),u=r?0:parseFloat(o.paddingLeft),g=r?0:parseFloat(o.borderTopWidth),m=r?0:parseFloat(o.borderRightWidth),w=r?0:parseFloat(o.borderBottomWidth),b=u+f,F=d+l,v=(r?0:parseFloat(o.borderLeftWidth))+m,W=g+w,y=r?0:t.offsetHeight-W-t.clientHeight,E=r?0:t.offsetWidth-v-t.clientWidth,R=b+v,z=F+W,M=r?t.width:parseFloat(o.width)-R-E,O=r?t.height:parseFloat(o.height)-z-y;if(n.has(t)){var k=n.get(t);if(k[0]===M&&k[1]===O)return}n.set(t,[M,O]);var S=Object.create(h.prototype);S.target=t,S.contentRect=new c(u,d,M,O),s.has(i)||(s.set(i,[]),p.add(i)),s.get(i).push(S)}))})),p.forEach((function(e){i.get(e).call(e,s.get(e),e)}))}return s.prototype.observe=function(i){if(i instanceof window.Element){r.has(i)||(r.set(i,new Set),o.add(i),a.set(i,window.getComputedStyle(i)));var n=r.get(i);n.has(this)||n.add(this),cancelAnimationFrame(t),t=requestAnimationFrame(d)}},s.prototype.unobserve=function(i){if(i instanceof window.Element&&r.has(i)){var n=r.get(i);n.has(this)&&(n.delete(this),n.size||(r.delete(i),o.delete(i))),n.size||r.delete(i),o.size||cancelAnimationFrame(t)}},A.DOMRectReadOnly=c,A.ResizeObserver=s,A.ResizeObserverEntry=h,A}; // eslint-disable-line\n",
       "mpl.toolbar_items = [[\"Home\", \"Reset original view\", \"fa fa-home icon-home\", \"home\"], [\"Back\", \"Back to previous view\", \"fa fa-arrow-left icon-arrow-left\", \"back\"], [\"Forward\", \"Forward to next view\", \"fa fa-arrow-right icon-arrow-right\", \"forward\"], [\"\", \"\", \"\", \"\"], [\"Pan\", \"Left button pans, Right button zooms\\nx/y fixes axis, CTRL fixes aspect\", \"fa fa-arrows icon-move\", \"pan\"], [\"Zoom\", \"Zoom to rectangle\\nx/y fixes axis, CTRL fixes aspect\", \"fa fa-square-o icon-check-empty\", \"zoom\"], [\"\", \"\", \"\", \"\"], [\"Download\", \"Download plot\", \"fa fa-floppy-o icon-save\", \"download\"]];\n",
       "\n",
       "mpl.extensions = [\"eps\", \"jpeg\", \"pgf\", \"pdf\", \"png\", \"ps\", \"raw\", \"svg\", \"tif\"];\n",
       "\n",
       "mpl.default_extension = \"png\";/* global mpl */\n",
       "\n",
       "var comm_websocket_adapter = function (comm) {\n",
       "    // Create a \"websocket\"-like object which calls the given IPython comm\n",
       "    // object with the appropriate methods. Currently this is a non binary\n",
       "    // socket, so there is still some room for performance tuning.\n",
       "    var ws = {};\n",
       "\n",
       "    ws.binaryType = comm.kernel.ws.binaryType;\n",
       "    ws.readyState = comm.kernel.ws.readyState;\n",
       "    function updateReadyState(_event) {\n",
       "        if (comm.kernel.ws) {\n",
       "            ws.readyState = comm.kernel.ws.readyState;\n",
       "        } else {\n",
       "            ws.readyState = 3; // Closed state.\n",
       "        }\n",
       "    }\n",
       "    comm.kernel.ws.addEventListener('open', updateReadyState);\n",
       "    comm.kernel.ws.addEventListener('close', updateReadyState);\n",
       "    comm.kernel.ws.addEventListener('error', updateReadyState);\n",
       "\n",
       "    ws.close = function () {\n",
       "        comm.close();\n",
       "    };\n",
       "    ws.send = function (m) {\n",
       "        //console.log('sending', m);\n",
       "        comm.send(m);\n",
       "    };\n",
       "    // Register the callback with on_msg.\n",
       "    comm.on_msg(function (msg) {\n",
       "        //console.log('receiving', msg['content']['data'], msg);\n",
       "        var data = msg['content']['data'];\n",
       "        if (data['blob'] !== undefined) {\n",
       "            data = {\n",
       "                data: new Blob(msg['buffers'], { type: data['blob'] }),\n",
       "            };\n",
       "        }\n",
       "        // Pass the mpl event to the overridden (by mpl) onmessage function.\n",
       "        ws.onmessage(data);\n",
       "    });\n",
       "    return ws;\n",
       "};\n",
       "\n",
       "mpl.mpl_figure_comm = function (comm, msg) {\n",
       "    // This is the function which gets called when the mpl process\n",
       "    // starts-up an IPython Comm through the \"matplotlib\" channel.\n",
       "\n",
       "    var id = msg.content.data.id;\n",
       "    // Get hold of the div created by the display call when the Comm\n",
       "    // socket was opened in Python.\n",
       "    var element = document.getElementById(id);\n",
       "    var ws_proxy = comm_websocket_adapter(comm);\n",
       "\n",
       "    function ondownload(figure, _format) {\n",
       "        window.open(figure.canvas.toDataURL());\n",
       "    }\n",
       "\n",
       "    var fig = new mpl.figure(id, ws_proxy, ondownload, element);\n",
       "\n",
       "    // Call onopen now - mpl needs it, as it is assuming we've passed it a real\n",
       "    // web socket which is closed, not our websocket->open comm proxy.\n",
       "    ws_proxy.onopen();\n",
       "\n",
       "    fig.parent_element = element;\n",
       "    fig.cell_info = mpl.find_output_cell(\"<div id='\" + id + \"'></div>\");\n",
       "    if (!fig.cell_info) {\n",
       "        console.error('Failed to find cell for figure', id, fig);\n",
       "        return;\n",
       "    }\n",
       "    fig.cell_info[0].output_area.element.on(\n",
       "        'cleared',\n",
       "        { fig: fig },\n",
       "        fig._remove_fig_handler\n",
       "    );\n",
       "};\n",
       "\n",
       "mpl.figure.prototype.handle_close = function (fig, msg) {\n",
       "    var width = fig.canvas.width / fig.ratio;\n",
       "    fig.cell_info[0].output_area.element.off(\n",
       "        'cleared',\n",
       "        fig._remove_fig_handler\n",
       "    );\n",
       "    fig.resizeObserverInstance.unobserve(fig.canvas_div);\n",
       "\n",
       "    // Update the output cell to use the data from the current canvas.\n",
       "    fig.push_to_output();\n",
       "    var dataURL = fig.canvas.toDataURL();\n",
       "    // Re-enable the keyboard manager in IPython - without this line, in FF,\n",
       "    // the notebook keyboard shortcuts fail.\n",
       "    IPython.keyboard_manager.enable();\n",
       "    fig.parent_element.innerHTML =\n",
       "        '<img src=\"' + dataURL + '\" width=\"' + width + '\">';\n",
       "    fig.close_ws(fig, msg);\n",
       "};\n",
       "\n",
       "mpl.figure.prototype.close_ws = function (fig, msg) {\n",
       "    fig.send_message('closing', msg);\n",
       "    // fig.ws.close()\n",
       "};\n",
       "\n",
       "mpl.figure.prototype.push_to_output = function (_remove_interactive) {\n",
       "    // Turn the data on the canvas into data in the output cell.\n",
       "    var width = this.canvas.width / this.ratio;\n",
       "    var dataURL = this.canvas.toDataURL();\n",
       "    this.cell_info[1]['text/html'] =\n",
       "        '<img src=\"' + dataURL + '\" width=\"' + width + '\">';\n",
       "};\n",
       "\n",
       "mpl.figure.prototype.updated_canvas_event = function () {\n",
       "    // Tell IPython that the notebook contents must change.\n",
       "    IPython.notebook.set_dirty(true);\n",
       "    this.send_message('ack', {});\n",
       "    var fig = this;\n",
       "    // Wait a second, then push the new image to the DOM so\n",
       "    // that it is saved nicely (might be nice to debounce this).\n",
       "    setTimeout(function () {\n",
       "        fig.push_to_output();\n",
       "    }, 1000);\n",
       "};\n",
       "\n",
       "mpl.figure.prototype._init_toolbar = function () {\n",
       "    var fig = this;\n",
       "\n",
       "    var toolbar = document.createElement('div');\n",
       "    toolbar.classList = 'btn-toolbar';\n",
       "    this.root.appendChild(toolbar);\n",
       "\n",
       "    function on_click_closure(name) {\n",
       "        return function (_event) {\n",
       "            return fig.toolbar_button_onclick(name);\n",
       "        };\n",
       "    }\n",
       "\n",
       "    function on_mouseover_closure(tooltip) {\n",
       "        return function (event) {\n",
       "            if (!event.currentTarget.disabled) {\n",
       "                return fig.toolbar_button_onmouseover(tooltip);\n",
       "            }\n",
       "        };\n",
       "    }\n",
       "\n",
       "    fig.buttons = {};\n",
       "    var buttonGroup = document.createElement('div');\n",
       "    buttonGroup.classList = 'btn-group';\n",
       "    var button;\n",
       "    for (var toolbar_ind in mpl.toolbar_items) {\n",
       "        var name = mpl.toolbar_items[toolbar_ind][0];\n",
       "        var tooltip = mpl.toolbar_items[toolbar_ind][1];\n",
       "        var image = mpl.toolbar_items[toolbar_ind][2];\n",
       "        var method_name = mpl.toolbar_items[toolbar_ind][3];\n",
       "\n",
       "        if (!name) {\n",
       "            /* Instead of a spacer, we start a new button group. */\n",
       "            if (buttonGroup.hasChildNodes()) {\n",
       "                toolbar.appendChild(buttonGroup);\n",
       "            }\n",
       "            buttonGroup = document.createElement('div');\n",
       "            buttonGroup.classList = 'btn-group';\n",
       "            continue;\n",
       "        }\n",
       "\n",
       "        button = fig.buttons[name] = document.createElement('button');\n",
       "        button.classList = 'btn btn-default';\n",
       "        button.href = '#';\n",
       "        button.title = name;\n",
       "        button.innerHTML = '<i class=\"fa ' + image + ' fa-lg\"></i>';\n",
       "        button.addEventListener('click', on_click_closure(method_name));\n",
       "        button.addEventListener('mouseover', on_mouseover_closure(tooltip));\n",
       "        buttonGroup.appendChild(button);\n",
       "    }\n",
       "\n",
       "    if (buttonGroup.hasChildNodes()) {\n",
       "        toolbar.appendChild(buttonGroup);\n",
       "    }\n",
       "\n",
       "    // Add the status bar.\n",
       "    var status_bar = document.createElement('span');\n",
       "    status_bar.classList = 'mpl-message pull-right';\n",
       "    toolbar.appendChild(status_bar);\n",
       "    this.message = status_bar;\n",
       "\n",
       "    // Add the close button to the window.\n",
       "    var buttongrp = document.createElement('div');\n",
       "    buttongrp.classList = 'btn-group inline pull-right';\n",
       "    button = document.createElement('button');\n",
       "    button.classList = 'btn btn-mini btn-primary';\n",
       "    button.href = '#';\n",
       "    button.title = 'Stop Interaction';\n",
       "    button.innerHTML = '<i class=\"fa fa-power-off icon-remove icon-large\"></i>';\n",
       "    button.addEventListener('click', function (_evt) {\n",
       "        fig.handle_close(fig, {});\n",
       "    });\n",
       "    button.addEventListener(\n",
       "        'mouseover',\n",
       "        on_mouseover_closure('Stop Interaction')\n",
       "    );\n",
       "    buttongrp.appendChild(button);\n",
       "    var titlebar = this.root.querySelector('.ui-dialog-titlebar');\n",
       "    titlebar.insertBefore(buttongrp, titlebar.firstChild);\n",
       "};\n",
       "\n",
       "mpl.figure.prototype._remove_fig_handler = function (event) {\n",
       "    var fig = event.data.fig;\n",
       "    if (event.target !== this) {\n",
       "        // Ignore bubbled events from children.\n",
       "        return;\n",
       "    }\n",
       "    fig.close_ws(fig, {});\n",
       "};\n",
       "\n",
       "mpl.figure.prototype._root_extra_style = function (el) {\n",
       "    el.style.boxSizing = 'content-box'; // override notebook setting of border-box.\n",
       "};\n",
       "\n",
       "mpl.figure.prototype._canvas_extra_style = function (el) {\n",
       "    // this is important to make the div 'focusable\n",
       "    el.setAttribute('tabindex', 0);\n",
       "    // reach out to IPython and tell the keyboard manager to turn it's self\n",
       "    // off when our div gets focus\n",
       "\n",
       "    // location in version 3\n",
       "    if (IPython.notebook.keyboard_manager) {\n",
       "        IPython.notebook.keyboard_manager.register_events(el);\n",
       "    } else {\n",
       "        // location in version 2\n",
       "        IPython.keyboard_manager.register_events(el);\n",
       "    }\n",
       "};\n",
       "\n",
       "mpl.figure.prototype._key_event_extra = function (event, _name) {\n",
       "    var manager = IPython.notebook.keyboard_manager;\n",
       "    if (!manager) {\n",
       "        manager = IPython.keyboard_manager;\n",
       "    }\n",
       "\n",
       "    // Check for shift+enter\n",
       "    if (event.shiftKey && event.which === 13) {\n",
       "        this.canvas_div.blur();\n",
       "        // select the cell after this one\n",
       "        var index = IPython.notebook.find_cell_index(this.cell_info[0]);\n",
       "        IPython.notebook.select(index + 1);\n",
       "    }\n",
       "};\n",
       "\n",
       "mpl.figure.prototype.handle_save = function (fig, _msg) {\n",
       "    fig.ondownload(fig, null);\n",
       "};\n",
       "\n",
       "mpl.find_output_cell = function (html_output) {\n",
       "    // Return the cell and output element which can be found *uniquely* in the notebook.\n",
       "    // Note - this is a bit hacky, but it is done because the \"notebook_saving.Notebook\"\n",
       "    // IPython event is triggered only after the cells have been serialised, which for\n",
       "    // our purposes (turning an active figure into a static one), is too late.\n",
       "    var cells = IPython.notebook.get_cells();\n",
       "    var ncells = cells.length;\n",
       "    for (var i = 0; i < ncells; i++) {\n",
       "        var cell = cells[i];\n",
       "        if (cell.cell_type === 'code') {\n",
       "            for (var j = 0; j < cell.output_area.outputs.length; j++) {\n",
       "                var data = cell.output_area.outputs[j];\n",
       "                if (data.data) {\n",
       "                    // IPython >= 3 moved mimebundle to data attribute of output\n",
       "                    data = data.data;\n",
       "                }\n",
       "                if (data['text/html'] === html_output) {\n",
       "                    return [cell, data, j];\n",
       "                }\n",
       "            }\n",
       "        }\n",
       "    }\n",
       "};\n",
       "\n",
       "// Register the function which deals with the matplotlib target/channel.\n",
       "// The kernel may be null if the page has been refreshed.\n",
       "if (IPython.notebook.kernel !== null) {\n",
       "    IPython.notebook.kernel.comm_manager.register_target(\n",
       "        'matplotlib',\n",
       "        mpl.mpl_figure_comm\n",
       "    );\n",
       "}\n"
      ],
      "text/plain": [
       "<IPython.core.display.Javascript object>"
      ]
     },
     "metadata": {},
     "output_type": "display_data"
    },
    {
     "data": {
      "text/html": [
       "<img src=\"data:image/png;base64,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\" width=\"432\">"
      ],
      "text/plain": [
       "<IPython.core.display.HTML object>"
      ]
     },
     "metadata": {},
     "output_type": "display_data"
    }
   ],
   "source": [
    "animate_lines([\n",
    "    [0, 0, 0],\n",
    "    [1, 2, 3],\n",
    "    [2, 3, 1],\n",
    "    [3, 1, 2],\n",
    "]);"
   ]
  },
  {
   "cell_type": "markdown",
   "id": "7b11d71a",
   "metadata": {},
   "source": [
    "### Simple Test Gradient"
   ]
  },
  {
   "cell_type": "code",
   "execution_count": null,
   "id": "7986777a",
   "metadata": {},
   "outputs": [],
   "source": [
    "def generate_gradient():\n",
    "    Line = np.zeros(shape=10)\n",
    "    N, = Line.shape\n",
    "    X = np.random.choice(N)\n",
    "    Line[X] = 1\n",
    "    for x in range(X+1, N):\n",
    "        Line[x] = Line[x-1] + 1\n",
    "    for x in reversed(range(0, X)):\n",
    "        Line[x] = Line[x+1] + 1\n",
    "    return Line"
   ]
  },
  {
   "cell_type": "code",
   "execution_count": null,
   "id": "d59bf280",
   "metadata": {},
   "outputs": [
    {
     "data": {
      "image/png": "[encoded data removed]",
      "text/plain": [
       "<Figure size 432x288 with 1 Axes>"
      ]
     },
     "metadata": {
      "needs_background": "light"
     },
     "output_type": "display_data"
    }
   ],
   "source": [
    "show_line(generate_gradient())"
   ]
  },
  {
   "cell_type": "markdown",
   "id": "e674bece",
   "metadata": {},
   "source": [
    "### Manual Wave Function Collapse"
   ]
  },
  {
   "cell_type": "markdown",
   "id": "78a69cef",
   "metadata": {},
   "source": [
    "#### Setup"
   ]
  },
  {
   "cell_type": "code",
   "execution_count": null,
   "id": "35933d38",
   "metadata": {},
   "outputs": [],
   "source": [
    "N = 10"
   ]
  },
  {
   "cell_type": "code",
   "execution_count": null,
   "id": "f0db4228",
   "metadata": {},
   "outputs": [
    {
     "data": {
      "text/plain": [
       "array([0, 0, 0, 0, 0, 0, 0, 0, 0, 0])"
      ]
     },
     "execution_count": null,
     "metadata": {},
     "output_type": "execute_result"
    }
   ],
   "source": [
    "Line = np.zeros(N, dtype=int); Line"
   ]
  },
  {
   "cell_type": "code",
   "execution_count": null,
   "id": "ba52a979",
   "metadata": {},
   "outputs": [
    {
     "data": {
      "image/png": "[encoded data removed]",
      "text/plain": [
       "<Figure size 432x288 with 1 Axes>"
      ]
     },
     "metadata": {
      "needs_background": "light"
     },
     "output_type": "display_data"
    }
   ],
   "source": [
    "show_line(Line)"
   ]
  },
  {
   "cell_type": "code",
   "execution_count": null,
   "id": "8987f638",
   "metadata": {},
   "outputs": [
    {
     "data": {
      "text/plain": [
       "(4, {0: (1, 3), 1: (0,), 2: (1,), 3: (2,)}, [0, 1, 2, 3], array([0, 1, 2, 3]))"
      ]
     },
     "execution_count": null,
     "metadata": {},
     "output_type": "execute_result"
    }
   ],
   "source": [
    "PossibleValuesRules = {\n",
    "    0: (1, 3,),\n",
    "    1: (0,),\n",
    "    2: (1,),\n",
    "    3: (2,)\n",
    "}\n",
    "NumberOfPossibleValues = len(PossibleValuesRules)\n",
    "PossibleValues = list(PossibleValuesRules.keys())\n",
    "PossibleValuesIdxs = np.arange(len(PossibleValues))\n",
    "NumberOfPossibleValues, PossibleValuesRules, PossibleValues, PossibleValuesIdxs"
   ]
  },
  {
   "cell_type": "code",
   "execution_count": null,
   "id": "0584f66e",
   "metadata": {},
   "outputs": [
    {
     "data": {
      "text/plain": [
       "array([[ True,  True,  True,  True],\n",
       "       [ True,  True,  True,  True],\n",
       "       [ True,  True,  True,  True],\n",
       "       [ True,  True,  True,  True],\n",
       "       [ True,  True,  True,  True],\n",
       "       [ True,  True,  True,  True],\n",
       "       [ True,  True,  True,  True],\n",
       "       [ True,  True,  True,  True],\n",
       "       [ True,  True,  True,  True],\n",
       "       [ True,  True,  True,  True]])"
      ]
     },
     "execution_count": null,
     "metadata": {},
     "output_type": "execute_result"
    }
   ],
   "source": [
    "WaveFunction = np.ones(shape=(N, NumberOfPossibleValues), dtype=bool); WaveFunction"
   ]
  },
  {
   "cell_type": "code",
   "execution_count": null,
   "id": "2fbaf93f",
   "metadata": {},
   "outputs": [
    {
     "data": {
      "text/plain": [
       "array([False, False, False, False, False, False, False, False, False,\n",
       "       False])"
      ]
     },
     "execution_count": null,
     "metadata": {},
     "output_type": "execute_result"
    }
   ],
   "source": [
    "LineHasCollapsed = np.zeros(shape=N, dtype=bool); LineHasCollapsed"
   ]
  },
  {
   "cell_type": "markdown",
   "id": "1695000b",
   "metadata": {},
   "source": [
    "#### First Iteration"
   ]
  },
  {
   "cell_type": "code",
   "execution_count": null,
   "id": "b9038af1",
   "metadata": {},
   "outputs": [
    {
     "data": {
      "text/plain": [
       "2"
      ]
     },
     "execution_count": null,
     "metadata": {},
     "output_type": "execute_result"
    }
   ],
   "source": [
    "X = choice(N); X"
   ]
  },
  {
   "cell_type": "code",
   "execution_count": null,
   "id": "2b873acc",
   "metadata": {},
   "outputs": [],
   "source": [
    "# Jump back up to here when doing manual looping!"
   ]
  },
  {
   "cell_type": "code",
   "execution_count": null,
   "id": "a96705bf",
   "metadata": {},
   "outputs": [
    {
     "data": {
      "text/plain": [
       "array([False,  True, False,  True])"
      ]
     },
     "execution_count": null,
     "metadata": {},
     "output_type": "execute_result"
    }
   ],
   "source": [
    "WaveFunction[X]"
   ]
  },
  {
   "cell_type": "code",
   "execution_count": null,
   "id": "7dc3fabe",
   "metadata": {},
   "outputs": [],
   "source": [
    "PossibleIdxForX = PossibleValuesIdxs[WaveFunction[X]]"
   ]
  },
  {
   "cell_type": "code",
   "execution_count": null,
   "id": "294d5fa2",
   "metadata": {},
   "outputs": [],
   "source": [
    "assert len(PossibleIdxForX) > 0"
   ]
  },
  {
   "cell_type": "code",
   "execution_count": null,
   "id": "3e8b119a",
   "metadata": {},
   "outputs": [
    {
     "data": {
      "text/plain": [
       "3"
      ]
     },
     "execution_count": null,
     "metadata": {},
     "output_type": "execute_result"
    }
   ],
   "source": [
    "ChoiceIdxForX = choice(PossibleIdxForX); ChoiceIdxForX"
   ]
  },
  {
   "cell_type": "code",
   "execution_count": null,
   "id": "5d71139f",
   "metadata": {},
   "outputs": [
    {
     "data": {
      "text/plain": [
       "3"
      ]
     },
     "execution_count": null,
     "metadata": {},
     "output_type": "execute_result"
    }
   ],
   "source": [
    "ChoiceForX = PossibleValues[PossibleValuesIdxs[ChoiceIdxForX]]; ChoiceForX"
   ]
  },
  {
   "cell_type": "code",
   "execution_count": null,
   "id": "179af27c",
   "metadata": {},
   "outputs": [],
   "source": [
    "Line[X] = ChoiceForX"
   ]
  },
  {
   "cell_type": "code",
   "execution_count": null,
   "id": "633cf09b",
   "metadata": {},
   "outputs": [
    {
     "data": {
      "image/png": "[encoded data removed]",
      "text/plain": [
       "<Figure size 432x288 with 1 Axes>"
      ]
     },
     "metadata": {
      "needs_background": "light"
     },
     "output_type": "display_data"
    }
   ],
   "source": [
    "show_line(Line)"
   ]
  },
  {
   "cell_type": "markdown",
   "id": "cefc4873",
   "metadata": {},
   "source": [
    "#### Choice has been made, propagate changes"
   ]
  },
  {
   "cell_type": "code",
   "execution_count": null,
   "id": "428a2e37",
   "metadata": {},
   "outputs": [
    {
     "data": {
      "text/plain": [
       "array([False,  True,  True,  True, False, False,  True, False, False,\n",
       "       False])"
      ]
     },
     "execution_count": null,
     "metadata": {},
     "output_type": "execute_result"
    }
   ],
   "source": [
    "LineHasCollapsed[X] = True; LineHasCollapsed"
   ]
  },
  {
   "cell_type": "code",
   "execution_count": null,
   "id": "6f3df326",
   "metadata": {},
   "outputs": [
    {
     "data": {
      "text/plain": [
       "array([[False,  True, False,  True],\n",
       "       [False, False, False, False],\n",
       "       [False, False, False, False],\n",
       "       [False, False, False, False],\n",
       "       [False,  True, False,  True],\n",
       "       [ True, False,  True, False],\n",
       "       [False, False, False, False],\n",
       "       [ True, False,  True, False],\n",
       "       [False,  True, False,  True],\n",
       "       [ True, False,  True, False]])"
      ]
     },
     "execution_count": null,
     "metadata": {},
     "output_type": "execute_result"
    }
   ],
   "source": [
    "WaveFunction[X] = False; # numpy broadcasting\n",
    "WaveFunction"
   ]
  },
  {
   "cell_type": "code",
   "execution_count": null,
   "id": "6f17ea99",
   "metadata": {},
   "outputs": [
    {
     "data": {
      "text/plain": [
       "(2, {0: (1, 3), 1: (0,), 2: (1,), 3: (2,)}, [0, 1, 2, 3], array([0, 1, 2, 3]))"
      ]
     },
     "execution_count": null,
     "metadata": {},
     "output_type": "execute_result"
    }
   ],
   "source": [
    "NumberOfPossibleValues, PossibleValuesRules, PossibleValues, PossibleValuesIdxs"
   ]
  },
  {
   "cell_type": "code",
   "execution_count": null,
   "id": "54c4daa4",
   "metadata": {},
   "outputs": [],
   "source": [
    "# for sublist in l: for item in sublist: yield item\n",
    "# def flatten(NestedList, Condition):\n",
    "#     return [Item for (SubList, C) in zip(NestedList, Condition) for Item in SubList if C]\n",
    "# flatten([[1, 2], [5, 6], [8, 6, 5]], [True, False, True])"
   ]
  },
  {
   "cell_type": "code",
   "execution_count": null,
   "id": "cedeb42b",
   "metadata": {},
   "outputs": [],
   "source": [
    "# [Value for (V, W) in zip(PossibleValues, OtherWaveFunction) for Value in PossibleValuesRules[V] if W]"
   ]
  },
  {
   "cell_type": "code",
   "execution_count": null,
   "id": "22146025",
   "metadata": {},
   "outputs": [
    {
     "data": {
      "text/plain": [
       "array([[False,  True, False,  True],\n",
       "       [False, False, False, False],\n",
       "       [False, False, False, False],\n",
       "       [False, False, False, False],\n",
       "       [False, False, False, False],\n",
       "       [False, False, False, False],\n",
       "       [False, False, False, False],\n",
       "       [False, False, False, False],\n",
       "       [False, False, False, False],\n",
       "       [False, False, False, False]])"
      ]
     },
     "execution_count": null,
     "metadata": {},
     "output_type": "execute_result"
    },
    {
     "data": {
      "image/png": "[encoded data removed]",
      "text/plain": [
       "<Figure size 432x288 with 1 Axes>"
      ]
     },
     "metadata": {
      "needs_background": "light"
     },
     "output_type": "display_data"
    }
   ],
   "source": [
    "WaveFunctionHasChanged = True\n",
    "while WaveFunctionHasChanged: # execute at least once\n",
    "    WaveFunctionHasChanged = False\n",
    "    for i in range(0, N):\n",
    "        if LineHasCollapsed[i]:\n",
    "            # print(f'{i} Collapsed')\n",
    "            continue # Dont update the wavefunction of a cell that has already collapsed\n",
    "        CurrentElement      = Line[i]\n",
    "        CurrentWaveFunction = WaveFunction[i]\n",
    "        NewWaveFunction     = np.ones_like(CurrentWaveFunction)\n",
    "\n",
    "        def check_element(idx):\n",
    "            \"Checks what values are permitted at the current element, based on what is present at this neighboor.\"\n",
    "            OtherElement, OtherWaveFunction = Line[idx], WaveFunction[idx]\n",
    "            if LineHasCollapsed[idx]:\n",
    "                AllowedValues = PossibleValuesRules[OtherElement]\n",
    "            else:\n",
    "                AllowedValues = [Value for (V, W) in zip(PossibleValues, OtherWaveFunction) for Value in PossibleValuesRules[V] if W]\n",
    "            for ValueIdx, Value in enumerate(PossibleValues):\n",
    "                if Value in AllowedValues:\n",
    "                    # if another cell has already made this value impossible, it can't be made possible again here.\n",
    "                    NewWaveFunction[ValueIdx] &= True\n",
    "                else:\n",
    "                    NewWaveFunction[ValueIdx] = False\n",
    "\n",
    "        if i > 0  : check_element(i-1)\n",
    "        if i < N-1: check_element(i+1)\n",
    "        NumberOfPossibleValues = sum(NewWaveFunction)\n",
    "        assert NumberOfPossibleValues != 0, f'{i} {WaveFunction}'\n",
    "        if NumberOfPossibleValues == 1: # Collapse this element\n",
    "            Line[i]                = PossibleValues[PossibleValuesIdxs[NewWaveFunction][0]]\n",
    "            LineHasCollapsed[i]    = True\n",
    "            WaveFunction[i]        = False # numpy broadcasting\n",
    "            WaveFunctionHasChanged = True\n",
    "        else:\n",
    "            WaveFunction[i] = NewWaveFunction\n",
    "            WaveFunctionHasChanged |= any(CurrentWaveFunction != NewWaveFunction)\n",
    "        # print(i, CurrentWaveFunction, NewWaveFunction)\n",
    "show_line(Line)\n",
    "WaveFunction"
   ]
  },
  {
   "cell_type": "code",
   "execution_count": null,
   "id": "09443803",
   "metadata": {},
   "outputs": [
    {
     "data": {
      "text/plain": [
       "array([0, 0, 1, 0, 1, 2, 3, 2, 1, 0])"
      ]
     },
     "execution_count": null,
     "metadata": {},
     "output_type": "execute_result"
    }
   ],
   "source": [
    "Line"
   ]
  },
  {
   "cell_type": "code",
   "execution_count": null,
   "id": "8f073a23",
   "metadata": {},
   "outputs": [
    {
     "data": {
      "text/plain": [
       "array([False,  True,  True,  True,  True,  True,  True,  True,  True,\n",
       "        True])"
      ]
     },
     "execution_count": null,
     "metadata": {},
     "output_type": "execute_result"
    }
   ],
   "source": [
    "LineHasCollapsed"
   ]
  },
  {
   "cell_type": "markdown",
   "id": "7c7eca1f",
   "metadata": {},
   "source": [
    "#### first iteration done, now repeat until all fields are collapsed"
   ]
  },
  {
   "cell_type": "code",
   "execution_count": null,
   "id": "720914ed",
   "metadata": {},
   "outputs": [
    {
     "data": {
      "text/plain": [
       "array([2, 0, 0, 0, 2, 2, 2, 2, 2, 2])"
      ]
     },
     "execution_count": null,
     "metadata": {},
     "output_type": "execute_result"
    }
   ],
   "source": [
    "NumberOfPossibleStates = WaveFunction.sum(axis=1); NumberOfPossibleStates"
   ]
  },
  {
   "cell_type": "code",
   "execution_count": null,
   "id": "f66b1941",
   "metadata": {},
   "outputs": [
    {
     "data": {
      "text/plain": [
       "array([0, 4, 5, 6, 7, 8, 9], dtype=int64)"
      ]
     },
     "execution_count": null,
     "metadata": {},
     "output_type": "execute_result"
    }
   ],
   "source": [
    "# Get the field with the lowest number of non-zero (non-collapsed) states.\n",
    "# If there are multiple fields, pick one of those at random.\n",
    "RemainingUncertainFields = np.flatnonzero(LineHasCollapsed == False); RemainingUncertainFields"
   ]
  },
  {
   "cell_type": "code",
   "execution_count": null,
   "id": "a06a74af",
   "metadata": {},
   "outputs": [],
   "source": [
    "if len(RemainingUncertainFields) == 0: print('STOP') # stop condition"
   ]
  },
  {
   "cell_type": "code",
   "execution_count": null,
   "id": "3ead21ab",
   "metadata": {},
   "outputs": [
    {
     "data": {
      "text/plain": [
       "2"
      ]
     },
     "execution_count": null,
     "metadata": {},
     "output_type": "execute_result"
    }
   ],
   "source": [
    "# There are two way of calculating what the number of least, non-zero, possibilities is:\n",
    "# LeastNumberOfRemainingStates = np.min(NumberOfPossibleStates,\n",
    "#                                       where=(LineHasCollapsed == False),\n",
    "#                                       initial=NumberOfPossibleValues)\n",
    "\n",
    "LeastNumberOfRemainingStates = np.min(NumberOfPossibleStates[RemainingUncertainFields]);\n",
    "\n",
    "LeastNumberOfRemainingStates"
   ]
  },
  {
   "cell_type": "code",
   "execution_count": null,
   "id": "9b6442cb",
   "metadata": {},
   "outputs": [
    {
     "data": {
      "text/plain": [
       "6"
      ]
     },
     "execution_count": null,
     "metadata": {},
     "output_type": "execute_result"
    }
   ],
   "source": [
    "# Choose which cell to collapse next\n",
    "X = choice(np.flatnonzero(NumberOfPossibleStates == LeastNumberOfRemainingStates)); X"
   ]
  },
  {
   "cell_type": "code",
   "execution_count": null,
   "id": "e72d571e",
   "metadata": {},
   "outputs": [],
   "source": [
    "# Jump back to the top and run the algorithm again!"
   ]
  },
  {
   "cell_type": "code",
   "execution_count": null,
   "id": "8c113430",
   "metadata": {},
   "outputs": [],
   "source": []
  },
  {
   "cell_type": "code",
   "execution_count": null,
   "id": "cbc5d3bc",
   "metadata": {},
   "outputs": [],
   "source": []
  },
  {
   "cell_type": "markdown",
   "id": "d7d63a95",
   "metadata": {},
   "source": [
    "### Complete Wave Function Collapse 1D"
   ]
  },
  {
   "cell_type": "code",
   "execution_count": null,
   "id": "cafb3d02",
   "metadata": {},
   "outputs": [],
   "source": [
    "def D1_WaveFunctionCollapse(N, PossibleValuesRules) -> (list, list):\n",
    "    AllLines = list()\n",
    "    NumberOfPossibleValues = len(PossibleValuesRules)\n",
    "    PossibleValues         = list(PossibleValuesRules.keys())\n",
    "    PossibleValuesIdxs     = np.arange(NumberOfPossibleValues)\n",
    "    Line             = np.zeros(shape=N, dtype=int)\n",
    "    AllLines.append(deepcopy(Line))\n",
    "    WaveFunction     = np.ones(shape=(N, NumberOfPossibleValues), dtype=bool)\n",
    "    LineHasCollapsed = np.zeros(shape=N, dtype=bool)\n",
    "    \n",
    "    X = choice(N) # Choose initial cell to collapse\n",
    "    while True:\n",
    "        PossibleIdxForX = PossibleValuesIdxs[WaveFunction[X]]\n",
    "        assert len(PossibleIdxForX) > 0\n",
    "        ChoiceIdxForX   = choice(PossibleIdxForX) # Choose what value to collapse to, among the remaining possible ones.\n",
    "        Line[X]         = PossibleValues[PossibleValuesIdxs[ChoiceIdxForX]] # Apply choice to cell\n",
    "        AllLines.append(deepcopy(Line))\n",
    "        \n",
    "        LineHasCollapsed[X] = True\n",
    "        WaveFunction[X]     = False # numpy broadcasting\n",
    "        \n",
    "        WaveFunctionHasChanged = True\n",
    "        while WaveFunctionHasChanged: # execute at least once\n",
    "            WaveFunctionHasChanged = False\n",
    "            for i in range(0, N):\n",
    "                if LineHasCollapsed[i]:\n",
    "                    # print(f'{i} Collapsed')\n",
    "                    continue # Dont update the wavefunction of a cell that has already collapsed\n",
    "                CurrentElement      = Line[i]\n",
    "                CurrentWaveFunction = WaveFunction[i]\n",
    "                NewWaveFunction     = np.ones_like(CurrentWaveFunction)\n",
    "                \n",
    "                def check_element(idx):\n",
    "                    \"Checks what values are permitted at the current element, based on what is present at this neighboor.\"\n",
    "                    OtherElement, OtherWaveFunction = Line[idx], WaveFunction[idx]\n",
    "                    if LineHasCollapsed[idx]:\n",
    "                        AllowedValues = PossibleValuesRules[OtherElement]\n",
    "                    else:\n",
    "                        AllowedValues = [Value for (V, W) in zip(PossibleValues, OtherWaveFunction) for Value in PossibleValuesRules[V] if W]\n",
    "                    for ValueIdx, Value in enumerate(PossibleValues):\n",
    "                        if Value in AllowedValues:\n",
    "                            # if another cell has already made this value impossible, it can't be made possible again here.\n",
    "                            NewWaveFunction[ValueIdx] &= True\n",
    "                        else:\n",
    "                            NewWaveFunction[ValueIdx] = False\n",
    "\n",
    "                if i > 0  : check_element(i-1)\n",
    "                if i < N-1: check_element(i+1)\n",
    "                NumberOfPossibleValues = sum(NewWaveFunction)\n",
    "                assert NumberOfPossibleValues != 0, f'{i} {WaveFunction}'\n",
    "                if NumberOfPossibleValues == 1: # Collapse this element\n",
    "                    Line[i]                = PossibleValues[PossibleValuesIdxs[NewWaveFunction][0]]\n",
    "                    AllLines.append(deepcopy(Line))\n",
    "                    LineHasCollapsed[i]    = True\n",
    "                    WaveFunction[i]        = False # numpy broadcasting\n",
    "                    WaveFunctionHasChanged = True\n",
    "                else:\n",
    "                    WaveFunction[i] = NewWaveFunction\n",
    "                    WaveFunctionHasChanged |= any(CurrentWaveFunction != NewWaveFunction)\n",
    "                # print(i, CurrentWaveFunction, NewWaveFunction)\n",
    "        \n",
    "        NumberOfPossibleStates = WaveFunction.sum(axis=1)\n",
    "        # Get the field with the lowest number of non-zero (non-collapsed) states.\n",
    "        # If there are multiple fields, pick one of those at random.\n",
    "        RemainingUncertainFields = np.flatnonzero(LineHasCollapsed == False)\n",
    "        if len(RemainingUncertainFields) == 0: break # STOP condition\n",
    "        \n",
    "        # There are two way of calculating what the number of least, non-zero, possibilities is:\n",
    "        # LeastNumberOfRemainingStates = np.min(NumberOfPossibleStates,\n",
    "        #                                       where=(LineHasCollapsed == False),\n",
    "        #                                       initial=NumberOfPossibleValues)\n",
    "\n",
    "        LeastNumberOfRemainingStates = np.min(NumberOfPossibleStates[RemainingUncertainFields])\n",
    "\n",
    "        # Choose which cell to collapse next\n",
    "        X = choice(np.flatnonzero(NumberOfPossibleStates == LeastNumberOfRemainingStates))\n",
    "    return Line, AllLines"
   ]
  },
  {
   "cell_type": "code",
   "execution_count": null,
   "id": "3c2e4adf",
   "metadata": {},
   "outputs": [
    {
     "data": {
      "image/png": "[encoded data removed]",
      "text/plain": [
       "<Figure size 432x288 with 1 Axes>"
      ]
     },
     "metadata": {
      "needs_background": "light"
     },
     "output_type": "display_data"
    }
   ],
   "source": [
    "N = 10\n",
    "# PossibleValuesRules = {\n",
    "#     0: (1, 3,),\n",
    "#     1: (0,),\n",
    "#     2: (1,),\n",
    "#     3: (2,3)\n",
    "# }\n",
    "PossibleValuesRules = {\n",
    "    0: (1,),\n",
    "    1: (0,),\n",
    "}\n",
    "Line, AllLines = D1_WaveFunctionCollapse(N, PossibleValuesRules)\n",
    "show_line(Line)\n",
    "# animate_lines(AllLines);"
   ]
  },
  {
   "cell_type": "code",
   "execution_count": null,
   "id": "084cd9a1",
   "metadata": {},
   "outputs": [
    {
     "data": {
      "text/plain": [
       "[array([0, 0, 0, 0, 0, 0, 0, 0, 0, 0]),\n",
       " array([0, 0, 0, 0, 0, 0, 0, 0, 0, 0]),\n",
       " array([0, 0, 1, 0, 0, 0, 0, 0, 0, 0]),\n",
       " array([0, 0, 1, 0, 0, 0, 0, 0, 0, 0]),\n",
       " array([3, 0, 1, 0, 0, 0, 0, 0, 0, 0]),\n",
       " array([3, 0, 1, 0, 1, 0, 0, 0, 0, 0]),\n",
       " array([3, 0, 1, 0, 1, 0, 0, 0, 0, 0]),\n",
       " array([3, 0, 1, 0, 1, 0, 1, 0, 0, 0]),\n",
       " array([3, 0, 1, 0, 1, 0, 1, 0, 0, 0]),\n",
       " array([3, 0, 1, 0, 1, 0, 1, 0, 3, 0]),\n",
       " array([3, 0, 1, 0, 1, 0, 1, 0, 3, 2])]"
      ]
     },
     "execution_count": null,
     "metadata": {},
     "output_type": "execute_result"
    }
   ],
   "source": [
    "AllLines"
   ]
  },
  {
   "cell_type": "code",
   "execution_count": null,
   "id": "3cd8f6ac",
   "metadata": {},
   "outputs": [],
   "source": []
  },
  {
   "cell_type": "markdown",
   "id": "82cf5eb0",
   "metadata": {},
   "source": [
    "## 2D"
   ]
  },
  {
   "cell_type": "code",
   "execution_count": null,
   "id": "c1c7241a",
   "metadata": {},
   "outputs": [],
   "source": [
    "# TODO: replace matplotlib image show with something else, something more flexible. Maybe custom rendering via opencv\n",
    "# TODO: Construct image from sub-image tiles\n",
    "# TODO: Pattern extraction from images"
   ]
  },
  {
   "cell_type": "code",
   "execution_count": null,
   "id": "93c651ac",
   "metadata": {},
   "outputs": [],
   "source": [
    "def show_image(Image):\n",
    "    %matplotlib inline\n",
    "    plt.axis('off')\n",
    "    plt.imshow(Image)"
   ]
  },
  {
   "cell_type": "code",
   "execution_count": null,
   "id": "e813ca1c",
   "metadata": {},
   "outputs": [
    {
     "data": {
      "image/png": "[encoded data removed]",
      "text/plain": [
       "<Figure size 432x288 with 1 Axes>"
      ]
     },
     "metadata": {
      "needs_background": "light"
     },
     "output_type": "display_data"
    }
   ],
   "source": [
    "show_image([[1, 2], [2, 3]])"
   ]
  },
  {
   "cell_type": "code",
   "execution_count": null,
   "id": "91eca86d",
   "metadata": {},
   "outputs": [],
   "source": [
    "def animate_images(Images):\n",
    "    %matplotlib notebook\n",
    "    fig, ax = plt.subplots()\n",
    "    ax.axis('off')\n",
    "    img = ax.imshow(Images[-1], animated=True)\n",
    "    \n",
    "    def animate(frame, *fargs):\n",
    "        img.set_data(frame)\n",
    "    \n",
    "    return animation.FuncAnimation(fig, animate, frames=Images, interval=500, repeat=True)"
   ]
  },
  {
   "cell_type": "code",
   "execution_count": null,
   "id": "78389452",
   "metadata": {},
   "outputs": [
    {
     "data": {
      "application/javascript": [
       "/* Put everything inside the global mpl namespace */\n",
       "/* global mpl */\n",
       "window.mpl = {};\n",
       "\n",
       "mpl.get_websocket_type = function () {\n",
       "    if (typeof WebSocket !== 'undefined') {\n",
       "        return WebSocket;\n",
       "    } else if (typeof MozWebSocket !== 'undefined') {\n",
       "        return MozWebSocket;\n",
       "    } else {\n",
       "        alert(\n",
       "            'Your browser does not have WebSocket support. ' +\n",
       "                'Please try Chrome, Safari or Firefox ≥ 6. ' +\n",
       "                'Firefox 4 and 5 are also supported but you ' +\n",
       "                'have to enable WebSockets in about:config.'\n",
       "        );\n",
       "    }\n",
       "};\n",
       "\n",
       "mpl.figure = function (figure_id, websocket, ondownload, parent_element) {\n",
       "    this.id = figure_id;\n",
       "\n",
       "    this.ws = websocket;\n",
       "\n",
       "    this.supports_binary = this.ws.binaryType !== undefined;\n",
       "\n",
       "    if (!this.supports_binary) {\n",
       "        var warnings = document.getElementById('mpl-warnings');\n",
       "        if (warnings) {\n",
       "            warnings.style.display = 'block';\n",
       "            warnings.textContent =\n",
       "                'This browser does not support binary websocket messages. ' +\n",
       "                'Performance may be slow.';\n",
       "        }\n",
       "    }\n",
       "\n",
       "    this.imageObj = new Image();\n",
       "\n",
       "    this.context = undefined;\n",
       "    this.message = undefined;\n",
       "    this.canvas = undefined;\n",
       "    this.rubberband_canvas = undefined;\n",
       "    this.rubberband_context = undefined;\n",
       "    this.format_dropdown = undefined;\n",
       "\n",
       "    this.image_mode = 'full';\n",
       "\n",
       "    this.root = document.createElement('div');\n",
       "    this.root.setAttribute('style', 'display: inline-block');\n",
       "    this._root_extra_style(this.root);\n",
       "\n",
       "    parent_element.appendChild(this.root);\n",
       "\n",
       "    this._init_header(this);\n",
       "    this._init_canvas(this);\n",
       "    this._init_toolbar(this);\n",
       "\n",
       "    var fig = this;\n",
       "\n",
       "    this.waiting = false;\n",
       "\n",
       "    this.ws.onopen = function () {\n",
       "        fig.send_message('supports_binary', { value: fig.supports_binary });\n",
       "        fig.send_message('send_image_mode', {});\n",
       "        if (fig.ratio !== 1) {\n",
       "            fig.send_message('set_device_pixel_ratio', {\n",
       "                device_pixel_ratio: fig.ratio,\n",
       "            });\n",
       "        }\n",
       "        fig.send_message('refresh', {});\n",
       "    };\n",
       "\n",
       "    this.imageObj.onload = function () {\n",
       "        if (fig.image_mode === 'full') {\n",
       "            // Full images could contain transparency (where diff images\n",
       "            // almost always do), so we need to clear the canvas so that\n",
       "            // there is no ghosting.\n",
       "            fig.context.clearRect(0, 0, fig.canvas.width, fig.canvas.height);\n",
       "        }\n",
       "        fig.context.drawImage(fig.imageObj, 0, 0);\n",
       "    };\n",
       "\n",
       "    this.imageObj.onunload = function () {\n",
       "        fig.ws.close();\n",
       "    };\n",
       "\n",
       "    this.ws.onmessage = this._make_on_message_function(this);\n",
       "\n",
       "    this.ondownload = ondownload;\n",
       "};\n",
       "\n",
       "mpl.figure.prototype._init_header = function () {\n",
       "    var titlebar = document.createElement('div');\n",
       "    titlebar.classList =\n",
       "        'ui-dialog-titlebar ui-widget-header ui-corner-all ui-helper-clearfix';\n",
       "    var titletext = document.createElement('div');\n",
       "    titletext.classList = 'ui-dialog-title';\n",
       "    titletext.setAttribute(\n",
       "        'style',\n",
       "        'width: 100%; text-align: center; padding: 3px;'\n",
       "    );\n",
       "    titlebar.appendChild(titletext);\n",
       "    this.root.appendChild(titlebar);\n",
       "    this.header = titletext;\n",
       "};\n",
       "\n",
       "mpl.figure.prototype._canvas_extra_style = function (_canvas_div) {};\n",
       "\n",
       "mpl.figure.prototype._root_extra_style = function (_canvas_div) {};\n",
       "\n",
       "mpl.figure.prototype._init_canvas = function () {\n",
       "    var fig = this;\n",
       "\n",
       "    var canvas_div = (this.canvas_div = document.createElement('div'));\n",
       "    canvas_div.setAttribute(\n",
       "        'style',\n",
       "        'border: 1px solid #ddd;' +\n",
       "            'box-sizing: content-box;' +\n",
       "            'clear: both;' +\n",
       "            'min-height: 1px;' +\n",
       "            'min-width: 1px;' +\n",
       "            'outline: 0;' +\n",
       "            'overflow: hidden;' +\n",
       "            'position: relative;' +\n",
       "            'resize: both;'\n",
       "    );\n",
       "\n",
       "    function on_keyboard_event_closure(name) {\n",
       "        return function (event) {\n",
       "            return fig.key_event(event, name);\n",
       "        };\n",
       "    }\n",
       "\n",
       "    canvas_div.addEventListener(\n",
       "        'keydown',\n",
       "        on_keyboard_event_closure('key_press')\n",
       "    );\n",
       "    canvas_div.addEventListener(\n",
       "        'keyup',\n",
       "        on_keyboard_event_closure('key_release')\n",
       "    );\n",
       "\n",
       "    this._canvas_extra_style(canvas_div);\n",
       "    this.root.appendChild(canvas_div);\n",
       "\n",
       "    var canvas = (this.canvas = document.createElement('canvas'));\n",
       "    canvas.classList.add('mpl-canvas');\n",
       "    canvas.setAttribute('style', 'box-sizing: content-box;');\n",
       "\n",
       "    this.context = canvas.getContext('2d');\n",
       "\n",
       "    var backingStore =\n",
       "        this.context.backingStorePixelRatio ||\n",
       "        this.context.webkitBackingStorePixelRatio ||\n",
       "        this.context.mozBackingStorePixelRatio ||\n",
       "        this.context.msBackingStorePixelRatio ||\n",
       "        this.context.oBackingStorePixelRatio ||\n",
       "        this.context.backingStorePixelRatio ||\n",
       "        1;\n",
       "\n",
       "    this.ratio = (window.devicePixelRatio || 1) / backingStore;\n",
       "\n",
       "    var rubberband_canvas = (this.rubberband_canvas = document.createElement(\n",
       "        'canvas'\n",
       "    ));\n",
       "    rubberband_canvas.setAttribute(\n",
       "        'style',\n",
       "        'box-sizing: content-box; position: absolute; left: 0; top: 0; z-index: 1;'\n",
       "    );\n",
       "\n",
       "    // Apply a ponyfill if ResizeObserver is not implemented by browser.\n",
       "    if (this.ResizeObserver === undefined) {\n",
       "        if (window.ResizeObserver !== undefined) {\n",
       "            this.ResizeObserver = window.ResizeObserver;\n",
       "        } else {\n",
       "            var obs = _JSXTOOLS_RESIZE_OBSERVER({});\n",
       "            this.ResizeObserver = obs.ResizeObserver;\n",
       "        }\n",
       "    }\n",
       "\n",
       "    this.resizeObserverInstance = new this.ResizeObserver(function (entries) {\n",
       "        var nentries = entries.length;\n",
       "        for (var i = 0; i < nentries; i++) {\n",
       "            var entry = entries[i];\n",
       "            var width, height;\n",
       "            if (entry.contentBoxSize) {\n",
       "                if (entry.contentBoxSize instanceof Array) {\n",
       "                    // Chrome 84 implements new version of spec.\n",
       "                    width = entry.contentBoxSize[0].inlineSize;\n",
       "                    height = entry.contentBoxSize[0].blockSize;\n",
       "                } else {\n",
       "                    // Firefox implements old version of spec.\n",
       "                    width = entry.contentBoxSize.inlineSize;\n",
       "                    height = entry.contentBoxSize.blockSize;\n",
       "                }\n",
       "            } else {\n",
       "                // Chrome <84 implements even older version of spec.\n",
       "                width = entry.contentRect.width;\n",
       "                height = entry.contentRect.height;\n",
       "            }\n",
       "\n",
       "            // Keep the size of the canvas and rubber band canvas in sync with\n",
       "            // the canvas container.\n",
       "            if (entry.devicePixelContentBoxSize) {\n",
       "                // Chrome 84 implements new version of spec.\n",
       "                canvas.setAttribute(\n",
       "                    'width',\n",
       "                    entry.devicePixelContentBoxSize[0].inlineSize\n",
       "                );\n",
       "                canvas.setAttribute(\n",
       "                    'height',\n",
       "                    entry.devicePixelContentBoxSize[0].blockSize\n",
       "                );\n",
       "            } else {\n",
       "                canvas.setAttribute('width', width * fig.ratio);\n",
       "                canvas.setAttribute('height', height * fig.ratio);\n",
       "            }\n",
       "            canvas.setAttribute(\n",
       "                'style',\n",
       "                'width: ' + width + 'px; height: ' + height + 'px;'\n",
       "            );\n",
       "\n",
       "            rubberband_canvas.setAttribute('width', width);\n",
       "            rubberband_canvas.setAttribute('height', height);\n",
       "\n",
       "            // And update the size in Python. We ignore the initial 0/0 size\n",
       "            // that occurs as the element is placed into the DOM, which should\n",
       "            // otherwise not happen due to the minimum size styling.\n",
       "            if (fig.ws.readyState == 1 && width != 0 && height != 0) {\n",
       "                fig.request_resize(width, height);\n",
       "            }\n",
       "        }\n",
       "    });\n",
       "    this.resizeObserverInstance.observe(canvas_div);\n",
       "\n",
       "    function on_mouse_event_closure(name) {\n",
       "        return function (event) {\n",
       "            return fig.mouse_event(event, name);\n",
       "        };\n",
       "    }\n",
       "\n",
       "    rubberband_canvas.addEventListener(\n",
       "        'mousedown',\n",
       "        on_mouse_event_closure('button_press')\n",
       "    );\n",
       "    rubberband_canvas.addEventListener(\n",
       "        'mouseup',\n",
       "        on_mouse_event_closure('button_release')\n",
       "    );\n",
       "    rubberband_canvas.addEventListener(\n",
       "        'dblclick',\n",
       "        on_mouse_event_closure('dblclick')\n",
       "    );\n",
       "    // Throttle sequential mouse events to 1 every 20ms.\n",
       "    rubberband_canvas.addEventListener(\n",
       "        'mousemove',\n",
       "        on_mouse_event_closure('motion_notify')\n",
       "    );\n",
       "\n",
       "    rubberband_canvas.addEventListener(\n",
       "        'mouseenter',\n",
       "        on_mouse_event_closure('figure_enter')\n",
       "    );\n",
       "    rubberband_canvas.addEventListener(\n",
       "        'mouseleave',\n",
       "        on_mouse_event_closure('figure_leave')\n",
       "    );\n",
       "\n",
       "    canvas_div.addEventListener('wheel', function (event) {\n",
       "        if (event.deltaY < 0) {\n",
       "            event.step = 1;\n",
       "        } else {\n",
       "            event.step = -1;\n",
       "        }\n",
       "        on_mouse_event_closure('scroll')(event);\n",
       "    });\n",
       "\n",
       "    canvas_div.appendChild(canvas);\n",
       "    canvas_div.appendChild(rubberband_canvas);\n",
       "\n",
       "    this.rubberband_context = rubberband_canvas.getContext('2d');\n",
       "    this.rubberband_context.strokeStyle = '#000000';\n",
       "\n",
       "    this._resize_canvas = function (width, height, forward) {\n",
       "        if (forward) {\n",
       "            canvas_div.style.width = width + 'px';\n",
       "            canvas_div.style.height = height + 'px';\n",
       "        }\n",
       "    };\n",
       "\n",
       "    // Disable right mouse context menu.\n",
       "    this.rubberband_canvas.addEventListener('contextmenu', function (_e) {\n",
       "        event.preventDefault();\n",
       "        return false;\n",
       "    });\n",
       "\n",
       "    function set_focus() {\n",
       "        canvas.focus();\n",
       "        canvas_div.focus();\n",
       "    }\n",
       "\n",
       "    window.setTimeout(set_focus, 100);\n",
       "};\n",
       "\n",
       "mpl.figure.prototype._init_toolbar = function () {\n",
       "    var fig = this;\n",
       "\n",
       "    var toolbar = document.createElement('div');\n",
       "    toolbar.classList = 'mpl-toolbar';\n",
       "    this.root.appendChild(toolbar);\n",
       "\n",
       "    function on_click_closure(name) {\n",
       "        return function (_event) {\n",
       "            return fig.toolbar_button_onclick(name);\n",
       "        };\n",
       "    }\n",
       "\n",
       "    function on_mouseover_closure(tooltip) {\n",
       "        return function (event) {\n",
       "            if (!event.currentTarget.disabled) {\n",
       "                return fig.toolbar_button_onmouseover(tooltip);\n",
       "            }\n",
       "        };\n",
       "    }\n",
       "\n",
       "    fig.buttons = {};\n",
       "    var buttonGroup = document.createElement('div');\n",
       "    buttonGroup.classList = 'mpl-button-group';\n",
       "    for (var toolbar_ind in mpl.toolbar_items) {\n",
       "        var name = mpl.toolbar_items[toolbar_ind][0];\n",
       "        var tooltip = mpl.toolbar_items[toolbar_ind][1];\n",
       "        var image = mpl.toolbar_items[toolbar_ind][2];\n",
       "        var method_name = mpl.toolbar_items[toolbar_ind][3];\n",
       "\n",
       "        if (!name) {\n",
       "            /* Instead of a spacer, we start a new button group. */\n",
       "            if (buttonGroup.hasChildNodes()) {\n",
       "                toolbar.appendChild(buttonGroup);\n",
       "            }\n",
       "            buttonGroup = document.createElement('div');\n",
       "            buttonGroup.classList = 'mpl-button-group';\n",
       "            continue;\n",
       "        }\n",
       "\n",
       "        var button = (fig.buttons[name] = document.createElement('button'));\n",
       "        button.classList = 'mpl-widget';\n",
       "        button.setAttribute('role', 'button');\n",
       "        button.setAttribute('aria-disabled', 'false');\n",
       "        button.addEventListener('click', on_click_closure(method_name));\n",
       "        button.addEventListener('mouseover', on_mouseover_closure(tooltip));\n",
       "\n",
       "        var icon_img = document.createElement('img');\n",
       "        icon_img.src = '_images/' + image + '.png';\n",
       "        icon_img.srcset = '_images/' + image + '_large.png 2x';\n",
       "        icon_img.alt = tooltip;\n",
       "        button.appendChild(icon_img);\n",
       "\n",
       "        buttonGroup.appendChild(button);\n",
       "    }\n",
       "\n",
       "    if (buttonGroup.hasChildNodes()) {\n",
       "        toolbar.appendChild(buttonGroup);\n",
       "    }\n",
       "\n",
       "    var fmt_picker = document.createElement('select');\n",
       "    fmt_picker.classList = 'mpl-widget';\n",
       "    toolbar.appendChild(fmt_picker);\n",
       "    this.format_dropdown = fmt_picker;\n",
       "\n",
       "    for (var ind in mpl.extensions) {\n",
       "        var fmt = mpl.extensions[ind];\n",
       "        var option = document.createElement('option');\n",
       "        option.selected = fmt === mpl.default_extension;\n",
       "        option.innerHTML = fmt;\n",
       "        fmt_picker.appendChild(option);\n",
       "    }\n",
       "\n",
       "    var status_bar = document.createElement('span');\n",
       "    status_bar.classList = 'mpl-message';\n",
       "    toolbar.appendChild(status_bar);\n",
       "    this.message = status_bar;\n",
       "};\n",
       "\n",
       "mpl.figure.prototype.request_resize = function (x_pixels, y_pixels) {\n",
       "    // Request matplotlib to resize the figure. Matplotlib will then trigger a resize in the client,\n",
       "    // which will in turn request a refresh of the image.\n",
       "    this.send_message('resize', { width: x_pixels, height: y_pixels });\n",
       "};\n",
       "\n",
       "mpl.figure.prototype.send_message = function (type, properties) {\n",
       "    properties['type'] = type;\n",
       "    properties['figure_id'] = this.id;\n",
       "    this.ws.send(JSON.stringify(properties));\n",
       "};\n",
       "\n",
       "mpl.figure.prototype.send_draw_message = function () {\n",
       "    if (!this.waiting) {\n",
       "        this.waiting = true;\n",
       "        this.ws.send(JSON.stringify({ type: 'draw', figure_id: this.id }));\n",
       "    }\n",
       "};\n",
       "\n",
       "mpl.figure.prototype.handle_save = function (fig, _msg) {\n",
       "    var format_dropdown = fig.format_dropdown;\n",
       "    var format = format_dropdown.options[format_dropdown.selectedIndex].value;\n",
       "    fig.ondownload(fig, format);\n",
       "};\n",
       "\n",
       "mpl.figure.prototype.handle_resize = function (fig, msg) {\n",
       "    var size = msg['size'];\n",
       "    if (size[0] !== fig.canvas.width || size[1] !== fig.canvas.height) {\n",
       "        fig._resize_canvas(size[0], size[1], msg['forward']);\n",
       "        fig.send_message('refresh', {});\n",
       "    }\n",
       "};\n",
       "\n",
       "mpl.figure.prototype.handle_rubberband = function (fig, msg) {\n",
       "    var x0 = msg['x0'] / fig.ratio;\n",
       "    var y0 = (fig.canvas.height - msg['y0']) / fig.ratio;\n",
       "    var x1 = msg['x1'] / fig.ratio;\n",
       "    var y1 = (fig.canvas.height - msg['y1']) / fig.ratio;\n",
       "    x0 = Math.floor(x0) + 0.5;\n",
       "    y0 = Math.floor(y0) + 0.5;\n",
       "    x1 = Math.floor(x1) + 0.5;\n",
       "    y1 = Math.floor(y1) + 0.5;\n",
       "    var min_x = Math.min(x0, x1);\n",
       "    var min_y = Math.min(y0, y1);\n",
       "    var width = Math.abs(x1 - x0);\n",
       "    var height = Math.abs(y1 - y0);\n",
       "\n",
       "    fig.rubberband_context.clearRect(\n",
       "        0,\n",
       "        0,\n",
       "        fig.canvas.width / fig.ratio,\n",
       "        fig.canvas.height / fig.ratio\n",
       "    );\n",
       "\n",
       "    fig.rubberband_context.strokeRect(min_x, min_y, width, height);\n",
       "};\n",
       "\n",
       "mpl.figure.prototype.handle_figure_label = function (fig, msg) {\n",
       "    // Updates the figure title.\n",
       "    fig.header.textContent = msg['label'];\n",
       "};\n",
       "\n",
       "mpl.figure.prototype.handle_cursor = function (fig, msg) {\n",
       "    fig.rubberband_canvas.style.cursor = msg['cursor'];\n",
       "};\n",
       "\n",
       "mpl.figure.prototype.handle_message = function (fig, msg) {\n",
       "    fig.message.textContent = msg['message'];\n",
       "};\n",
       "\n",
       "mpl.figure.prototype.handle_draw = function (fig, _msg) {\n",
       "    // Request the server to send over a new figure.\n",
       "    fig.send_draw_message();\n",
       "};\n",
       "\n",
       "mpl.figure.prototype.handle_image_mode = function (fig, msg) {\n",
       "    fig.image_mode = msg['mode'];\n",
       "};\n",
       "\n",
       "mpl.figure.prototype.handle_history_buttons = function (fig, msg) {\n",
       "    for (var key in msg) {\n",
       "        if (!(key in fig.buttons)) {\n",
       "            continue;\n",
       "        }\n",
       "        fig.buttons[key].disabled = !msg[key];\n",
       "        fig.buttons[key].setAttribute('aria-disabled', !msg[key]);\n",
       "    }\n",
       "};\n",
       "\n",
       "mpl.figure.prototype.handle_navigate_mode = function (fig, msg) {\n",
       "    if (msg['mode'] === 'PAN') {\n",
       "        fig.buttons['Pan'].classList.add('active');\n",
       "        fig.buttons['Zoom'].classList.remove('active');\n",
       "    } else if (msg['mode'] === 'ZOOM') {\n",
       "        fig.buttons['Pan'].classList.remove('active');\n",
       "        fig.buttons['Zoom'].classList.add('active');\n",
       "    } else {\n",
       "        fig.buttons['Pan'].classList.remove('active');\n",
       "        fig.buttons['Zoom'].classList.remove('active');\n",
       "    }\n",
       "};\n",
       "\n",
       "mpl.figure.prototype.updated_canvas_event = function () {\n",
       "    // Called whenever the canvas gets updated.\n",
       "    this.send_message('ack', {});\n",
       "};\n",
       "\n",
       "// A function to construct a web socket function for onmessage handling.\n",
       "// Called in the figure constructor.\n",
       "mpl.figure.prototype._make_on_message_function = function (fig) {\n",
       "    return function socket_on_message(evt) {\n",
       "        if (evt.data instanceof Blob) {\n",
       "            var img = evt.data;\n",
       "            if (img.type !== 'image/png') {\n",
       "                /* FIXME: We get \"Resource interpreted as Image but\n",
       "                 * transferred with MIME type text/plain:\" errors on\n",
       "                 * Chrome.  But how to set the MIME type?  It doesn't seem\n",
       "                 * to be part of the websocket stream */\n",
       "                img.type = 'image/png';\n",
       "            }\n",
       "\n",
       "            /* Free the memory for the previous frames */\n",
       "            if (fig.imageObj.src) {\n",
       "                (window.URL || window.webkitURL).revokeObjectURL(\n",
       "                    fig.imageObj.src\n",
       "                );\n",
       "            }\n",
       "\n",
       "            fig.imageObj.src = (window.URL || window.webkitURL).createObjectURL(\n",
       "                img\n",
       "            );\n",
       "            fig.updated_canvas_event();\n",
       "            fig.waiting = false;\n",
       "            return;\n",
       "        } else if (\n",
       "            typeof evt.data === 'string' &&\n",
       "            evt.data.slice(0, 21) === 'data:image/png;base64'\n",
       "        ) {\n",
       "            fig.imageObj.src = evt.data;\n",
       "            fig.updated_canvas_event();\n",
       "            fig.waiting = false;\n",
       "            return;\n",
       "        }\n",
       "\n",
       "        var msg = JSON.parse(evt.data);\n",
       "        var msg_type = msg['type'];\n",
       "\n",
       "        // Call the  \"handle_{type}\" callback, which takes\n",
       "        // the figure and JSON message as its only arguments.\n",
       "        try {\n",
       "            var callback = fig['handle_' + msg_type];\n",
       "        } catch (e) {\n",
       "            console.log(\n",
       "                \"No handler for the '\" + msg_type + \"' message type: \",\n",
       "                msg\n",
       "            );\n",
       "            return;\n",
       "        }\n",
       "\n",
       "        if (callback) {\n",
       "            try {\n",
       "                // console.log(\"Handling '\" + msg_type + \"' message: \", msg);\n",
       "                callback(fig, msg);\n",
       "            } catch (e) {\n",
       "                console.log(\n",
       "                    \"Exception inside the 'handler_\" + msg_type + \"' callback:\",\n",
       "                    e,\n",
       "                    e.stack,\n",
       "                    msg\n",
       "                );\n",
       "            }\n",
       "        }\n",
       "    };\n",
       "};\n",
       "\n",
       "// from https://stackoverflow.com/questions/1114465/getting-mouse-location-in-canvas\n",
       "mpl.findpos = function (e) {\n",
       "    //this section is from http://www.quirksmode.org/js/events_properties.html\n",
       "    var targ;\n",
       "    if (!e) {\n",
       "        e = window.event;\n",
       "    }\n",
       "    if (e.target) {\n",
       "        targ = e.target;\n",
       "    } else if (e.srcElement) {\n",
       "        targ = e.srcElement;\n",
       "    }\n",
       "    if (targ.nodeType === 3) {\n",
       "        // defeat Safari bug\n",
       "        targ = targ.parentNode;\n",
       "    }\n",
       "\n",
       "    // pageX,Y are the mouse positions relative to the document\n",
       "    var boundingRect = targ.getBoundingClientRect();\n",
       "    var x = e.pageX - (boundingRect.left + document.body.scrollLeft);\n",
       "    var y = e.pageY - (boundingRect.top + document.body.scrollTop);\n",
       "\n",
       "    return { x: x, y: y };\n",
       "};\n",
       "\n",
       "/*\n",
       " * return a copy of an object with only non-object keys\n",
       " * we need this to avoid circular references\n",
       " * https://stackoverflow.com/a/24161582/3208463\n",
       " */\n",
       "function simpleKeys(original) {\n",
       "    return Object.keys(original).reduce(function (obj, key) {\n",
       "        if (typeof original[key] !== 'object') {\n",
       "            obj[key] = original[key];\n",
       "        }\n",
       "        return obj;\n",
       "    }, {});\n",
       "}\n",
       "\n",
       "mpl.figure.prototype.mouse_event = function (event, name) {\n",
       "    var canvas_pos = mpl.findpos(event);\n",
       "\n",
       "    if (name === 'button_press') {\n",
       "        this.canvas.focus();\n",
       "        this.canvas_div.focus();\n",
       "    }\n",
       "\n",
       "    var x = canvas_pos.x * this.ratio;\n",
       "    var y = canvas_pos.y * this.ratio;\n",
       "\n",
       "    this.send_message(name, {\n",
       "        x: x,\n",
       "        y: y,\n",
       "        button: event.button,\n",
       "        step: event.step,\n",
       "        guiEvent: simpleKeys(event),\n",
       "    });\n",
       "\n",
       "    /* This prevents the web browser from automatically changing to\n",
       "     * the text insertion cursor when the button is pressed.  We want\n",
       "     * to control all of the cursor setting manually through the\n",
       "     * 'cursor' event from matplotlib */\n",
       "    event.preventDefault();\n",
       "    return false;\n",
       "};\n",
       "\n",
       "mpl.figure.prototype._key_event_extra = function (_event, _name) {\n",
       "    // Handle any extra behaviour associated with a key event\n",
       "};\n",
       "\n",
       "mpl.figure.prototype.key_event = function (event, name) {\n",
       "    // Prevent repeat events\n",
       "    if (name === 'key_press') {\n",
       "        if (event.key === this._key) {\n",
       "            return;\n",
       "        } else {\n",
       "            this._key = event.key;\n",
       "        }\n",
       "    }\n",
       "    if (name === 'key_release') {\n",
       "        this._key = null;\n",
       "    }\n",
       "\n",
       "    var value = '';\n",
       "    if (event.ctrlKey && event.key !== 'Control') {\n",
       "        value += 'ctrl+';\n",
       "    }\n",
       "    else if (event.altKey && event.key !== 'Alt') {\n",
       "        value += 'alt+';\n",
       "    }\n",
       "    else if (event.shiftKey && event.key !== 'Shift') {\n",
       "        value += 'shift+';\n",
       "    }\n",
       "\n",
       "    value += 'k' + event.key;\n",
       "\n",
       "    this._key_event_extra(event, name);\n",
       "\n",
       "    this.send_message(name, { key: value, guiEvent: simpleKeys(event) });\n",
       "    return false;\n",
       "};\n",
       "\n",
       "mpl.figure.prototype.toolbar_button_onclick = function (name) {\n",
       "    if (name === 'download') {\n",
       "        this.handle_save(this, null);\n",
       "    } else {\n",
       "        this.send_message('toolbar_button', { name: name });\n",
       "    }\n",
       "};\n",
       "\n",
       "mpl.figure.prototype.toolbar_button_onmouseover = function (tooltip) {\n",
       "    this.message.textContent = tooltip;\n",
       "};\n",
       "\n",
       "///////////////// REMAINING CONTENT GENERATED BY embed_js.py /////////////////\n",
       "// prettier-ignore\n",
       "var _JSXTOOLS_RESIZE_OBSERVER=function(A){var t,i=new WeakMap,n=new WeakMap,a=new WeakMap,r=new WeakMap,o=new Set;function s(e){if(!(this instanceof s))throw new TypeError(\"Constructor requires 'new' operator\");i.set(this,e)}function h(){throw new TypeError(\"Function is not a constructor\")}function c(e,t,i,n){e=0 in arguments?Number(arguments[0]):0,t=1 in arguments?Number(arguments[1]):0,i=2 in arguments?Number(arguments[2]):0,n=3 in arguments?Number(arguments[3]):0,this.right=(this.x=this.left=e)+(this.width=i),this.bottom=(this.y=this.top=t)+(this.height=n),Object.freeze(this)}function d(){t=requestAnimationFrame(d);var s=new WeakMap,p=new Set;o.forEach((function(t){r.get(t).forEach((function(i){var r=t instanceof window.SVGElement,o=a.get(t),d=r?0:parseFloat(o.paddingTop),f=r?0:parseFloat(o.paddingRight),l=r?0:parseFloat(o.paddingBottom),u=r?0:parseFloat(o.paddingLeft),g=r?0:parseFloat(o.borderTopWidth),m=r?0:parseFloat(o.borderRightWidth),w=r?0:parseFloat(o.borderBottomWidth),b=u+f,F=d+l,v=(r?0:parseFloat(o.borderLeftWidth))+m,W=g+w,y=r?0:t.offsetHeight-W-t.clientHeight,E=r?0:t.offsetWidth-v-t.clientWidth,R=b+v,z=F+W,M=r?t.width:parseFloat(o.width)-R-E,O=r?t.height:parseFloat(o.height)-z-y;if(n.has(t)){var k=n.get(t);if(k[0]===M&&k[1]===O)return}n.set(t,[M,O]);var S=Object.create(h.prototype);S.target=t,S.contentRect=new c(u,d,M,O),s.has(i)||(s.set(i,[]),p.add(i)),s.get(i).push(S)}))})),p.forEach((function(e){i.get(e).call(e,s.get(e),e)}))}return s.prototype.observe=function(i){if(i instanceof window.Element){r.has(i)||(r.set(i,new Set),o.add(i),a.set(i,window.getComputedStyle(i)));var n=r.get(i);n.has(this)||n.add(this),cancelAnimationFrame(t),t=requestAnimationFrame(d)}},s.prototype.unobserve=function(i){if(i instanceof window.Element&&r.has(i)){var n=r.get(i);n.has(this)&&(n.delete(this),n.size||(r.delete(i),o.delete(i))),n.size||r.delete(i),o.size||cancelAnimationFrame(t)}},A.DOMRectReadOnly=c,A.ResizeObserver=s,A.ResizeObserverEntry=h,A}; // eslint-disable-line\n",
       "mpl.toolbar_items = [[\"Home\", \"Reset original view\", \"fa fa-home icon-home\", \"home\"], [\"Back\", \"Back to previous view\", \"fa fa-arrow-left icon-arrow-left\", \"back\"], [\"Forward\", \"Forward to next view\", \"fa fa-arrow-right icon-arrow-right\", \"forward\"], [\"\", \"\", \"\", \"\"], [\"Pan\", \"Left button pans, Right button zooms\\nx/y fixes axis, CTRL fixes aspect\", \"fa fa-arrows icon-move\", \"pan\"], [\"Zoom\", \"Zoom to rectangle\\nx/y fixes axis\", \"fa fa-square-o icon-check-empty\", \"zoom\"], [\"\", \"\", \"\", \"\"], [\"Download\", \"Download plot\", \"fa fa-floppy-o icon-save\", \"download\"]];\n",
       "\n",
       "mpl.extensions = [\"eps\", \"jpeg\", \"pgf\", \"pdf\", \"png\", \"ps\", \"raw\", \"svg\", \"tif\"];\n",
       "\n",
       "mpl.default_extension = \"png\";/* global mpl */\n",
       "\n",
       "var comm_websocket_adapter = function (comm) {\n",
       "    // Create a \"websocket\"-like object which calls the given IPython comm\n",
       "    // object with the appropriate methods. Currently this is a non binary\n",
       "    // socket, so there is still some room for performance tuning.\n",
       "    var ws = {};\n",
       "\n",
       "    ws.binaryType = comm.kernel.ws.binaryType;\n",
       "    ws.readyState = comm.kernel.ws.readyState;\n",
       "    function updateReadyState(_event) {\n",
       "        if (comm.kernel.ws) {\n",
       "            ws.readyState = comm.kernel.ws.readyState;\n",
       "        } else {\n",
       "            ws.readyState = 3; // Closed state.\n",
       "        }\n",
       "    }\n",
       "    comm.kernel.ws.addEventListener('open', updateReadyState);\n",
       "    comm.kernel.ws.addEventListener('close', updateReadyState);\n",
       "    comm.kernel.ws.addEventListener('error', updateReadyState);\n",
       "\n",
       "    ws.close = function () {\n",
       "        comm.close();\n",
       "    };\n",
       "    ws.send = function (m) {\n",
       "        //console.log('sending', m);\n",
       "        comm.send(m);\n",
       "    };\n",
       "    // Register the callback with on_msg.\n",
       "    comm.on_msg(function (msg) {\n",
       "        //console.log('receiving', msg['content']['data'], msg);\n",
       "        var data = msg['content']['data'];\n",
       "        if (data['blob'] !== undefined) {\n",
       "            data = {\n",
       "                data: new Blob(msg['buffers'], { type: data['blob'] }),\n",
       "            };\n",
       "        }\n",
       "        // Pass the mpl event to the overridden (by mpl) onmessage function.\n",
       "        ws.onmessage(data);\n",
       "    });\n",
       "    return ws;\n",
       "};\n",
       "\n",
       "mpl.mpl_figure_comm = function (comm, msg) {\n",
       "    // This is the function which gets called when the mpl process\n",
       "    // starts-up an IPython Comm through the \"matplotlib\" channel.\n",
       "\n",
       "    var id = msg.content.data.id;\n",
       "    // Get hold of the div created by the display call when the Comm\n",
       "    // socket was opened in Python.\n",
       "    var element = document.getElementById(id);\n",
       "    var ws_proxy = comm_websocket_adapter(comm);\n",
       "\n",
       "    function ondownload(figure, _format) {\n",
       "        window.open(figure.canvas.toDataURL());\n",
       "    }\n",
       "\n",
       "    var fig = new mpl.figure(id, ws_proxy, ondownload, element);\n",
       "\n",
       "    // Call onopen now - mpl needs it, as it is assuming we've passed it a real\n",
       "    // web socket which is closed, not our websocket->open comm proxy.\n",
       "    ws_proxy.onopen();\n",
       "\n",
       "    fig.parent_element = element;\n",
       "    fig.cell_info = mpl.find_output_cell(\"<div id='\" + id + \"'></div>\");\n",
       "    if (!fig.cell_info) {\n",
       "        console.error('Failed to find cell for figure', id, fig);\n",
       "        return;\n",
       "    }\n",
       "    fig.cell_info[0].output_area.element.on(\n",
       "        'cleared',\n",
       "        { fig: fig },\n",
       "        fig._remove_fig_handler\n",
       "    );\n",
       "};\n",
       "\n",
       "mpl.figure.prototype.handle_close = function (fig, msg) {\n",
       "    var width = fig.canvas.width / fig.ratio;\n",
       "    fig.cell_info[0].output_area.element.off(\n",
       "        'cleared',\n",
       "        fig._remove_fig_handler\n",
       "    );\n",
       "    fig.resizeObserverInstance.unobserve(fig.canvas_div);\n",
       "\n",
       "    // Update the output cell to use the data from the current canvas.\n",
       "    fig.push_to_output();\n",
       "    var dataURL = fig.canvas.toDataURL();\n",
       "    // Re-enable the keyboard manager in IPython - without this line, in FF,\n",
       "    // the notebook keyboard shortcuts fail.\n",
       "    IPython.keyboard_manager.enable();\n",
       "    fig.parent_element.innerHTML =\n",
       "        '<img src=\"' + dataURL + '\" width=\"' + width + '\">';\n",
       "    fig.close_ws(fig, msg);\n",
       "};\n",
       "\n",
       "mpl.figure.prototype.close_ws = function (fig, msg) {\n",
       "    fig.send_message('closing', msg);\n",
       "    // fig.ws.close()\n",
       "};\n",
       "\n",
       "mpl.figure.prototype.push_to_output = function (_remove_interactive) {\n",
       "    // Turn the data on the canvas into data in the output cell.\n",
       "    var width = this.canvas.width / this.ratio;\n",
       "    var dataURL = this.canvas.toDataURL();\n",
       "    this.cell_info[1]['text/html'] =\n",
       "        '<img src=\"' + dataURL + '\" width=\"' + width + '\">';\n",
       "};\n",
       "\n",
       "mpl.figure.prototype.updated_canvas_event = function () {\n",
       "    // Tell IPython that the notebook contents must change.\n",
       "    IPython.notebook.set_dirty(true);\n",
       "    this.send_message('ack', {});\n",
       "    var fig = this;\n",
       "    // Wait a second, then push the new image to the DOM so\n",
       "    // that it is saved nicely (might be nice to debounce this).\n",
       "    setTimeout(function () {\n",
       "        fig.push_to_output();\n",
       "    }, 1000);\n",
       "};\n",
       "\n",
       "mpl.figure.prototype._init_toolbar = function () {\n",
       "    var fig = this;\n",
       "\n",
       "    var toolbar = document.createElement('div');\n",
       "    toolbar.classList = 'btn-toolbar';\n",
       "    this.root.appendChild(toolbar);\n",
       "\n",
       "    function on_click_closure(name) {\n",
       "        return function (_event) {\n",
       "            return fig.toolbar_button_onclick(name);\n",
       "        };\n",
       "    }\n",
       "\n",
       "    function on_mouseover_closure(tooltip) {\n",
       "        return function (event) {\n",
       "            if (!event.currentTarget.disabled) {\n",
       "                return fig.toolbar_button_onmouseover(tooltip);\n",
       "            }\n",
       "        };\n",
       "    }\n",
       "\n",
       "    fig.buttons = {};\n",
       "    var buttonGroup = document.createElement('div');\n",
       "    buttonGroup.classList = 'btn-group';\n",
       "    var button;\n",
       "    for (var toolbar_ind in mpl.toolbar_items) {\n",
       "        var name = mpl.toolbar_items[toolbar_ind][0];\n",
       "        var tooltip = mpl.toolbar_items[toolbar_ind][1];\n",
       "        var image = mpl.toolbar_items[toolbar_ind][2];\n",
       "        var method_name = mpl.toolbar_items[toolbar_ind][3];\n",
       "\n",
       "        if (!name) {\n",
       "            /* Instead of a spacer, we start a new button group. */\n",
       "            if (buttonGroup.hasChildNodes()) {\n",
       "                toolbar.appendChild(buttonGroup);\n",
       "            }\n",
       "            buttonGroup = document.createElement('div');\n",
       "            buttonGroup.classList = 'btn-group';\n",
       "            continue;\n",
       "        }\n",
       "\n",
       "        button = fig.buttons[name] = document.createElement('button');\n",
       "        button.classList = 'btn btn-default';\n",
       "        button.href = '#';\n",
       "        button.title = name;\n",
       "        button.innerHTML = '<i class=\"fa ' + image + ' fa-lg\"></i>';\n",
       "        button.addEventListener('click', on_click_closure(method_name));\n",
       "        button.addEventListener('mouseover', on_mouseover_closure(tooltip));\n",
       "        buttonGroup.appendChild(button);\n",
       "    }\n",
       "\n",
       "    if (buttonGroup.hasChildNodes()) {\n",
       "        toolbar.appendChild(buttonGroup);\n",
       "    }\n",
       "\n",
       "    // Add the status bar.\n",
       "    var status_bar = document.createElement('span');\n",
       "    status_bar.classList = 'mpl-message pull-right';\n",
       "    toolbar.appendChild(status_bar);\n",
       "    this.message = status_bar;\n",
       "\n",
       "    // Add the close button to the window.\n",
       "    var buttongrp = document.createElement('div');\n",
       "    buttongrp.classList = 'btn-group inline pull-right';\n",
       "    button = document.createElement('button');\n",
       "    button.classList = 'btn btn-mini btn-primary';\n",
       "    button.href = '#';\n",
       "    button.title = 'Stop Interaction';\n",
       "    button.innerHTML = '<i class=\"fa fa-power-off icon-remove icon-large\"></i>';\n",
       "    button.addEventListener('click', function (_evt) {\n",
       "        fig.handle_close(fig, {});\n",
       "    });\n",
       "    button.addEventListener(\n",
       "        'mouseover',\n",
       "        on_mouseover_closure('Stop Interaction')\n",
       "    );\n",
       "    buttongrp.appendChild(button);\n",
       "    var titlebar = this.root.querySelector('.ui-dialog-titlebar');\n",
       "    titlebar.insertBefore(buttongrp, titlebar.firstChild);\n",
       "};\n",
       "\n",
       "mpl.figure.prototype._remove_fig_handler = function (event) {\n",
       "    var fig = event.data.fig;\n",
       "    if (event.target !== this) {\n",
       "        // Ignore bubbled events from children.\n",
       "        return;\n",
       "    }\n",
       "    fig.close_ws(fig, {});\n",
       "};\n",
       "\n",
       "mpl.figure.prototype._root_extra_style = function (el) {\n",
       "    el.style.boxSizing = 'content-box'; // override notebook setting of border-box.\n",
       "};\n",
       "\n",
       "mpl.figure.prototype._canvas_extra_style = function (el) {\n",
       "    // this is important to make the div 'focusable\n",
       "    el.setAttribute('tabindex', 0);\n",
       "    // reach out to IPython and tell the keyboard manager to turn it's self\n",
       "    // off when our div gets focus\n",
       "\n",
       "    // location in version 3\n",
       "    if (IPython.notebook.keyboard_manager) {\n",
       "        IPython.notebook.keyboard_manager.register_events(el);\n",
       "    } else {\n",
       "        // location in version 2\n",
       "        IPython.keyboard_manager.register_events(el);\n",
       "    }\n",
       "};\n",
       "\n",
       "mpl.figure.prototype._key_event_extra = function (event, _name) {\n",
       "    // Check for shift+enter\n",
       "    if (event.shiftKey && event.which === 13) {\n",
       "        this.canvas_div.blur();\n",
       "        // select the cell after this one\n",
       "        var index = IPython.notebook.find_cell_index(this.cell_info[0]);\n",
       "        IPython.notebook.select(index + 1);\n",
       "    }\n",
       "};\n",
       "\n",
       "mpl.figure.prototype.handle_save = function (fig, _msg) {\n",
       "    fig.ondownload(fig, null);\n",
       "};\n",
       "\n",
       "mpl.find_output_cell = function (html_output) {\n",
       "    // Return the cell and output element which can be found *uniquely* in the notebook.\n",
       "    // Note - this is a bit hacky, but it is done because the \"notebook_saving.Notebook\"\n",
       "    // IPython event is triggered only after the cells have been serialised, which for\n",
       "    // our purposes (turning an active figure into a static one), is too late.\n",
       "    var cells = IPython.notebook.get_cells();\n",
       "    var ncells = cells.length;\n",
       "    for (var i = 0; i < ncells; i++) {\n",
       "        var cell = cells[i];\n",
       "        if (cell.cell_type === 'code') {\n",
       "            for (var j = 0; j < cell.output_area.outputs.length; j++) {\n",
       "                var data = cell.output_area.outputs[j];\n",
       "                if (data.data) {\n",
       "                    // IPython >= 3 moved mimebundle to data attribute of output\n",
       "                    data = data.data;\n",
       "                }\n",
       "                if (data['text/html'] === html_output) {\n",
       "                    return [cell, data, j];\n",
       "                }\n",
       "            }\n",
       "        }\n",
       "    }\n",
       "};\n",
       "\n",
       "// Register the function which deals with the matplotlib target/channel.\n",
       "// The kernel may be null if the page has been refreshed.\n",
       "if (IPython.notebook.kernel !== null) {\n",
       "    IPython.notebook.kernel.comm_manager.register_target(\n",
       "        'matplotlib',\n",
       "        mpl.mpl_figure_comm\n",
       "    );\n",
       "}\n"
      ],
      "text/plain": [
       "<IPython.core.display.Javascript object>"
      ]
     },
     "metadata": {},
     "output_type": "display_data"
    },
    {
     "data": {
      "text/html": [
       "<img src=\"data:image/png;base64,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\" width=\"432\">"
      ],
      "text/plain": [
       "<IPython.core.display.HTML object>"
      ]
     },
     "metadata": {},
     "output_type": "display_data"
    }
   ],
   "source": [
    "animate_images([\n",
    "    [[0, 0], [0, 0]],\n",
    "    [[0, 0], [0, 1]],\n",
    "    [[0, 0], [1, 2]],\n",
    "    [[0, 1], [2, 3]],\n",
    "    [[1, 2], [3, 4]],\n",
    "]);"
   ]
  },
  {
   "cell_type": "code",
   "execution_count": null,
   "id": "0811d7ec",
   "metadata": {},
   "outputs": [],
   "source": [
    "def verify_rules_2D(Rules):\n",
    "    for k, v in Rules.items():\n",
    "        for Direction, AllowedValues in v.items():\n",
    "            OppositeDirection = {'U':'D', 'D':'U', 'L':'R', 'R':'L'}[Direction]\n",
    "            for Value in AllowedValues:\n",
    "                assert (k in Rules[Value][OppositeDirection]), \\\n",
    "                f'{k} \"{Direction}\" allows {AllowedValues}, '\\\n",
    "                f'but {Value} \"{OppositeDirection}\" only allows {Rules[Value][OppositeDirection]}'"
   ]
  },
  {
   "cell_type": "code",
   "execution_count": null,
   "id": "2b988f93",
   "metadata": {},
   "outputs": [],
   "source": [
    "def Neighbours(X, Y, N, M) -> (str, int, int):\n",
    "    'The Letter is the direction you need to go to get back to the original coordinates'\n",
    "    # {'L':0,'R':1,'U':2,'D':3}\n",
    "    if (X - 1) >= 0      : yield (3, X - 1, Y    ) # 'D'\n",
    "    if (X + 1) <= (N - 1): yield (2, X + 1, Y    ) # 'U'\n",
    "    if (Y - 1) >= 0      : yield (1, X    , Y - 1) # 'R'\n",
    "    if (Y + 1) <= (M - 1): yield (0, X    , Y + 1) # 'L'\n",
    "# set(Neighbours(3, 1, 10, 10))"
   ]
  },
  {
   "cell_type": "markdown",
   "id": "48c35ccd",
   "metadata": {},
   "source": [
    "### Manual 2D WFC"
   ]
  },
  {
   "cell_type": "markdown",
   "id": "72903d27",
   "metadata": {},
   "source": [
    "#### Setup"
   ]
  },
  {
   "cell_type": "code",
   "execution_count": null,
   "id": "93490b1a",
   "metadata": {},
   "outputs": [],
   "source": [
    "N, M = 10, 10 # Output Size"
   ]
  },
  {
   "cell_type": "code",
   "execution_count": null,
   "id": "e2fcce77",
   "metadata": {},
   "outputs": [],
   "source": [
    "# K, J = 3, 3 # Input Size?"
   ]
  },
  {
   "cell_type": "code",
   "execution_count": null,
   "id": "04171d15",
   "metadata": {},
   "outputs": [
    {
     "data": {
      "text/plain": [
       "array([[0, 0, 0, 0, 0, 0, 0, 0, 0, 0],\n",
       "       [0, 0, 0, 0, 0, 0, 0, 0, 0, 0],\n",
       "       [0, 0, 0, 0, 0, 0, 0, 0, 0, 0],\n",
       "       [0, 0, 0, 0, 0, 0, 0, 0, 0, 0],\n",
       "       [0, 0, 0, 0, 0, 0, 0, 0, 0, 0],\n",
       "       [0, 0, 0, 0, 0, 0, 0, 0, 0, 0],\n",
       "       [0, 0, 0, 0, 0, 0, 0, 0, 0, 0],\n",
       "       [0, 0, 0, 0, 0, 0, 0, 0, 0, 0],\n",
       "       [0, 0, 0, 0, 0, 0, 0, 0, 0, 0],\n",
       "       [0, 0, 0, 0, 0, 0, 0, 0, 0, 0]])"
      ]
     },
     "execution_count": null,
     "metadata": {},
     "output_type": "execute_result"
    }
   ],
   "source": [
    "Image = np.zeros(shape=(N, M), dtype=int); Image"
   ]
  },
  {
   "cell_type": "code",
   "execution_count": null,
   "id": "8b38584b",
   "metadata": {},
   "outputs": [
    {
     "data": {
      "image/png": "[encoded data removed]",
      "text/plain": [
       "<Figure size 432x288 with 1 Axes>"
      ]
     },
     "metadata": {
      "needs_background": "light"
     },
     "output_type": "display_data"
    }
   ],
   "source": [
    "show_image(Image)"
   ]
  },
  {
   "cell_type": "code",
   "execution_count": null,
   "id": "7d95c97f",
   "metadata": {},
   "outputs": [],
   "source": [
    "# TODO: Convert this into a list\n",
    "Tiles = {\n",
    "    0: [[0, 1], [0, 0]],\n",
    "    1: [[0, 0], [1, 1]],\n",
    "    2: [[1, 0], [1, 0]],\n",
    "    3: [[0, 0], [0, 0]],\n",
    "}"
   ]
  },
  {
   "cell_type": "code",
   "execution_count": null,
   "id": "26696850",
   "metadata": {},
   "outputs": [
    {
     "data": {
      "image/png": "[encoded data removed]",
      "text/plain": [
       "<Figure size 432x288 with 1 Axes>"
      ]
     },
     "metadata": {
      "needs_background": "light"
     },
     "output_type": "display_data"
    }
   ],
   "source": [
    "show_image(Tiles[0])"
   ]
  },
  {
   "cell_type": "code",
   "execution_count": null,
   "id": "52367220",
   "metadata": {},
   "outputs": [
    {
     "data": {
      "image/png": "[encoded data removed]",
      "text/plain": [
       "<Figure size 432x288 with 1 Axes>"
      ]
     },
     "metadata": {
      "needs_background": "light"
     },
     "output_type": "display_data"
    }
   ],
   "source": [
    "show_image(Tiles[1])"
   ]
  },
  {
   "cell_type": "code",
   "execution_count": null,
   "id": "1492eb50",
   "metadata": {},
   "outputs": [
    {
     "data": {
      "image/png": "[encoded data removed]",
      "text/plain": [
       "<Figure size 432x288 with 1 Axes>"
      ]
     },
     "metadata": {
      "needs_background": "light"
     },
     "output_type": "display_data"
    }
   ],
   "source": [
    "show_image(Tiles[2])"
   ]
  },
  {
   "cell_type": "code",
   "execution_count": null,
   "id": "bb1b7ad7",
   "metadata": {},
   "outputs": [],
   "source": [
    "# TODO: convert this into a list\n",
    "Rules = {\n",
    "    0: {\n",
    "        'L' : (2,3),\n",
    "        'R' : (2,3),\n",
    "        'U' : (1,3),\n",
    "        'D' : (1,2,3),\n",
    "    },\n",
    "    1: {\n",
    "        'L' : (1,3),\n",
    "        'R' : (1,2,3),\n",
    "        'U' : (0,3),\n",
    "        'D' : (0,3),\n",
    "    },\n",
    "    2: {\n",
    "        'L' : (0,1,3),\n",
    "        'R' : (0,3),\n",
    "        'U' : (0,3),\n",
    "        'D' : (3,),\n",
    "    },\n",
    "    3: {\n",
    "        'L' : (0,1,2),\n",
    "        'R' : (0,1,2),\n",
    "        'U' : (0,1,2),\n",
    "        'D' : (0,1,2),\n",
    "    },\n",
    "}"
   ]
  },
  {
   "cell_type": "code",
   "execution_count": null,
   "id": "54b1a615",
   "metadata": {},
   "outputs": [],
   "source": [
    "verify_rules_2D(Rules)"
   ]
  },
  {
   "cell_type": "code",
   "execution_count": null,
   "id": "effff55f",
   "metadata": {},
   "outputs": [
    {
     "data": {
      "text/plain": [
       "{0: {'L': (2, 3), 'R': (2, 3), 'U': (1, 3), 'D': (1, 2, 3)},\n",
       " 1: {'L': (1, 3), 'R': (1, 2, 3), 'U': (0, 3), 'D': (0, 3)},\n",
       " 2: {'L': (0, 1, 3), 'R': (0, 3), 'U': (0, 3), 'D': (3,)},\n",
       " 3: {'L': (0, 1, 2), 'R': (0, 1, 2), 'U': (0, 1, 2), 'D': (0, 1, 2)}}"
      ]
     },
     "execution_count": null,
     "metadata": {},
     "output_type": "execute_result"
    }
   ],
   "source": [
    "Rules"
   ]
  },
  {
   "cell_type": "code",
   "execution_count": null,
   "id": "cd484a6e",
   "metadata": {},
   "outputs": [
    {
     "data": {
      "text/plain": [
       "(10, 10, 4)"
      ]
     },
     "execution_count": null,
     "metadata": {},
     "output_type": "execute_result"
    }
   ],
   "source": [
    "Wave = np.ones(shape=(N, M, len(Tiles)), dtype=bool); Wave.shape"
   ]
  },
  {
   "cell_type": "code",
   "execution_count": null,
   "id": "5164b8fb",
   "metadata": {},
   "outputs": [
    {
     "data": {
      "text/plain": [
       "(10, 10)"
      ]
     },
     "execution_count": null,
     "metadata": {},
     "output_type": "execute_result"
    }
   ],
   "source": [
    "Collapsed = np.zeros(shape=(N, M), dtype=bool); Collapsed.shape"
   ]
  },
  {
   "cell_type": "markdown",
   "id": "f3a3c630",
   "metadata": {},
   "source": [
    "#### Loop Start"
   ]
  },
  {
   "cell_type": "code",
   "execution_count": null,
   "id": "b4bef872",
   "metadata": {},
   "outputs": [],
   "source": [
    "# TODO: Maybe do a pre-pass here in case of edge/global conditions?\n",
    "#       e.g. what if a tile can't be placed at the edge of the image.\n",
    "#       Wave would need to be initialized to reflect that."
   ]
  },
  {
   "cell_type": "code",
   "execution_count": null,
   "id": "6a78fdb5",
   "metadata": {},
   "outputs": [],
   "source": [
    "X, Y = choice(N), choice(M) # Initial Cell Choice\n",
    "while not np.all(Collapsed):\n",
    "    # NOTE: Assign Tile to chosen Cell\n",
    "    # NOTE: Only choose from Tiles available at this Cell\n",
    "    # TileChoice              = choice(len(Tiles)) \n",
    "    TileChoice              = choice(np.flatnonzero(Wave[X, Y])) # This only works if tiles are indexed like lists\n",
    "    Image[X, Y]             = TileChoice\n",
    "    Wave [X, Y]             = False # Numpy Broadcasting\n",
    "    Wave [X, Y][TileChoice] = True # NOTE: This is used in the floodfill part to figure out what rules apply\n",
    "    Collapsed[X, Y]         = True\n",
    "    # NOTE: Floodfill to update all Cells whose Neighbours have changed\n",
    "    CellsToCheck = set(Neighbours(X, Y, N, M))\n",
    "    while len(CellsToCheck) > 0:\n",
    "        NewCellsToCheck = set()\n",
    "        for (_, K, J) in CellsToCheck:\n",
    "            # NOTE: Check all Rules of this Cell, and modify Wave accordingly.\n",
    "            if Collapsed[K, J]: continue\n",
    "            CurrentWave    = Wave[K, J]\n",
    "            CurrentWaveNew = np.ones_like(CurrentWave)\n",
    "            for (D, U, V) in Neighbours(K, J, N, M):\n",
    "                # NOTE: Create a Vector listing which Tiles this Neighbour allows/disallows in the Cell we're updating\n",
    "                OtherConstraint = np.zeros_like(CurrentWave)\n",
    "                # TODO: Ideally these two loops would be a single numpy matrix operation.\n",
    "                #       However, because `Rules` is a python dictionary and its elements tuples, this doesn't work.\n",
    "                for OtherAllowed in np.flatnonzero(Wave[U, V]):\n",
    "                    for OtherAllowedValue in Rules[OtherAllowed][D]:\n",
    "                        OtherConstraint[OtherAllowedValue] = True\n",
    "                # Logical AND -> one neighbour disallowing a tile means that tile cant be used at all in current cell\n",
    "                CurrentWaveNew &= OtherConstraint\n",
    "            if np.sum(CurrentWaveNew) == 0: raise Exception(f'Arrived at a unsolvable solution. {K, J}')\n",
    "            if np.sum(CurrentWaveNew) == 1:\n",
    "                # NOTE: Collapse this Cell\n",
    "                Image[K, J]     = np.flatnonzero(CurrentWaveNew)[0]\n",
    "                Collapsed[K, J] = True\n",
    "            if np.any(CurrentWave != CurrentWaveNew):\n",
    "                NewCellsToCheck.update(Neighbours(K, J, N, M))\n",
    "            Wave[K, J] = CurrentWaveNew\n",
    "        CellsToCheck = NewCellsToCheck\n",
    "#         CellsToCheck.clear()\n",
    "#         CellsToCheck.update(NewCellsToCheck)\n",
    "#         NewCellsToCheck.clear()\n",
    "    if np.sum(Collapsed == False) == 0: break # STOP Condition\n",
    "    # NOTE: Select next Cell based on lowest Entroy\n",
    "    CellEntropy              = Wave.sum(axis=2) # Number of remaining States per cell\n",
    "    LowestUncollapsedEntropy = np.min(CellEntropy[Collapsed == False])\n",
    "    assert LowestUncollapsedEntropy > 1, f'1 means the cell should already be collapsed, and < 0 should be impossible.'\n",
    "    OptionsForNextCell = np.argwhere(CellEntropy == LowestUncollapsedEntropy) # Un-collapsed Cells with the lowest Entropy\n",
    "    X, Y = OptionsForNextCell[choice(len(OptionsForNextCell))]\n",
    "    # break # TODO: remove this once TODO's are complete"
   ]
  },
  {
   "cell_type": "code",
   "execution_count": null,
   "id": "c1f5e6e6",
   "metadata": {},
   "outputs": [
    {
     "data": {
      "text/plain": [
       "True"
      ]
     },
     "execution_count": null,
     "metadata": {},
     "output_type": "execute_result"
    }
   ],
   "source": [
    "np.alltrue(Collapsed)"
   ]
  },
  {
   "cell_type": "code",
   "execution_count": null,
   "id": "2f23dd39",
   "metadata": {},
   "outputs": [
    {
     "data": {
      "text/plain": [
       "array([[ True, False, False, False],\n",
       "       [False, False, False,  True],\n",
       "       [ True, False, False, False],\n",
       "       [False, False, False,  True],\n",
       "       [False, False,  True, False],\n",
       "       [False,  True, False, False],\n",
       "       [False,  True, False, False],\n",
       "       [False, False, False,  True],\n",
       "       [ True, False, False, False],\n",
       "       [False, False, False,  True]])"
      ]
     },
     "execution_count": null,
     "metadata": {},
     "output_type": "execute_result"
    }
   ],
   "source": [
    "Wave[0]"
   ]
  },
  {
   "cell_type": "code",
   "execution_count": null,
   "id": "17123b8d",
   "metadata": {},
   "outputs": [
    {
     "data": {
      "text/plain": [
       "array([[1, 1, 1, 1, 1, 1, 1, 1, 1, 1],\n",
       "       [1, 1, 1, 1, 1, 1, 1, 1, 1, 1],\n",
       "       [1, 1, 1, 1, 1, 1, 1, 1, 1, 1],\n",
       "       [1, 1, 1, 1, 1, 1, 1, 1, 1, 1],\n",
       "       [1, 1, 1, 1, 1, 1, 1, 1, 1, 1],\n",
       "       [1, 1, 1, 1, 1, 1, 1, 1, 1, 1],\n",
       "       [1, 1, 1, 1, 1, 1, 1, 1, 1, 1],\n",
       "       [1, 1, 1, 1, 1, 1, 1, 1, 1, 1],\n",
       "       [1, 1, 1, 1, 1, 1, 1, 1, 1, 1],\n",
       "       [1, 1, 1, 1, 1, 1, 1, 1, 1, 1]])"
      ]
     },
     "execution_count": null,
     "metadata": {},
     "output_type": "execute_result"
    }
   ],
   "source": [
    "Wave.sum(axis=2)"
   ]
  },
  {
   "cell_type": "code",
   "execution_count": null,
   "id": "3c746905",
   "metadata": {},
   "outputs": [
    {
     "name": "stdout",
     "output_type": "stream",
     "text": [
      "array([[0, 3, 0, 3, 2, 1, 1, 3, 0, 3],\n",
      "       [2, 0, 2, 0, 3, 0, 3, 0, 2, 0],\n",
      "       [3, 2, 3, 2, 0, 2, 0, 2, 3, 2],\n",
      "       [1, 3, 1, 3, 1, 3, 1, 3, 2, 3],\n",
      "       [0, 2, 0, 2, 0, 2, 0, 2, 3, 0],\n",
      "       [1, 3, 1, 3, 1, 3, 2, 3, 2, 1],\n",
      "       [3, 2, 0, 2, 0, 2, 3, 0, 3, 0],\n",
      "       [0, 3, 2, 3, 1, 3, 1, 1, 1, 3],\n",
      "       [3, 0, 3, 2, 0, 2, 0, 3, 0, 2],\n",
      "       [1, 1, 1, 3, 1, 3, 2, 1, 1, 3]])\n"
     ]
    }
   ],
   "source": [
    "pprint(Image)"
   ]
  },
  {
   "cell_type": "code",
   "execution_count": null,
   "id": "d2515e20",
   "metadata": {},
   "outputs": [
    {
     "data": {
      "image/png": "[encoded data removed]",
      "text/plain": [
       "<Figure size 432x288 with 1 Axes>"
      ]
     },
     "metadata": {
      "needs_background": "light"
     },
     "output_type": "display_data"
    }
   ],
   "source": [
    "# NOTE: These are just the tile indices visualized. To get the actual picture, they need to be replaced by the tiles.\n",
    "show_image(Image)"
   ]
  },
  {
   "cell_type": "code",
   "execution_count": null,
   "id": "7cbd97b8",
   "metadata": {},
   "outputs": [
    {
     "data": {
      "text/plain": [
       "{0: [[0, 1], [0, 0]],\n",
       " 1: [[0, 0], [1, 1]],\n",
       " 2: [[1, 0], [1, 0]],\n",
       " 3: [[0, 0], [0, 0]]}"
      ]
     },
     "execution_count": null,
     "metadata": {},
     "output_type": "execute_result"
    }
   ],
   "source": [
    "Tiles"
   ]
  },
  {
   "cell_type": "code",
   "execution_count": null,
   "id": "f189c5e3",
   "metadata": {},
   "outputs": [
    {
     "data": {
      "text/plain": [
       "(4, 2, 2)"
      ]
     },
     "execution_count": null,
     "metadata": {},
     "output_type": "execute_result"
    }
   ],
   "source": [
    "TileMatrix = np.array([Tiles[i] for i in range(len(Tiles))]); TileMatrix.shape"
   ]
  },
  {
   "cell_type": "code",
   "execution_count": null,
   "id": "d86d28e9",
   "metadata": {},
   "outputs": [
    {
     "data": {
      "text/plain": [
       "array([[0, 1, 0, 0, 0, 0, 0, 0, 0, 1, 0, 0, 0, 0, 0, 0, 1, 0, 1, 0],\n",
       "       [0, 0, 1, 1, 0, 0, 1, 1, 0, 0, 0, 0, 0, 1, 0, 0, 0, 0, 0, 0],\n",
       "       [1, 0, 1, 0, 0, 1, 0, 0, 1, 0, 1, 0, 0, 1, 0, 0, 0, 0, 0, 0],\n",
       "       [0, 1, 0, 0, 0, 0, 0, 0, 0, 1, 0, 0, 1, 0, 1, 0, 0, 1, 0, 0],\n",
       "       [0, 0, 0, 0, 1, 0, 1, 0, 0, 0, 0, 0, 1, 0, 1, 0, 0, 1, 0, 0],\n",
       "       [1, 0, 1, 0, 0, 1, 0, 0, 1, 0, 1, 0, 0, 0, 0, 0, 1, 0, 1, 0],\n",
       "       [0, 0, 1, 1, 0, 0, 0, 0, 0, 0, 1, 1, 0, 0, 0, 0, 0, 0, 1, 1],\n",
       "       [0, 0, 0, 0, 0, 0, 1, 1, 0, 0, 0, 0, 1, 0, 1, 0, 0, 0, 0, 0],\n",
       "       [0, 1, 0, 0, 1, 0, 1, 0, 0, 1, 0, 0, 1, 0, 1, 0, 0, 1, 0, 0],\n",
       "       [1, 0, 1, 0, 0, 1, 0, 0, 1, 0, 1, 0, 0, 0, 0, 0, 0, 1, 0, 0],\n",
       "       [0, 0, 1, 1, 0, 0, 0, 0, 0, 0, 1, 1, 0, 0, 0, 0, 0, 0, 1, 1],\n",
       "       [0, 0, 0, 0, 1, 0, 1, 0, 0, 0, 0, 0, 1, 0, 1, 0, 0, 0, 1, 1],\n",
       "       [0, 0, 0, 0, 1, 0, 1, 0, 0, 1, 0, 0, 1, 0, 1, 0, 0, 1, 0, 0],\n",
       "       [1, 0, 1, 0, 0, 0, 0, 0, 0, 1, 0, 0, 0, 0, 0, 0, 0, 1, 0, 0],\n",
       "       [0, 1, 0, 0, 0, 0, 0, 0, 1, 0, 1, 0, 0, 0, 0, 0, 0, 0, 1, 1],\n",
       "       [0, 0, 0, 0, 0, 0, 1, 1, 0, 0, 1, 1, 0, 0, 1, 1, 0, 0, 0, 0],\n",
       "       [0, 0, 0, 0, 0, 1, 0, 0, 0, 0, 0, 0, 1, 0, 1, 0, 0, 1, 0, 0],\n",
       "       [1, 0, 1, 0, 0, 1, 0, 0, 0, 0, 0, 0, 0, 1, 0, 0, 1, 0, 1, 0],\n",
       "       [0, 0, 1, 1, 0, 0, 1, 1, 0, 0, 1, 1, 0, 0, 0, 0, 0, 0, 1, 1],\n",
       "       [0, 0, 0, 0, 1, 0, 1, 0, 0, 0, 1, 1, 0, 0, 1, 1, 0, 0, 0, 0]])"
      ]
     },
     "execution_count": null,
     "metadata": {},
     "output_type": "execute_result"
    }
   ],
   "source": [
    "AssembledImage = TileMatrix[Image].reshape(N*2, M*2); AssembledImage"
   ]
  },
  {
   "cell_type": "code",
   "execution_count": null,
   "id": "3cf385e2",
   "metadata": {},
   "outputs": [
    {
     "data": {
      "image/png": "[encoded data removed]",
      "text/plain": [
       "<Figure size 432x288 with 1 Axes>"
      ]
     },
     "metadata": {
      "needs_background": "light"
     },
     "output_type": "display_data"
    }
   ],
   "source": [
    "show_image(AssembledImage)"
   ]
  },
  {
   "cell_type": "markdown",
   "id": "6034130b",
   "metadata": {},
   "source": [
    "## Complete 2D WFC"
   ]
  },
  {
   "cell_type": "code",
   "execution_count": null,
   "id": "e834e1c1",
   "metadata": {},
   "outputs": [],
   "source": [
    "WaveG = None"
   ]
  },
  {
   "cell_type": "code",
   "execution_count": null,
   "id": "128b34e8",
   "metadata": {},
   "outputs": [],
   "source": [
    "def WFC_2D(N:int, M:int, RulesMatrix):\n",
    "    global WaveG\n",
    "    Wave = np.ones (shape=(N, M, len(RulesMatrix)), dtype=bool)\n",
    "    X, Y = choice(N), choice(M) # Initial Cell Choice\n",
    "    while True:\n",
    "        # NOTE: Assign a Tile (from those available at this cell) to chosen Cell\n",
    "        TileChoice              = choice(np.flatnonzero(Wave[X, Y])) # This assumes Tiles are stored/indexed like a list\n",
    "        Wave [X, Y]             = False # Numpy Broadcasting\n",
    "        Wave [X, Y][TileChoice] = True # This is used in the floodfill part to figure out what rules apply\n",
    "        # NOTE: Floodfill to update all Cells whose Neighbours have changed\n",
    "        CellsToCheck = set(Neighbours(X, Y, N, M))\n",
    "        while len(CellsToCheck) > 0:\n",
    "            NewCellsToCheck = set()\n",
    "            for (_, K, J) in CellsToCheck:\n",
    "                # NOTE: Check all Rules of this Cell, and modify Wave accordingly.\n",
    "                CurrentWave    = Wave[K, J]\n",
    "                CurrentWaveNew = np.ones_like(CurrentWave)\n",
    "                if CurrentWave.sum() <= 1: continue # Only one remaining state -> this cell is already collapsed\n",
    "                # TODO: Technically we only need to check this for neighbours that have changed,\n",
    "                #       but keeping track of that seems like it might be more effort than just checking all neighbours.\n",
    "                # TODO: This loop can probably also be done in numpy\n",
    "                for (D, U, V) in Neighbours(K, J, N, M):\n",
    "                    # NOTE: A vector of which Tiles this Neighbour allows in the Cell we're updating\n",
    "                    # If any of the tiles possible at this neighbour allow a certain tile to be placed in the current cell,\n",
    "                    # then that tile can't be excluded from the wave function of possible states yet.\n",
    "                    # If no possible tile at this neighbour can be placed next to a certain tile,\n",
    "                    # then that tile must be removed from the wavefunction of the current cell.\n",
    "                    OtherConstraint = RulesMatrix[np.flatnonzero(Wave[U, V])][:, D].any(axis=0)\n",
    "                    # Logical AND -> one neighbour disallowing a tile means that tile cant be used at all in current cell\n",
    "                    CurrentWaveNew &= OtherConstraint\n",
    "                if np.sum(CurrentWaveNew) == 0: raise Exception(f'Arrived at an unsolvable solution. {K, J}')\n",
    "                if np.any(CurrentWave != CurrentWaveNew):\n",
    "                    NewCellsToCheck.update(Neighbours(K, J, N, M))\n",
    "                Wave[K, J] = CurrentWaveNew\n",
    "            CellsToCheck = NewCellsToCheck\n",
    "        CellEntropy = Wave.sum(axis=-1) # Number of remaining States per cell\n",
    "        if np.all(CellEntropy == 1): break # STOP Condition\n",
    "        if Wave.sum() > 200: WaveG = deepcopy(Wave)\n",
    "        # NOTE: Select next Cell based on lowest Entroy\n",
    "        LowestUncollapsedEntropy = np.min(CellEntropy[CellEntropy != 1])\n",
    "        assert LowestUncollapsedEntropy > 1, f'1 means the cell should already be collapsed, and < 0 should be impossible.'\n",
    "        OptionsForNextCell = np.argwhere(CellEntropy == LowestUncollapsedEntropy) # Un-collapsed Cells with the lowest Entropy\n",
    "        X, Y = OptionsForNextCell[choice(len(OptionsForNextCell))]\n",
    "    return Wave"
   ]
  },
  {
   "cell_type": "code",
   "execution_count": null,
   "id": "0831ae40",
   "metadata": {},
   "outputs": [
    {
     "data": {
      "text/plain": [
       "(4, 2, 2)"
      ]
     },
     "execution_count": null,
     "metadata": {},
     "output_type": "execute_result"
    }
   ],
   "source": [
    "Tiles = [\n",
    "    [[0, 1], [0, 0]],\n",
    "    [[0, 0], [1, 1]],\n",
    "    [[1, 0], [1, 0]],\n",
    "    [[0, 0], [0, 0]],\n",
    "]\n",
    "TileMatrix = np.array(Tiles); TileMatrix.shape"
   ]
  },
  {
   "cell_type": "code",
   "execution_count": null,
   "id": "bd16c431",
   "metadata": {},
   "outputs": [
    {
     "data": {
      "text/plain": [
       "array([[[0, 1],\n",
       "        [0, 0]],\n",
       "\n",
       "       [[0, 0],\n",
       "        [1, 1]],\n",
       "\n",
       "       [[1, 0],\n",
       "        [1, 0]],\n",
       "\n",
       "       [[0, 0],\n",
       "        [0, 0]]])"
      ]
     },
     "execution_count": null,
     "metadata": {},
     "output_type": "execute_result"
    }
   ],
   "source": [
    "TileMatrix"
   ]
  },
  {
   "cell_type": "code",
   "execution_count": null,
   "id": "2b6182a8",
   "metadata": {},
   "outputs": [],
   "source": [
    "Rules = {\n",
    "    0: {\n",
    "        'L' : (2,3),\n",
    "        'R' : (2,3),\n",
    "        'U' : (1,3),\n",
    "        'D' : (1,2,3),\n",
    "    },\n",
    "    1: {\n",
    "        'L' : (1,3),\n",
    "        'R' : (1,2,3),\n",
    "        'U' : (0,3),\n",
    "        'D' : (0,3),\n",
    "    },\n",
    "    2: {\n",
    "        'L' : (0,1,3),\n",
    "        'R' : (0,3),\n",
    "        'U' : (0,3),\n",
    "        'D' : (3,),\n",
    "    },\n",
    "    3: {\n",
    "        'L' : (0,1,2),\n",
    "        'R' : (0,1,2),\n",
    "        'U' : (0,1,2),\n",
    "        'D' : (0,1,2),\n",
    "    },\n",
    "}\n",
    "verify_rules_2D(Rules)"
   ]
  },
  {
   "cell_type": "code",
   "execution_count": null,
   "id": "85b5675b",
   "metadata": {},
   "outputs": [
    {
     "data": {
      "text/plain": [
       "(4, 4, 4)"
      ]
     },
     "execution_count": null,
     "metadata": {},
     "output_type": "execute_result"
    }
   ],
   "source": [
    "def rule_to_vector(TileAmount, Rule):\n",
    "    return [i in Rule for i in range(TileAmount)]\n",
    "def rules_to_np(Rules):\n",
    "    TileAmount = len(Rules)\n",
    "    return np.array([[rule_to_vector(TileAmount, Rules[i][d]) for d in ('L', 'R', 'U', 'D')] for i in range(TileAmount)])\n",
    "\n",
    "RulesMatrix = rules_to_np(Rules); RulesMatrix.shape"
   ]
  },
  {
   "cell_type": "code",
   "execution_count": null,
   "id": "3da42e10",
   "metadata": {},
   "outputs": [
    {
     "data": {
      "image/png": "[encoded data removed]",
      "text/plain": [
       "<Figure size 432x288 with 1 Axes>"
      ]
     },
     "metadata": {
      "needs_background": "light"
     },
     "output_type": "display_data"
    }
   ],
   "source": [
    "N, M = 10, 10\n",
    "CollapsedWave = WFC_2D(N, M, RulesMatrix)\n",
    "_, _, ImageValues = np.nonzero(CollapsedWave)\n",
    "assert ImageValues.shape == (N * M,)\n",
    "Image = ImageValues.reshape(N, M)\n",
    "AssembledImage = TileMatrix[Image].reshape(N*2, M*2)\n",
    "show_image(AssembledImage)"
   ]
  },
  {
   "cell_type": "code",
   "execution_count": null,
   "id": "6b86606d",
   "metadata": {},
   "outputs": [],
   "source": [
    "# - Try loading tiles from somewhere and infering rules\n",
    "# - Try yield-ing the Wave function at every step and redering that"
   ]
  },
  {
   "cell_type": "code",
   "execution_count": null,
   "id": "488a1dde",
   "metadata": {},
   "outputs": [
    {
     "data": {
      "text/plain": [
       "array([[4, 4, 2, 3, 1, 1, 1, 1, 1, 1],\n",
       "       [4, 2, 1, 1, 1, 1, 1, 1, 1, 1],\n",
       "       [4, 2, 1, 1, 1, 1, 1, 1, 1, 1],\n",
       "       [4, 2, 1, 1, 1, 1, 1, 1, 1, 1],\n",
       "       [4, 4, 3, 3, 1, 1, 1, 1, 1, 1],\n",
       "       [4, 4, 4, 4, 3, 1, 1, 1, 1, 1],\n",
       "       [4, 4, 4, 4, 3, 1, 1, 1, 1, 1],\n",
       "       [4, 4, 4, 4, 3, 1, 1, 1, 1, 1],\n",
       "       [4, 4, 4, 4, 3, 1, 1, 1, 1, 1],\n",
       "       [4, 4, 4, 4, 3, 1, 1, 1, 1, 1]])"
      ]
     },
     "execution_count": null,
     "metadata": {},
     "output_type": "execute_result"
    }
   ],
   "source": [
    "WaveG.sum(axis=-1)"
   ]
  },
  {
   "cell_type": "code",
   "execution_count": null,
   "id": "c3cd59b1",
   "metadata": {},
   "outputs": [],
   "source": [
    "Xs, Ys, Vs = np.nonzero(WaveG); # Xs, Ys, Vs"
   ]
  },
  {
   "cell_type": "code",
   "execution_count": null,
   "id": "036e8cef",
   "metadata": {},
   "outputs": [],
   "source": [
    "ImageW = [[list() for _ in range(N)] for _ in range(M)]\n",
    "for (X, Y, V) in zip(Xs, Ys, TileMatrix[Vs]):\n",
    "    ImageW[X][Y].append(V)\n",
    "ImageW2 = np.array([[np.mean(L2, axis=0) for L2 in L1] for L1 in ImageW])"
   ]
  },
  {
   "cell_type": "code",
   "execution_count": null,
   "id": "cac52797",
   "metadata": {},
   "outputs": [],
   "source": [
    "ImageW3 = np.stack([ImageW2[:, :, 0].flatten().reshape(N, M*2),\n",
    "                    ImageW2[:, :, 1].flatten().reshape(N, M*2)], axis=1).reshape(2*N, 2*M)"
   ]
  },
  {
   "cell_type": "code",
   "execution_count": null,
   "id": "92d0aeff",
   "metadata": {},
   "outputs": [
    {
     "data": {
      "image/png": "[encoded data removed]",
      "text/plain": [
       "<Figure size 432x288 with 1 Axes>"
      ]
     },
     "metadata": {
      "needs_background": "light"
     },
     "output_type": "display_data"
    }
   ],
   "source": [
    "show_image(ImageW3)"
   ]
  },
  {
   "cell_type": "code",
   "execution_count": null,
   "id": "3e102bb4",
   "metadata": {},
   "outputs": [],
   "source": []
  },
  {
   "cell_type": "code",
   "execution_count": null,
   "id": "6599a4eb",
   "metadata": {},
   "outputs": [],
   "source": []
  },
  {
   "cell_type": "code",
   "execution_count": null,
   "id": "659064a5",
   "metadata": {},
   "outputs": [],
   "source": []
  },
  {
   "cell_type": "code",
   "execution_count": null,
   "id": "3d86a51d",
   "metadata": {},
   "outputs": [],
   "source": []
  },
  {
   "cell_type": "code",
   "execution_count": null,
   "id": "741b331f",
   "metadata": {},
   "outputs": [],
   "source": []
  },
  {
   "cell_type": "code",
   "execution_count": null,
   "id": "8d92962e",
   "metadata": {},
   "outputs": [],
   "source": []
  },
  {
   "cell_type": "code",
   "execution_count": null,
   "id": "4ec2fc06",
   "metadata": {},
   "outputs": [],
   "source": []
  },
  {
   "cell_type": "code",
   "execution_count": null,
   "id": "79254819",
   "metadata": {},
   "outputs": [],
   "source": []
  },
  {
   "cell_type": "code",
   "execution_count": null,
   "id": "a9755861",
   "metadata": {},
   "outputs": [],
   "source": []
  },
  {
   "cell_type": "code",
   "execution_count": null,
   "id": "04c2cf92",
   "metadata": {},
   "outputs": [],
   "source": []
  },
  {
   "cell_type": "code",
   "execution_count": null,
   "id": "f56ee713",
   "metadata": {},
   "outputs": [],
   "source": []
  }
 ],
 "metadata": {
  "kernelspec": {
   "display_name": "Python 3 (ipykernel)",
   "language": "python",
   "name": "python3"
  }
 },
 "nbformat": 4,
 "nbformat_minor": 5
}
