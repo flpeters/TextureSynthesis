{
 "cells": [
  {
   "cell_type": "markdown",
   "id": "e6615129",
   "metadata": {},
   "source": [
    "Wave Function Collapse Algorithm  \n",
    "1. Have a set of tiles that will make up the world, together with rules which tiles fit next to each other.\n",
    "2. Pick a random empty tile in the world and randomly choose one of the tiles to fill it with\n",
    "3. Now propagate the neighboorhood rules to all cells, eliminating possibilities for which tiles can be placed where\n",
    "4. Chose the empty tile with the lowest number of possibilities, and randomly pick one of the possible tiles to place there\n",
    "5. Repeate the above steps until there are no more empty tiles.\n",
    "6. Ein Backtracking ist evtl. notwendig wenn der algorithmus an einen punkt gelangt wo eine zelle keine möglichen tiles hat die dort plaziert werden könnten.\n",
    "7. Wenn die regeln nicht gut gewählt sind, kann es (glaube ich) dazu kommen, dass bestimmte features nie generiert werden."
   ]
  },
  {
   "cell_type": "markdown",
   "id": "811394a9",
   "metadata": {},
   "source": [
    "The Tiles and the neighboorhood rules can be generated from an existing example.  \n",
    "1. For that purpose the image (2D) or mesh (3D) is analyzed for equally sized cells which appear multiple times (in essence what a compression algorithm would do).\n",
    "2. The szene is then split into these discrete chunks, and the neighboors of each chunk are analysed for infer neighboorhood rules.  \n",
    "3. The downside here is that variations that did not appear in the input, but would be consistent with its rules will not appear in the output. The output will however look quite similar structurally to the input."
   ]
  },
  {
   "cell_type": "code",
   "execution_count": 1,
   "id": "c37caef3",
   "metadata": {},
   "outputs": [],
   "source": [
    "import matplotlib.pyplot as plt\n",
    "import numpy as np"
   ]
  },
  {
   "cell_type": "markdown",
   "id": "c075f1bf",
   "metadata": {},
   "source": [
    "## 1D"
   ]
  },
  {
   "cell_type": "code",
   "execution_count": 2,
   "id": "7016970c",
   "metadata": {},
   "outputs": [],
   "source": [
    "def show_line(Line):\n",
    "    plt.axis('off')\n",
    "    plt.imshow([Line])"
   ]
  },
  {
   "cell_type": "code",
   "execution_count": 3,
   "id": "892d63e2",
   "metadata": {},
   "outputs": [
    {
     "data": {
      "image/png": "[encoded data removed]",
      "text/plain": [
       "<Figure size 432x288 with 1 Axes>"
      ]
     },
     "metadata": {
      "needs_background": "light"
     },
     "output_type": "display_data"
    }
   ],
   "source": [
    "show_line([1, 2, 3])"
   ]
  },
  {
   "cell_type": "code",
   "execution_count": 4,
   "id": "f22e70ae",
   "metadata": {},
   "outputs": [],
   "source": [
    "Line = np.zeros(shape=10)"
   ]
  },
  {
   "cell_type": "code",
   "execution_count": 5,
   "id": "a85cdb8d",
   "metadata": {},
   "outputs": [],
   "source": [
    "Line[0] = 1"
   ]
  },
  {
   "cell_type": "code",
   "execution_count": 6,
   "id": "5d7b21ee",
   "metadata": {},
   "outputs": [
    {
     "data": {
      "image/png": "[encoded data removed]",
      "text/plain": [
       "<Figure size 432x288 with 1 Axes>"
      ]
     },
     "metadata": {
      "needs_background": "light"
     },
     "output_type": "display_data"
    }
   ],
   "source": [
    "show_line(Line)"
   ]
  },
  {
   "cell_type": "code",
   "execution_count": 7,
   "id": "334fbd31",
   "metadata": {},
   "outputs": [],
   "source": [
    "Line[0] = 0"
   ]
  },
  {
   "cell_type": "code",
   "execution_count": 8,
   "id": "a90004e2",
   "metadata": {},
   "outputs": [
    {
     "data": {
      "text/plain": [
       "10"
      ]
     },
     "execution_count": 8,
     "metadata": {},
     "output_type": "execute_result"
    }
   ],
   "source": [
    "N, = Line.shape\n",
    "N"
   ]
  },
  {
   "cell_type": "code",
   "execution_count": 9,
   "id": "33ca238d",
   "metadata": {},
   "outputs": [
    {
     "data": {
      "text/plain": [
       "4"
      ]
     },
     "execution_count": 9,
     "metadata": {},
     "output_type": "execute_result"
    }
   ],
   "source": [
    "X = np.random.choice(N)\n",
    "X"
   ]
  },
  {
   "cell_type": "code",
   "execution_count": 10,
   "id": "27b219a9",
   "metadata": {},
   "outputs": [],
   "source": [
    "Line[X] = 1"
   ]
  },
  {
   "cell_type": "code",
   "execution_count": 11,
   "id": "4c8039f5",
   "metadata": {},
   "outputs": [
    {
     "data": {
      "image/png": "[encoded data removed]",
      "text/plain": [
       "<Figure size 432x288 with 1 Axes>"
      ]
     },
     "metadata": {
      "needs_background": "light"
     },
     "output_type": "display_data"
    }
   ],
   "source": [
    "show_line(Line)"
   ]
  },
  {
   "cell_type": "code",
   "execution_count": 12,
   "id": "75aa3a8d",
   "metadata": {},
   "outputs": [],
   "source": [
    "for x in range(X+1, N):\n",
    "    Line[x] = Line[x-1] + 1"
   ]
  },
  {
   "cell_type": "code",
   "execution_count": 13,
   "id": "09123928",
   "metadata": {},
   "outputs": [
    {
     "data": {
      "image/png": "[encoded data removed]",
      "text/plain": [
       "<Figure size 432x288 with 1 Axes>"
      ]
     },
     "metadata": {
      "needs_background": "light"
     },
     "output_type": "display_data"
    }
   ],
   "source": [
    "show_line(Line)"
   ]
  },
  {
   "cell_type": "code",
   "execution_count": 14,
   "id": "22c030e4",
   "metadata": {},
   "outputs": [],
   "source": [
    "for x in reversed(range(0, X)):\n",
    "    Line[x] = Line[x+1] + 1"
   ]
  },
  {
   "cell_type": "code",
   "execution_count": 15,
   "id": "0ebd5cb1",
   "metadata": {},
   "outputs": [
    {
     "data": {
      "image/png": "[encoded data removed]",
      "text/plain": [
       "<Figure size 432x288 with 1 Axes>"
      ]
     },
     "metadata": {
      "needs_background": "light"
     },
     "output_type": "display_data"
    }
   ],
   "source": [
    "show_line(Line)"
   ]
  },
  {
   "cell_type": "code",
   "execution_count": 46,
   "id": "54c00d24",
   "metadata": {},
   "outputs": [
    {
     "data": {
      "image/png": "[encoded data removed]",
      "text/plain": [
       "<Figure size 432x288 with 1 Axes>"
      ]
     },
     "metadata": {
      "needs_background": "light"
     },
     "output_type": "display_data"
    }
   ],
   "source": [
    "show_line(generate_gradient())"
   ]
  },
  {
   "cell_type": "code",
   "execution_count": 45,
   "id": "a54a93e1",
   "metadata": {},
   "outputs": [],
   "source": [
    "def generate_gradient():\n",
    "    Line = np.zeros(shape=10)\n",
    "    N, = Line.shape\n",
    "    X = np.random.choice(N)\n",
    "    Line[X] = 1\n",
    "    for x in range(X+1, N):\n",
    "        Line[x] = Line[x-1] + 1\n",
    "    for x in reversed(range(0, X)):\n",
    "        Line[x] = Line[x+1] + 1\n",
    "    return Line"
   ]
  },
  {
   "cell_type": "code",
   "execution_count": null,
   "id": "80c11b42",
   "metadata": {},
   "outputs": [],
   "source": []
  },
  {
   "cell_type": "markdown",
   "id": "82cf5eb0",
   "metadata": {},
   "source": [
    "## 2D"
   ]
  },
  {
   "cell_type": "code",
   "execution_count": 18,
   "id": "93c651ac",
   "metadata": {},
   "outputs": [],
   "source": [
    "def show_image(Image):\n",
    "    plt.axis('off')\n",
    "    plt.imshow(Image)"
   ]
  },
  {
   "cell_type": "code",
   "execution_count": 19,
   "id": "07cda4b3",
   "metadata": {},
   "outputs": [
    {
     "data": {
      "image/png": "[encoded data removed]",
      "text/plain": [
       "<Figure size 432x288 with 1 Axes>"
      ]
     },
     "metadata": {
      "needs_background": "light"
     },
     "output_type": "display_data"
    }
   ],
   "source": [
    "show_image([[1, 2], [2, 3]])"
   ]
  },
  {
   "cell_type": "code",
   "execution_count": 21,
   "id": "e77b23b4",
   "metadata": {},
   "outputs": [],
   "source": [
    "Grid = np.zeros(shape=(5, 5))"
   ]
  },
  {
   "cell_type": "code",
   "execution_count": 23,
   "id": "fa576bf2",
   "metadata": {},
   "outputs": [],
   "source": [
    "Grid[0, 0] = 1"
   ]
  },
  {
   "cell_type": "code",
   "execution_count": 24,
   "id": "c590852e",
   "metadata": {},
   "outputs": [
    {
     "data": {
      "image/png": "[encoded data removed]",
      "text/plain": [
       "<Figure size 432x288 with 1 Axes>"
      ]
     },
     "metadata": {
      "needs_background": "light"
     },
     "output_type": "display_data"
    }
   ],
   "source": [
    "show_image(Grid)"
   ]
  },
  {
   "cell_type": "code",
   "execution_count": 25,
   "id": "3b478750",
   "metadata": {},
   "outputs": [],
   "source": [
    "Grid[0, 0] = 0"
   ]
  },
  {
   "cell_type": "code",
   "execution_count": 28,
   "id": "29d7ece9",
   "metadata": {},
   "outputs": [
    {
     "data": {
      "text/plain": [
       "(5, 5)"
      ]
     },
     "execution_count": 28,
     "metadata": {},
     "output_type": "execute_result"
    }
   ],
   "source": [
    "N, M = Grid.shape\n",
    "N, M"
   ]
  },
  {
   "cell_type": "code",
   "execution_count": 50,
   "id": "f089db24",
   "metadata": {},
   "outputs": [
    {
     "data": {
      "text/plain": [
       "(4, 2)"
      ]
     },
     "execution_count": 50,
     "metadata": {},
     "output_type": "execute_result"
    }
   ],
   "source": [
    "X, Y  = np.random.choice(N), np.random.choice(M)\n",
    "X, Y"
   ]
  },
  {
   "cell_type": "code",
   "execution_count": 51,
   "id": "3f899332",
   "metadata": {},
   "outputs": [],
   "source": [
    "Grid[X, Y] = np.random.choice(3)"
   ]
  },
  {
   "cell_type": "code",
   "execution_count": 52,
   "id": "da1552ba",
   "metadata": {},
   "outputs": [
    {
     "data": {
      "image/png": "[encoded data removed]",
      "text/plain": [
       "<Figure size 432x288 with 1 Axes>"
      ]
     },
     "metadata": {
      "needs_background": "light"
     },
     "output_type": "display_data"
    }
   ],
   "source": [
    "show_image(Grid)"
   ]
  },
  {
   "cell_type": "code",
   "execution_count": 61,
   "id": "44d2c9f5",
   "metadata": {},
   "outputs": [
    {
     "data": {
      "text/plain": [
       "(4, 1)"
      ]
     },
     "execution_count": 61,
     "metadata": {},
     "output_type": "execute_result"
    }
   ],
   "source": [
    "NextTiles = [(3, 2), (4, 1), (4, 3)]\n",
    "NextTile = NextTiles[np.random.choice(len(NextTiles))]\n",
    "NextTile"
   ]
  },
  {
   "cell_type": "code",
   "execution_count": null,
   "id": "28feac80",
   "metadata": {},
   "outputs": [],
   "source": []
  },
  {
   "cell_type": "code",
   "execution_count": 59,
   "id": "1b2c4b79",
   "metadata": {},
   "outputs": [
    {
     "data": {
      "image/png": "[encoded data removed]",
      "text/plain": [
       "<Figure size 432x288 with 1 Axes>"
      ]
     },
     "metadata": {
      "needs_background": "light"
     },
     "output_type": "display_data"
    }
   ],
   "source": [
    "show_image(Grid)"
   ]
  },
  {
   "cell_type": "code",
   "execution_count": null,
   "id": "1b16b98f",
   "metadata": {},
   "outputs": [],
   "source": []
  },
  {
   "cell_type": "code",
   "execution_count": null,
   "id": "93490b1a",
   "metadata": {},
   "outputs": [],
   "source": []
  },
  {
   "cell_type": "code",
   "execution_count": null,
   "id": "f56ee713",
   "metadata": {},
   "outputs": [],
   "source": []
  }
 ],
 "metadata": {
  "kernelspec": {
   "display_name": "Python 3 (ipykernel)",
   "language": "python",
   "name": "python3"
  },
  "language_info": {
   "codemirror_mode": {
    "name": "ipython",
    "version": 3
   },
   "file_extension": ".py",
   "mimetype": "text/x-python",
   "name": "python",
   "nbconvert_exporter": "python",
   "pygments_lexer": "ipython3",
   "version": "3.9.7"
  }
 },
 "nbformat": 4,
 "nbformat_minor": 5
}
