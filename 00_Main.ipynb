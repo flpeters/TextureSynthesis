{
 "cells": [
  {
   "cell_type": "markdown",
   "id": "e6615129",
   "metadata": {},
   "source": [
    "Wave Function Collapse Algorithm  \n",
    "1. Have a set of tiles that will make up the world, together with rules which tiles fit next to each other.\n",
    "2. Pick a random empty tile in the world and randomly choose one of the tiles to fill it with\n",
    "3. Now propagate the neighboorhood rules to all cells, eliminating possibilities for which tiles can be placed where\n",
    "4. Chose the empty tile with the lowest number of possibilities, and randomly pick one of the possible tiles to place there\n",
    "5. Repeate the above steps until there are no more empty tiles.\n",
    "6. Ein Backtracking ist evtl. notwendig wenn der algorithmus an einen punkt gelangt wo eine zelle keine möglichen tiles hat die dort plaziert werden könnten.\n",
    "7. Wenn die regeln nicht gut gewählt sind, kann es (glaube ich) dazu kommen, dass bestimmte features nie generiert werden, oder dass man an einem Punkt ankommt wo eine zelle keine möglichen ausprägungen mehr hat."
   ]
  },
  {
   "cell_type": "markdown",
   "id": "811394a9",
   "metadata": {},
   "source": [
    "The Tiles and the neighboorhood rules can be generated from an existing example.  \n",
    "1. For that purpose the image (2D) or mesh (3D) is analyzed for equally sized cells which appear multiple times (in essence what a compression algorithm would do).\n",
    "2. The szene is then split into these discrete chunks, and the neighboors of each chunk are analysed for infer neighboorhood rules.  \n",
    "3. The downside here is that variations that did not appear in the input, but would be consistent with its rules will not appear in the output. The output will however look quite similar structurally to the input."
   ]
  },
  {
   "cell_type": "code",
   "execution_count": 1,
   "id": "c37caef3",
   "metadata": {},
   "outputs": [],
   "source": [
    "import matplotlib.pyplot as plt\n",
    "import numpy as np"
   ]
  },
  {
   "cell_type": "code",
   "execution_count": 2,
   "id": "1df29b71",
   "metadata": {},
   "outputs": [],
   "source": [
    "choice = np.random.choice"
   ]
  },
  {
   "cell_type": "markdown",
   "id": "c075f1bf",
   "metadata": {},
   "source": [
    "## 1D"
   ]
  },
  {
   "cell_type": "code",
   "execution_count": 3,
   "id": "76435cc9",
   "metadata": {},
   "outputs": [],
   "source": [
    "def show_line(Line):\n",
    "    plt.axis('off')\n",
    "    plt.imshow([Line])"
   ]
  },
  {
   "cell_type": "code",
   "execution_count": 4,
   "id": "c5470401",
   "metadata": {},
   "outputs": [
    {
     "data": {
      "image/png": "[encoded data removed]",
      "text/plain": [
       "<Figure size 432x288 with 1 Axes>"
      ]
     },
     "metadata": {
      "needs_background": "light"
     },
     "output_type": "display_data"
    }
   ],
   "source": [
    "show_line([1, 2, 3])"
   ]
  },
  {
   "cell_type": "markdown",
   "id": "7b11d71a",
   "metadata": {},
   "source": [
    "### Gradient"
   ]
  },
  {
   "cell_type": "code",
   "execution_count": 5,
   "id": "7986777a",
   "metadata": {},
   "outputs": [],
   "source": [
    "def generate_gradient():\n",
    "    Line = np.zeros(shape=10)\n",
    "    N, = Line.shape\n",
    "    X = np.random.choice(N)\n",
    "    Line[X] = 1\n",
    "    for x in range(X+1, N):\n",
    "        Line[x] = Line[x-1] + 1\n",
    "    for x in reversed(range(0, X)):\n",
    "        Line[x] = Line[x+1] + 1\n",
    "    return Line"
   ]
  },
  {
   "cell_type": "code",
   "execution_count": 16,
   "id": "d59bf280",
   "metadata": {},
   "outputs": [
    {
     "data": {
      "image/png": "[encoded data removed]",
      "text/plain": [
       "<Figure size 432x288 with 1 Axes>"
      ]
     },
     "metadata": {
      "needs_background": "light"
     },
     "output_type": "display_data"
    }
   ],
   "source": [
    "show_line(generate_gradient())"
   ]
  },
  {
   "cell_type": "markdown",
   "id": "e674bece",
   "metadata": {},
   "source": [
    "### Simple Wave Function Collapse"
   ]
  },
  {
   "cell_type": "markdown",
   "id": "78a69cef",
   "metadata": {},
   "source": [
    "#### Setup"
   ]
  },
  {
   "cell_type": "code",
   "execution_count": 159,
   "id": "35933d38",
   "metadata": {},
   "outputs": [],
   "source": [
    "N = 10"
   ]
  },
  {
   "cell_type": "code",
   "execution_count": 160,
   "id": "f0db4228",
   "metadata": {},
   "outputs": [
    {
     "data": {
      "text/plain": [
       "array([0, 0, 0, 0, 0, 0, 0, 0, 0, 0])"
      ]
     },
     "execution_count": 160,
     "metadata": {},
     "output_type": "execute_result"
    }
   ],
   "source": [
    "Line = np.zeros(N, dtype=int); Line"
   ]
  },
  {
   "cell_type": "code",
   "execution_count": 161,
   "id": "ba52a979",
   "metadata": {},
   "outputs": [
    {
     "data": {
      "image/png": "[encoded data removed]",
      "text/plain": [
       "<Figure size 432x288 with 1 Axes>"
      ]
     },
     "metadata": {
      "needs_background": "light"
     },
     "output_type": "display_data"
    }
   ],
   "source": [
    "show_line(Line)"
   ]
  },
  {
   "cell_type": "code",
   "execution_count": 162,
   "id": "8987f638",
   "metadata": {},
   "outputs": [
    {
     "data": {
      "text/plain": [
       "({0: 1, 1: 0}, [0, 1], array([0, 1]))"
      ]
     },
     "execution_count": 162,
     "metadata": {},
     "output_type": "execute_result"
    }
   ],
   "source": [
    "PossibleValuesRules = {\n",
    "    0: 1,\n",
    "    1: 0,\n",
    "}\n",
    "PossibleValues = list(PossibleValuesRules.keys())\n",
    "PossibleValuesIdxs = np.arange(len(PossibleValues))\n",
    "PossibleValuesRules, PossibleValues, PossibleValuesIdxs"
   ]
  },
  {
   "cell_type": "code",
   "execution_count": 163,
   "id": "0584f66e",
   "metadata": {},
   "outputs": [
    {
     "data": {
      "text/plain": [
       "array([[ True,  True],\n",
       "       [ True,  True],\n",
       "       [ True,  True],\n",
       "       [ True,  True],\n",
       "       [ True,  True],\n",
       "       [ True,  True],\n",
       "       [ True,  True],\n",
       "       [ True,  True],\n",
       "       [ True,  True],\n",
       "       [ True,  True]])"
      ]
     },
     "execution_count": 163,
     "metadata": {},
     "output_type": "execute_result"
    }
   ],
   "source": [
    "WaveFunction = np.ones(shape=(N, len(PossibleValuesRules)), dtype=bool); WaveFunction"
   ]
  },
  {
   "cell_type": "code",
   "execution_count": 164,
   "id": "2fbaf93f",
   "metadata": {},
   "outputs": [
    {
     "data": {
      "text/plain": [
       "array([False, False, False, False, False, False, False, False, False,\n",
       "       False])"
      ]
     },
     "execution_count": 164,
     "metadata": {},
     "output_type": "execute_result"
    }
   ],
   "source": [
    "LineHasCollapsed = np.zeros(shape=N, dtype=bool); LineHasCollapsed"
   ]
  },
  {
   "cell_type": "markdown",
   "id": "1695000b",
   "metadata": {},
   "source": [
    "#### First Iteration"
   ]
  },
  {
   "cell_type": "code",
   "execution_count": 167,
   "id": "b9038af1",
   "metadata": {},
   "outputs": [
    {
     "data": {
      "text/plain": [
       "8"
      ]
     },
     "execution_count": 167,
     "metadata": {},
     "output_type": "execute_result"
    }
   ],
   "source": [
    "X = choice(N); X"
   ]
  },
  {
   "cell_type": "code",
   "execution_count": 168,
   "id": "a96705bf",
   "metadata": {},
   "outputs": [
    {
     "data": {
      "text/plain": [
       "array([ True,  True])"
      ]
     },
     "execution_count": 168,
     "metadata": {},
     "output_type": "execute_result"
    }
   ],
   "source": [
    "WaveFunction[X]"
   ]
  },
  {
   "cell_type": "code",
   "execution_count": 169,
   "id": "7dc3fabe",
   "metadata": {},
   "outputs": [],
   "source": [
    "PossibleIdxForX = PossibleValuesIdxs[WaveFunction[X]]"
   ]
  },
  {
   "cell_type": "code",
   "execution_count": 170,
   "id": "294d5fa2",
   "metadata": {},
   "outputs": [],
   "source": [
    "assert len(PossibleIdxForX) > 0"
   ]
  },
  {
   "cell_type": "code",
   "execution_count": 171,
   "id": "3e8b119a",
   "metadata": {},
   "outputs": [
    {
     "data": {
      "text/plain": [
       "0"
      ]
     },
     "execution_count": 171,
     "metadata": {},
     "output_type": "execute_result"
    }
   ],
   "source": [
    "ChoiceIdxForX = choice(PossibleIdxForX); ChoiceIdxForX"
   ]
  },
  {
   "cell_type": "code",
   "execution_count": 172,
   "id": "5d71139f",
   "metadata": {},
   "outputs": [
    {
     "data": {
      "text/plain": [
       "0"
      ]
     },
     "execution_count": 172,
     "metadata": {},
     "output_type": "execute_result"
    }
   ],
   "source": [
    "ChoiceForX = PossibleValues[PossibleValuesIdxs[ChoiceIdxForX]]; ChoiceForX"
   ]
  },
  {
   "cell_type": "code",
   "execution_count": 173,
   "id": "179af27c",
   "metadata": {},
   "outputs": [],
   "source": [
    "Line[X] = ChoiceForX"
   ]
  },
  {
   "cell_type": "code",
   "execution_count": 174,
   "id": "633cf09b",
   "metadata": {},
   "outputs": [
    {
     "data": {
      "image/png": "[encoded data removed]",
      "text/plain": [
       "<Figure size 432x288 with 1 Axes>"
      ]
     },
     "metadata": {
      "needs_background": "light"
     },
     "output_type": "display_data"
    }
   ],
   "source": [
    "show_line(Line)"
   ]
  },
  {
   "cell_type": "markdown",
   "id": "cefc4873",
   "metadata": {},
   "source": [
    "#### Choice has been made, propagate changes"
   ]
  },
  {
   "cell_type": "code",
   "execution_count": 175,
   "id": "428a2e37",
   "metadata": {},
   "outputs": [
    {
     "data": {
      "text/plain": [
       "array([False, False, False, False, False, False, False, False,  True,\n",
       "       False])"
      ]
     },
     "execution_count": 175,
     "metadata": {},
     "output_type": "execute_result"
    }
   ],
   "source": [
    "LineHasCollapsed[X] = True; LineHasCollapsed"
   ]
  },
  {
   "cell_type": "code",
   "execution_count": 176,
   "id": "6f3df326",
   "metadata": {},
   "outputs": [
    {
     "data": {
      "text/plain": [
       "array([[ True,  True],\n",
       "       [ True,  True],\n",
       "       [ True,  True],\n",
       "       [ True,  True],\n",
       "       [ True,  True],\n",
       "       [ True,  True],\n",
       "       [ True,  True],\n",
       "       [ True,  True],\n",
       "       [False, False],\n",
       "       [ True,  True]])"
      ]
     },
     "execution_count": 176,
     "metadata": {},
     "output_type": "execute_result"
    }
   ],
   "source": [
    "WaveFunction[X] = False;\n",
    "WaveFunction"
   ]
  },
  {
   "cell_type": "code",
   "execution_count": 177,
   "id": "6f17ea99",
   "metadata": {},
   "outputs": [
    {
     "data": {
      "text/plain": [
       "({0: 1, 1: 0}, [0, 1], array([0, 1]))"
      ]
     },
     "execution_count": 177,
     "metadata": {},
     "output_type": "execute_result"
    }
   ],
   "source": [
    "PossibleValuesRules, PossibleValues, PossibleValuesIdxs"
   ]
  },
  {
   "cell_type": "code",
   "execution_count": 196,
   "id": "22146025",
   "metadata": {},
   "outputs": [
    {
     "name": "stdout",
     "output_type": "stream",
     "text": [
      "0 Collapsed\n",
      "1 Collapsed\n",
      "2 Collapsed\n",
      "3 Collapsed\n",
      "4 Collapsed\n",
      "5 Collapsed\n",
      "6 Collapsed\n",
      "7 Collapsed\n",
      "8 Collapsed\n",
      "9 Collapsed\n"
     ]
    },
    {
     "data": {
      "text/plain": [
       "array([[False, False],\n",
       "       [False, False],\n",
       "       [False, False],\n",
       "       [False, False],\n",
       "       [False, False],\n",
       "       [False, False],\n",
       "       [False, False],\n",
       "       [False, False],\n",
       "       [False, False],\n",
       "       [False, False]])"
      ]
     },
     "execution_count": 196,
     "metadata": {},
     "output_type": "execute_result"
    }
   ],
   "source": [
    "for i in range(0, N):\n",
    "    if LineHasCollapsed[i]:\n",
    "        print(f'{i} Collapsed')\n",
    "        continue # Dont update the wavefunction of a cell that has already collapsed\n",
    "    CurrentElement      = Line[i]\n",
    "    CurrentWaveFunction = WaveFunction[i]\n",
    "    NewWaveFunction     = np.ones_like(CurrentWaveFunction)\n",
    "    \n",
    "    def check_element(idx):\n",
    "        OtherElement, OtherWaveFunction = Line[idx], WaveFunction[idx]\n",
    "        # check what values are possible at the current element,\n",
    "        # based on what is present at this neighboor.\n",
    "        if LineHasCollapsed[idx]:\n",
    "            # in this case, just check the rules for the concrete value\n",
    "            # remove all possibilities that are not listed for this value\n",
    "            AllowedValue = PossibleValuesRules[OtherElement]\n",
    "            for ValueIdx, Value in enumerate(PossibleValues):\n",
    "                if Value == AllowedValue:\n",
    "                    # if another cell has already made this value impossible, it cant be made possible again here.\n",
    "                    NewWaveFunction[ValueIdx] &= True\n",
    "                else:\n",
    "                    NewWaveFunction[ValueIdx] = False\n",
    "        else:\n",
    "            # check the rules for all possible values acording to the wave function\n",
    "            AllowedValues = [PossibleValuesRules[V] for V, W in zip(PossibleValues, OtherWaveFunction)  if W]\n",
    "            for ValueIdx, Value in enumerate(PossibleValues):\n",
    "                if Value in AllowedValues:\n",
    "                    # if another cell has already made this value impossible, it cant be made possible again here.\n",
    "                    NewWaveFunction[ValueIdx] &= True\n",
    "                else:\n",
    "                    NewWaveFunction[ValueIdx] = False\n",
    "            \n",
    "    if i > 0:\n",
    "        check_element(i-1)\n",
    "    if i < N-1:\n",
    "        check_element(i+1)\n",
    "    NumberOfPossibleValues = sum(NewWaveFunction)\n",
    "    assert NumberOfPossibleValues != 0, f'{i} {WaveFunction}'\n",
    "    # if there is only one possible value remaining, collapse this element (maybe do this in a separate pass later)\n",
    "    if NumberOfPossibleValues == 1:\n",
    "        Line[i]             = PossibleValues[PossibleValuesIdxs[NewWaveFunction][0]]\n",
    "        LineHasCollapsed[i] = True\n",
    "        WaveFunction[i]     = False\n",
    "    else:\n",
    "        WaveFunction[i] = NewWaveFunction\n",
    "    # print(i, CurrentWaveFunction, NewWaveFunction)\n",
    "WaveFunction"
   ]
  },
  {
   "cell_type": "code",
   "execution_count": 197,
   "id": "2cbdd2a5",
   "metadata": {},
   "outputs": [
    {
     "data": {
      "image/png": "[encoded data removed]",
      "text/plain": [
       "<Figure size 432x288 with 1 Axes>"
      ]
     },
     "metadata": {
      "needs_background": "light"
     },
     "output_type": "display_data"
    }
   ],
   "source": [
    "show_line(Line)"
   ]
  },
  {
   "cell_type": "code",
   "execution_count": null,
   "id": "8f073a23",
   "metadata": {},
   "outputs": [],
   "source": []
  },
  {
   "cell_type": "code",
   "execution_count": null,
   "id": "da44c59a",
   "metadata": {},
   "outputs": [],
   "source": []
  },
  {
   "cell_type": "code",
   "execution_count": null,
   "id": "41c421c1",
   "metadata": {},
   "outputs": [],
   "source": []
  },
  {
   "cell_type": "code",
   "execution_count": null,
   "id": "3cd8f6ac",
   "metadata": {},
   "outputs": [],
   "source": []
  },
  {
   "cell_type": "markdown",
   "id": "82cf5eb0",
   "metadata": {},
   "source": [
    "## 2D"
   ]
  },
  {
   "cell_type": "code",
   "execution_count": 18,
   "id": "93c651ac",
   "metadata": {},
   "outputs": [],
   "source": [
    "def show_image(Image):\n",
    "    plt.axis('off')\n",
    "    plt.imshow(Image)"
   ]
  },
  {
   "cell_type": "code",
   "execution_count": 19,
   "id": "07cda4b3",
   "metadata": {},
   "outputs": [
    {
     "data": {
      "image/png": "[encoded data removed]",
      "text/plain": [
       "<Figure size 432x288 with 1 Axes>"
      ]
     },
     "metadata": {
      "needs_background": "light"
     },
     "output_type": "display_data"
    }
   ],
   "source": [
    "show_image([[1, 2], [2, 3]])"
   ]
  },
  {
   "cell_type": "code",
   "execution_count": 21,
   "id": "e77b23b4",
   "metadata": {},
   "outputs": [],
   "source": [
    "Grid = np.zeros(shape=(5, 5))"
   ]
  },
  {
   "cell_type": "code",
   "execution_count": 23,
   "id": "fa576bf2",
   "metadata": {},
   "outputs": [],
   "source": [
    "Grid[0, 0] = 1"
   ]
  },
  {
   "cell_type": "code",
   "execution_count": 24,
   "id": "c590852e",
   "metadata": {},
   "outputs": [
    {
     "data": {
      "image/png": "[encoded data removed]",
      "text/plain": [
       "<Figure size 432x288 with 1 Axes>"
      ]
     },
     "metadata": {
      "needs_background": "light"
     },
     "output_type": "display_data"
    }
   ],
   "source": [
    "show_image(Grid)"
   ]
  },
  {
   "cell_type": "code",
   "execution_count": 25,
   "id": "3b478750",
   "metadata": {},
   "outputs": [],
   "source": [
    "Grid[0, 0] = 0"
   ]
  },
  {
   "cell_type": "code",
   "execution_count": 28,
   "id": "29d7ece9",
   "metadata": {},
   "outputs": [
    {
     "data": {
      "text/plain": [
       "(5, 5)"
      ]
     },
     "execution_count": 28,
     "metadata": {},
     "output_type": "execute_result"
    }
   ],
   "source": [
    "N, M = Grid.shape\n",
    "N, M"
   ]
  },
  {
   "cell_type": "code",
   "execution_count": 50,
   "id": "f089db24",
   "metadata": {},
   "outputs": [
    {
     "data": {
      "text/plain": [
       "(4, 2)"
      ]
     },
     "execution_count": 50,
     "metadata": {},
     "output_type": "execute_result"
    }
   ],
   "source": [
    "X, Y  = np.random.choice(N), np.random.choice(M)\n",
    "X, Y"
   ]
  },
  {
   "cell_type": "code",
   "execution_count": 51,
   "id": "3f899332",
   "metadata": {},
   "outputs": [],
   "source": [
    "Grid[X, Y] = np.random.choice(3)"
   ]
  },
  {
   "cell_type": "code",
   "execution_count": 52,
   "id": "da1552ba",
   "metadata": {},
   "outputs": [
    {
     "data": {
      "image/png": "[encoded data removed]",
      "text/plain": [
       "<Figure size 432x288 with 1 Axes>"
      ]
     },
     "metadata": {
      "needs_background": "light"
     },
     "output_type": "display_data"
    }
   ],
   "source": [
    "show_image(Grid)"
   ]
  },
  {
   "cell_type": "code",
   "execution_count": 61,
   "id": "44d2c9f5",
   "metadata": {},
   "outputs": [
    {
     "data": {
      "text/plain": [
       "(4, 1)"
      ]
     },
     "execution_count": 61,
     "metadata": {},
     "output_type": "execute_result"
    }
   ],
   "source": [
    "NextTiles = [(3, 2), (4, 1), (4, 3)]\n",
    "NextTile = NextTiles[np.random.choice(len(NextTiles))]\n",
    "NextTile"
   ]
  },
  {
   "cell_type": "code",
   "execution_count": null,
   "id": "28feac80",
   "metadata": {},
   "outputs": [],
   "source": []
  },
  {
   "cell_type": "code",
   "execution_count": 59,
   "id": "1b2c4b79",
   "metadata": {},
   "outputs": [
    {
     "data": {
      "image/png": "[encoded data removed]",
      "text/plain": [
       "<Figure size 432x288 with 1 Axes>"
      ]
     },
     "metadata": {
      "needs_background": "light"
     },
     "output_type": "display_data"
    }
   ],
   "source": [
    "show_image(Grid)"
   ]
  },
  {
   "cell_type": "code",
   "execution_count": null,
   "id": "1b16b98f",
   "metadata": {},
   "outputs": [],
   "source": []
  },
  {
   "cell_type": "code",
   "execution_count": null,
   "id": "93490b1a",
   "metadata": {},
   "outputs": [],
   "source": []
  },
  {
   "cell_type": "code",
   "execution_count": null,
   "id": "f56ee713",
   "metadata": {},
   "outputs": [],
   "source": []
  }
 ],
 "metadata": {
  "kernelspec": {
   "display_name": "Python 3 (ipykernel)",
   "language": "python",
   "name": "python3"
  },
  "language_info": {
   "codemirror_mode": {
    "name": "ipython",
    "version": 3
   },
   "file_extension": ".py",
   "mimetype": "text/x-python",
   "name": "python",
   "nbconvert_exporter": "python",
   "pygments_lexer": "ipython3",
   "version": "3.9.7"
  }
 },
 "nbformat": 4,
 "nbformat_minor": 5
}
